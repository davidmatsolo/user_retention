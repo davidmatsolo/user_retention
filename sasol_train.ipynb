{
 "cells": [
  {
   "cell_type": "code",
   "execution_count": 123,
   "id": "21984e44",
   "metadata": {
    "executionInfo": {
     "elapsed": 1556,
     "status": "ok",
     "timestamp": 1700917410663,
     "user": {
      "displayName": "Matsolo Sokolo",
      "userId": "11566973559157574788"
     },
     "user_tz": -120
    },
    "id": "e361b06c"
   },
   "outputs": [],
   "source": [
    "import pandas as pd\n",
    "import numpy as np\n",
    "import matplotlib.pyplot as plt\n",
    "from tqdm import tqdm\n",
    "from sklearn.utils import resample\n",
    "from sklearn.preprocessing import StandardScaler, OneHotEncoder\n",
    "from sklearn.impute import SimpleImputer\n",
    "from sklearn.compose import ColumnTransformer\n",
    "from sklearn.pipeline import Pipeline\n",
    "import sys\n"
   ]
  },
  {
   "cell_type": "code",
   "execution_count": 124,
   "id": "bb8aaaa1",
   "metadata": {
    "executionInfo": {
     "elapsed": 9490,
     "status": "ok",
     "timestamp": 1700917445169,
     "user": {
      "displayName": "Matsolo Sokolo",
      "userId": "11566973559157574788"
     },
     "user_tz": -120
    },
    "id": "4fb4799e"
   },
   "outputs": [],
   "source": [
    "df = pd.read_csv(\"D:/big data/practice/sasol_user_retention/Train.csv\")"
   ]
  },
  {
   "cell_type": "code",
   "execution_count": 125,
   "id": "36ca24dc",
   "metadata": {
    "colab": {
     "base_uri": "https://localhost:8080/"
    },
    "executionInfo": {
     "elapsed": 35,
     "status": "ok",
     "timestamp": 1700917445170,
     "user": {
      "displayName": "Matsolo Sokolo",
      "userId": "11566973559157574788"
     },
     "user_tz": -120
    },
    "id": "88ca672b",
    "outputId": "27387133-0742-4266-dc5a-f6109afb89ab"
   },
   "outputs": [
    {
     "data": {
      "text/plain": [
       "(1507834, 19)"
      ]
     },
     "execution_count": 125,
     "metadata": {},
     "output_type": "execute_result"
    }
   ],
   "source": [
    "data_frame = df.copy()\n",
    "data_frame.shape"
   ]
  },
  {
   "cell_type": "code",
   "execution_count": 126,
   "id": "f5a8861d",
   "metadata": {
    "colab": {
     "base_uri": "https://localhost:8080/",
     "height": 313
    },
    "executionInfo": {
     "elapsed": 30,
     "status": "ok",
     "timestamp": 1700917445171,
     "user": {
      "displayName": "Matsolo Sokolo",
      "userId": "11566973559157574788"
     },
     "user_tz": -120
    },
    "id": "4c12461a",
    "outputId": "7531eb3b-4326-4c14-f3d9-510f98cf3e29"
   },
   "outputs": [
    {
     "data": {
      "text/html": [
       "<div>\n",
       "<style scoped>\n",
       "    .dataframe tbody tr th:only-of-type {\n",
       "        vertical-align: middle;\n",
       "    }\n",
       "\n",
       "    .dataframe tbody tr th {\n",
       "        vertical-align: top;\n",
       "    }\n",
       "\n",
       "    .dataframe thead th {\n",
       "        text-align: right;\n",
       "    }\n",
       "</style>\n",
       "<table border=\"1\" class=\"dataframe\">\n",
       "  <thead>\n",
       "    <tr style=\"text-align: right;\">\n",
       "      <th></th>\n",
       "      <th>ID</th>\n",
       "      <th>region</th>\n",
       "      <th>tenure</th>\n",
       "      <th>Amount</th>\n",
       "      <th>refill_frequency</th>\n",
       "      <th>revenue</th>\n",
       "      <th>arpu_segment</th>\n",
       "      <th>frequency</th>\n",
       "      <th>data_volume</th>\n",
       "      <th>on_net</th>\n",
       "      <th>Procuct_1</th>\n",
       "      <th>Procuct_2</th>\n",
       "      <th>zone1</th>\n",
       "      <th>zone2</th>\n",
       "      <th>mrg</th>\n",
       "      <th>regularity</th>\n",
       "      <th>top_pack</th>\n",
       "      <th>freq_top_pack</th>\n",
       "      <th>Target</th>\n",
       "    </tr>\n",
       "  </thead>\n",
       "  <tbody>\n",
       "    <tr>\n",
       "      <th>0</th>\n",
       "      <td>ID_YEB05X4KUGPQ</td>\n",
       "      <td>NaN</td>\n",
       "      <td>K &gt; 24 month</td>\n",
       "      <td>NaN</td>\n",
       "      <td>NaN</td>\n",
       "      <td>NaN</td>\n",
       "      <td>NaN</td>\n",
       "      <td>NaN</td>\n",
       "      <td>NaN</td>\n",
       "      <td>NaN</td>\n",
       "      <td>NaN</td>\n",
       "      <td>NaN</td>\n",
       "      <td>NaN</td>\n",
       "      <td>NaN</td>\n",
       "      <td>NO</td>\n",
       "      <td>3</td>\n",
       "      <td>NaN</td>\n",
       "      <td>NaN</td>\n",
       "      <td>0</td>\n",
       "    </tr>\n",
       "    <tr>\n",
       "      <th>1</th>\n",
       "      <td>ID_Z9IQ9QH52KVN</td>\n",
       "      <td>Nebula</td>\n",
       "      <td>K &gt; 24 month</td>\n",
       "      <td>4764.96</td>\n",
       "      <td>41.0</td>\n",
       "      <td>4756.84</td>\n",
       "      <td>1585.47</td>\n",
       "      <td>41.0</td>\n",
       "      <td>2.0</td>\n",
       "      <td>626.0</td>\n",
       "      <td>24.0</td>\n",
       "      <td>NaN</td>\n",
       "      <td>NaN</td>\n",
       "      <td>NaN</td>\n",
       "      <td>NO</td>\n",
       "      <td>62</td>\n",
       "      <td>On net 200F=Unlimited _call24H</td>\n",
       "      <td>31.0</td>\n",
       "      <td>0</td>\n",
       "    </tr>\n",
       "    <tr>\n",
       "      <th>2</th>\n",
       "      <td>ID_YZSU7B7M35QS</td>\n",
       "      <td>Celestial</td>\n",
       "      <td>K &gt; 24 month</td>\n",
       "      <td>5769.23</td>\n",
       "      <td>22.0</td>\n",
       "      <td>5769.23</td>\n",
       "      <td>1923.08</td>\n",
       "      <td>22.0</td>\n",
       "      <td>28121.0</td>\n",
       "      <td>0.0</td>\n",
       "      <td>NaN</td>\n",
       "      <td>1.0</td>\n",
       "      <td>NaN</td>\n",
       "      <td>NaN</td>\n",
       "      <td>NO</td>\n",
       "      <td>61</td>\n",
       "      <td>NaN</td>\n",
       "      <td>NaN</td>\n",
       "      <td>0</td>\n",
       "    </tr>\n",
       "    <tr>\n",
       "      <th>3</th>\n",
       "      <td>ID_QS4F5LEX29KM</td>\n",
       "      <td>NaN</td>\n",
       "      <td>K &gt; 24 month</td>\n",
       "      <td>NaN</td>\n",
       "      <td>NaN</td>\n",
       "      <td>NaN</td>\n",
       "      <td>NaN</td>\n",
       "      <td>NaN</td>\n",
       "      <td>NaN</td>\n",
       "      <td>NaN</td>\n",
       "      <td>NaN</td>\n",
       "      <td>NaN</td>\n",
       "      <td>NaN</td>\n",
       "      <td>NaN</td>\n",
       "      <td>NO</td>\n",
       "      <td>6</td>\n",
       "      <td>NaN</td>\n",
       "      <td>NaN</td>\n",
       "      <td>0</td>\n",
       "    </tr>\n",
       "    <tr>\n",
       "      <th>4</th>\n",
       "      <td>ID_8IYIC9PFU8U1</td>\n",
       "      <td>Eclipsara</td>\n",
       "      <td>K &gt; 24 month</td>\n",
       "      <td>5341.88</td>\n",
       "      <td>58.0</td>\n",
       "      <td>5636.75</td>\n",
       "      <td>1879.06</td>\n",
       "      <td>60.0</td>\n",
       "      <td>1131.0</td>\n",
       "      <td>546.0</td>\n",
       "      <td>376.0</td>\n",
       "      <td>0.0</td>\n",
       "      <td>NaN</td>\n",
       "      <td>NaN</td>\n",
       "      <td>NO</td>\n",
       "      <td>62</td>\n",
       "      <td>Mixt 250F=Unlimited_call24H</td>\n",
       "      <td>31.0</td>\n",
       "      <td>0</td>\n",
       "    </tr>\n",
       "  </tbody>\n",
       "</table>\n",
       "</div>"
      ],
      "text/plain": [
       "                ID     region        tenure   Amount  refill_frequency  \\\n",
       "0  ID_YEB05X4KUGPQ        NaN  K > 24 month      NaN               NaN   \n",
       "1  ID_Z9IQ9QH52KVN     Nebula  K > 24 month  4764.96              41.0   \n",
       "2  ID_YZSU7B7M35QS  Celestial  K > 24 month  5769.23              22.0   \n",
       "3  ID_QS4F5LEX29KM        NaN  K > 24 month      NaN               NaN   \n",
       "4  ID_8IYIC9PFU8U1  Eclipsara  K > 24 month  5341.88              58.0   \n",
       "\n",
       "   revenue  arpu_segment  frequency  data_volume  on_net  Procuct_1  \\\n",
       "0      NaN           NaN        NaN          NaN     NaN        NaN   \n",
       "1  4756.84       1585.47       41.0          2.0   626.0       24.0   \n",
       "2  5769.23       1923.08       22.0      28121.0     0.0        NaN   \n",
       "3      NaN           NaN        NaN          NaN     NaN        NaN   \n",
       "4  5636.75       1879.06       60.0       1131.0   546.0      376.0   \n",
       "\n",
       "   Procuct_2  zone1  zone2 mrg  regularity                        top_pack  \\\n",
       "0        NaN    NaN    NaN  NO           3                             NaN   \n",
       "1        NaN    NaN    NaN  NO          62  On net 200F=Unlimited _call24H   \n",
       "2        1.0    NaN    NaN  NO          61                             NaN   \n",
       "3        NaN    NaN    NaN  NO           6                             NaN   \n",
       "4        0.0    NaN    NaN  NO          62     Mixt 250F=Unlimited_call24H   \n",
       "\n",
       "   freq_top_pack  Target  \n",
       "0            NaN       0  \n",
       "1           31.0       0  \n",
       "2            NaN       0  \n",
       "3            NaN       0  \n",
       "4           31.0       0  "
      ]
     },
     "execution_count": 126,
     "metadata": {},
     "output_type": "execute_result"
    }
   ],
   "source": [
    "data_frame.head()"
   ]
  },
  {
   "cell_type": "markdown",
   "id": "f13009ef",
   "metadata": {
    "id": "a4c95b0a"
   },
   "source": [
    "# EDA via Descriptive Statistics\n"
   ]
  },
  {
   "cell_type": "code",
   "execution_count": 127,
   "id": "e0122d7e",
   "metadata": {
    "colab": {
     "base_uri": "https://localhost:8080/"
    },
    "executionInfo": {
     "elapsed": 28,
     "status": "ok",
     "timestamp": 1700917445172,
     "user": {
      "displayName": "Matsolo Sokolo",
      "userId": "11566973559157574788"
     },
     "user_tz": -120
    },
    "id": "147fd14e",
    "outputId": "b4076e4a-04c2-4190-c981-96325fb1b829"
   },
   "outputs": [
    {
     "name": "stdout",
     "output_type": "stream",
     "text": [
      "<class 'pandas.core.frame.DataFrame'>\n",
      "RangeIndex: 1507834 entries, 0 to 1507833\n",
      "Data columns (total 19 columns):\n",
      " #   Column            Non-Null Count    Dtype  \n",
      "---  ------            --------------    -----  \n",
      " 0   ID                1507834 non-null  object \n",
      " 1   region            913743 non-null   object \n",
      " 2   tenure            1507834 non-null  object \n",
      " 3   Amount            978320 non-null   float64\n",
      " 4   refill_frequency  978320 non-null   float64\n",
      " 5   revenue           999713 non-null   float64\n",
      " 6   arpu_segment      999713 non-null   float64\n",
      " 7   frequency         999713 non-null   float64\n",
      " 8   data_volume       766028 non-null   float64\n",
      " 9   on_net            957192 non-null   float64\n",
      " 10  Procuct_1         881271 non-null   float64\n",
      " 11  Procuct_2         604784 non-null   float64\n",
      " 12  zone1             118986 non-null   float64\n",
      " 13  zone2             95505 non-null    float64\n",
      " 14  mrg               1507834 non-null  object \n",
      " 15  regularity        1507834 non-null  int64  \n",
      " 16  top_pack          876011 non-null   object \n",
      " 17  freq_top_pack     876011 non-null   float64\n",
      " 18  Target            1507834 non-null  int64  \n",
      "dtypes: float64(12), int64(2), object(5)\n",
      "memory usage: 218.6+ MB\n"
     ]
    }
   ],
   "source": [
    "data_frame.info()"
   ]
  },
  {
   "cell_type": "code",
   "execution_count": 128,
   "id": "f1394ee9",
   "metadata": {
    "colab": {
     "base_uri": "https://localhost:8080/"
    },
    "executionInfo": {
     "elapsed": 23,
     "status": "ok",
     "timestamp": 1700917445172,
     "user": {
      "displayName": "Matsolo Sokolo",
      "userId": "11566973559157574788"
     },
     "user_tz": -120
    },
    "id": "39b4abc1",
    "outputId": "5f5254b3-16e2-4ab2-ee8e-46c9b48ec668"
   },
   "outputs": [
    {
     "data": {
      "text/plain": [
       "ID                   object\n",
       "tenure               object\n",
       "top_pack             object\n",
       "mrg                  object\n",
       "region               object\n",
       "Procuct_1           float64\n",
       "freq_top_pack       float64\n",
       "zone2               float64\n",
       "zone1               float64\n",
       "Procuct_2           float64\n",
       "on_net              float64\n",
       "data_volume         float64\n",
       "frequency           float64\n",
       "arpu_segment        float64\n",
       "revenue             float64\n",
       "refill_frequency    float64\n",
       "Amount              float64\n",
       "regularity            int64\n",
       "Target                int64\n",
       "dtype: object"
      ]
     },
     "execution_count": 128,
     "metadata": {},
     "output_type": "execute_result"
    }
   ],
   "source": [
    "data_frame.dtypes.sort_values(ascending=False)"
   ]
  },
  {
   "cell_type": "code",
   "execution_count": 129,
   "id": "830711d4",
   "metadata": {
    "executionInfo": {
     "elapsed": 19,
     "status": "ok",
     "timestamp": 1700917445173,
     "user": {
      "displayName": "Matsolo Sokolo",
      "userId": "11566973559157574788"
     },
     "user_tz": -120
    },
    "id": "89b79cb6"
   },
   "outputs": [],
   "source": [
    "from scipy import stats"
   ]
  },
  {
   "cell_type": "code",
   "execution_count": 130,
   "id": "091af798",
   "metadata": {
    "colab": {
     "base_uri": "https://localhost:8080/",
     "height": 432
    },
    "executionInfo": {
     "elapsed": 1911,
     "status": "ok",
     "timestamp": 1700917447066,
     "user": {
      "displayName": "Matsolo Sokolo",
      "userId": "11566973559157574788"
     },
     "user_tz": -120
    },
    "id": "1f487c50",
    "outputId": "c38f33b8-f439-46c7-b0b8-dd116a1997d7"
   },
   "outputs": [
    {
     "data": {
      "text/html": [
       "<div>\n",
       "<style scoped>\n",
       "    .dataframe tbody tr th:only-of-type {\n",
       "        vertical-align: middle;\n",
       "    }\n",
       "\n",
       "    .dataframe tbody tr th {\n",
       "        vertical-align: top;\n",
       "    }\n",
       "\n",
       "    .dataframe thead th {\n",
       "        text-align: right;\n",
       "    }\n",
       "</style>\n",
       "<table border=\"1\" class=\"dataframe\">\n",
       "  <thead>\n",
       "    <tr style=\"text-align: right;\">\n",
       "      <th></th>\n",
       "      <th>ID</th>\n",
       "      <th>region</th>\n",
       "      <th>tenure</th>\n",
       "      <th>Amount</th>\n",
       "      <th>refill_frequency</th>\n",
       "      <th>revenue</th>\n",
       "      <th>arpu_segment</th>\n",
       "      <th>frequency</th>\n",
       "      <th>data_volume</th>\n",
       "      <th>on_net</th>\n",
       "      <th>Procuct_1</th>\n",
       "      <th>Procuct_2</th>\n",
       "      <th>zone1</th>\n",
       "      <th>zone2</th>\n",
       "      <th>mrg</th>\n",
       "      <th>regularity</th>\n",
       "      <th>top_pack</th>\n",
       "      <th>freq_top_pack</th>\n",
       "      <th>Target</th>\n",
       "    </tr>\n",
       "  </thead>\n",
       "  <tbody>\n",
       "    <tr>\n",
       "      <th>count</th>\n",
       "      <td>1507834</td>\n",
       "      <td>913743</td>\n",
       "      <td>1507834</td>\n",
       "      <td>978320.000000</td>\n",
       "      <td>978320.000000</td>\n",
       "      <td>999713.000000</td>\n",
       "      <td>999713.000000</td>\n",
       "      <td>999713.000000</td>\n",
       "      <td>7.660280e+05</td>\n",
       "      <td>957192.000000</td>\n",
       "      <td>881271.000000</td>\n",
       "      <td>604784.000000</td>\n",
       "      <td>118986.000000</td>\n",
       "      <td>95505.000000</td>\n",
       "      <td>1507834</td>\n",
       "      <td>1.507834e+06</td>\n",
       "      <td>876011</td>\n",
       "      <td>876011.000000</td>\n",
       "      <td>1.507834e+06</td>\n",
       "    </tr>\n",
       "    <tr>\n",
       "      <th>unique</th>\n",
       "      <td>1507834</td>\n",
       "      <td>14</td>\n",
       "      <td>8</td>\n",
       "      <td>NaN</td>\n",
       "      <td>NaN</td>\n",
       "      <td>NaN</td>\n",
       "      <td>NaN</td>\n",
       "      <td>NaN</td>\n",
       "      <td>NaN</td>\n",
       "      <td>NaN</td>\n",
       "      <td>NaN</td>\n",
       "      <td>NaN</td>\n",
       "      <td>NaN</td>\n",
       "      <td>NaN</td>\n",
       "      <td>1</td>\n",
       "      <td>NaN</td>\n",
       "      <td>130</td>\n",
       "      <td>NaN</td>\n",
       "      <td>NaN</td>\n",
       "    </tr>\n",
       "    <tr>\n",
       "      <th>top</th>\n",
       "      <td>ID_YEB05X4KUGPQ</td>\n",
       "      <td>Mandalore</td>\n",
       "      <td>K &gt; 24 month</td>\n",
       "      <td>NaN</td>\n",
       "      <td>NaN</td>\n",
       "      <td>NaN</td>\n",
       "      <td>NaN</td>\n",
       "      <td>NaN</td>\n",
       "      <td>NaN</td>\n",
       "      <td>NaN</td>\n",
       "      <td>NaN</td>\n",
       "      <td>NaN</td>\n",
       "      <td>NaN</td>\n",
       "      <td>NaN</td>\n",
       "      <td>NO</td>\n",
       "      <td>NaN</td>\n",
       "      <td>All-net 500F=2000F;5d</td>\n",
       "      <td>NaN</td>\n",
       "      <td>NaN</td>\n",
       "    </tr>\n",
       "    <tr>\n",
       "      <th>freq</th>\n",
       "      <td>1</td>\n",
       "      <td>359443</td>\n",
       "      <td>1430080</td>\n",
       "      <td>NaN</td>\n",
       "      <td>NaN</td>\n",
       "      <td>NaN</td>\n",
       "      <td>NaN</td>\n",
       "      <td>NaN</td>\n",
       "      <td>NaN</td>\n",
       "      <td>NaN</td>\n",
       "      <td>NaN</td>\n",
       "      <td>NaN</td>\n",
       "      <td>NaN</td>\n",
       "      <td>NaN</td>\n",
       "      <td>1507834</td>\n",
       "      <td>NaN</td>\n",
       "      <td>222461</td>\n",
       "      <td>NaN</td>\n",
       "      <td>NaN</td>\n",
       "    </tr>\n",
       "    <tr>\n",
       "      <th>mean</th>\n",
       "      <td>NaN</td>\n",
       "      <td>NaN</td>\n",
       "      <td>NaN</td>\n",
       "      <td>2361.212767</td>\n",
       "      <td>11.521423</td>\n",
       "      <td>2352.073152</td>\n",
       "      <td>784.027307</td>\n",
       "      <td>13.967657</td>\n",
       "      <td>3.354667e+03</td>\n",
       "      <td>278.000929</td>\n",
       "      <td>95.325088</td>\n",
       "      <td>23.146017</td>\n",
       "      <td>8.092187</td>\n",
       "      <td>7.465515</td>\n",
       "      <td>NaN</td>\n",
       "      <td>2.804414e+01</td>\n",
       "      <td>NaN</td>\n",
       "      <td>9.263913</td>\n",
       "      <td>1.873648e-01</td>\n",
       "    </tr>\n",
       "    <tr>\n",
       "      <th>std</th>\n",
       "      <td>NaN</td>\n",
       "      <td>NaN</td>\n",
       "      <td>NaN</td>\n",
       "      <td>3028.954909</td>\n",
       "      <td>13.266779</td>\n",
       "      <td>3053.176864</td>\n",
       "      <td>1017.723634</td>\n",
       "      <td>14.682316</td>\n",
       "      <td>1.330460e+04</td>\n",
       "      <td>874.412483</td>\n",
       "      <td>203.328016</td>\n",
       "      <td>63.506893</td>\n",
       "      <td>40.739423</td>\n",
       "      <td>32.145740</td>\n",
       "      <td>NaN</td>\n",
       "      <td>2.228078e+01</td>\n",
       "      <td>NaN</td>\n",
       "      <td>12.268658</td>\n",
       "      <td>3.902042e-01</td>\n",
       "    </tr>\n",
       "    <tr>\n",
       "      <th>min</th>\n",
       "      <td>NaN</td>\n",
       "      <td>NaN</td>\n",
       "      <td>NaN</td>\n",
       "      <td>4.270000</td>\n",
       "      <td>1.000000</td>\n",
       "      <td>0.430000</td>\n",
       "      <td>0.000000</td>\n",
       "      <td>1.000000</td>\n",
       "      <td>0.000000e+00</td>\n",
       "      <td>0.000000</td>\n",
       "      <td>0.000000</td>\n",
       "      <td>0.000000</td>\n",
       "      <td>0.000000</td>\n",
       "      <td>0.000000</td>\n",
       "      <td>NaN</td>\n",
       "      <td>1.000000e+00</td>\n",
       "      <td>NaN</td>\n",
       "      <td>1.000000</td>\n",
       "      <td>0.000000e+00</td>\n",
       "    </tr>\n",
       "    <tr>\n",
       "      <th>25%</th>\n",
       "      <td>NaN</td>\n",
       "      <td>NaN</td>\n",
       "      <td>NaN</td>\n",
       "      <td>427.350000</td>\n",
       "      <td>2.000000</td>\n",
       "      <td>427.350000</td>\n",
       "      <td>142.310000</td>\n",
       "      <td>3.000000</td>\n",
       "      <td>0.000000e+00</td>\n",
       "      <td>5.000000</td>\n",
       "      <td>7.000000</td>\n",
       "      <td>2.000000</td>\n",
       "      <td>0.000000</td>\n",
       "      <td>0.000000</td>\n",
       "      <td>NaN</td>\n",
       "      <td>6.000000e+00</td>\n",
       "      <td>NaN</td>\n",
       "      <td>2.000000</td>\n",
       "      <td>0.000000e+00</td>\n",
       "    </tr>\n",
       "    <tr>\n",
       "      <th>50%</th>\n",
       "      <td>NaN</td>\n",
       "      <td>NaN</td>\n",
       "      <td>NaN</td>\n",
       "      <td>1282.050000</td>\n",
       "      <td>7.000000</td>\n",
       "      <td>1282.050000</td>\n",
       "      <td>427.350000</td>\n",
       "      <td>9.000000</td>\n",
       "      <td>2.560000e+02</td>\n",
       "      <td>27.000000</td>\n",
       "      <td>29.000000</td>\n",
       "      <td>6.000000</td>\n",
       "      <td>1.000000</td>\n",
       "      <td>2.000000</td>\n",
       "      <td>NaN</td>\n",
       "      <td>2.400000e+01</td>\n",
       "      <td>NaN</td>\n",
       "      <td>5.000000</td>\n",
       "      <td>0.000000e+00</td>\n",
       "    </tr>\n",
       "    <tr>\n",
       "      <th>75%</th>\n",
       "      <td>NaN</td>\n",
       "      <td>NaN</td>\n",
       "      <td>NaN</td>\n",
       "      <td>3141.030000</td>\n",
       "      <td>16.000000</td>\n",
       "      <td>3146.580000</td>\n",
       "      <td>1048.720000</td>\n",
       "      <td>20.000000</td>\n",
       "      <td>2.879000e+03</td>\n",
       "      <td>156.000000</td>\n",
       "      <td>99.000000</td>\n",
       "      <td>20.000000</td>\n",
       "      <td>3.000000</td>\n",
       "      <td>5.000000</td>\n",
       "      <td>NaN</td>\n",
       "      <td>5.100000e+01</td>\n",
       "      <td>NaN</td>\n",
       "      <td>12.000000</td>\n",
       "      <td>0.000000e+00</td>\n",
       "    </tr>\n",
       "    <tr>\n",
       "      <th>max</th>\n",
       "      <td>NaN</td>\n",
       "      <td>NaN</td>\n",
       "      <td>NaN</td>\n",
       "      <td>124145.300000</td>\n",
       "      <td>133.000000</td>\n",
       "      <td>113696.580000</td>\n",
       "      <td>37898.720000</td>\n",
       "      <td>91.000000</td>\n",
       "      <td>1.823866e+06</td>\n",
       "      <td>50809.000000</td>\n",
       "      <td>12040.000000</td>\n",
       "      <td>4174.000000</td>\n",
       "      <td>4792.000000</td>\n",
       "      <td>3143.000000</td>\n",
       "      <td>NaN</td>\n",
       "      <td>6.200000e+01</td>\n",
       "      <td>NaN</td>\n",
       "      <td>629.000000</td>\n",
       "      <td>1.000000e+00</td>\n",
       "    </tr>\n",
       "  </tbody>\n",
       "</table>\n",
       "</div>"
      ],
      "text/plain": [
       "                     ID     region        tenure         Amount  \\\n",
       "count           1507834     913743       1507834  978320.000000   \n",
       "unique          1507834         14             8            NaN   \n",
       "top     ID_YEB05X4KUGPQ  Mandalore  K > 24 month            NaN   \n",
       "freq                  1     359443       1430080            NaN   \n",
       "mean                NaN        NaN           NaN    2361.212767   \n",
       "std                 NaN        NaN           NaN    3028.954909   \n",
       "min                 NaN        NaN           NaN       4.270000   \n",
       "25%                 NaN        NaN           NaN     427.350000   \n",
       "50%                 NaN        NaN           NaN    1282.050000   \n",
       "75%                 NaN        NaN           NaN    3141.030000   \n",
       "max                 NaN        NaN           NaN  124145.300000   \n",
       "\n",
       "        refill_frequency        revenue   arpu_segment      frequency  \\\n",
       "count      978320.000000  999713.000000  999713.000000  999713.000000   \n",
       "unique               NaN            NaN            NaN            NaN   \n",
       "top                  NaN            NaN            NaN            NaN   \n",
       "freq                 NaN            NaN            NaN            NaN   \n",
       "mean           11.521423    2352.073152     784.027307      13.967657   \n",
       "std            13.266779    3053.176864    1017.723634      14.682316   \n",
       "min             1.000000       0.430000       0.000000       1.000000   \n",
       "25%             2.000000     427.350000     142.310000       3.000000   \n",
       "50%             7.000000    1282.050000     427.350000       9.000000   \n",
       "75%            16.000000    3146.580000    1048.720000      20.000000   \n",
       "max           133.000000  113696.580000   37898.720000      91.000000   \n",
       "\n",
       "         data_volume         on_net      Procuct_1      Procuct_2  \\\n",
       "count   7.660280e+05  957192.000000  881271.000000  604784.000000   \n",
       "unique           NaN            NaN            NaN            NaN   \n",
       "top              NaN            NaN            NaN            NaN   \n",
       "freq             NaN            NaN            NaN            NaN   \n",
       "mean    3.354667e+03     278.000929      95.325088      23.146017   \n",
       "std     1.330460e+04     874.412483     203.328016      63.506893   \n",
       "min     0.000000e+00       0.000000       0.000000       0.000000   \n",
       "25%     0.000000e+00       5.000000       7.000000       2.000000   \n",
       "50%     2.560000e+02      27.000000      29.000000       6.000000   \n",
       "75%     2.879000e+03     156.000000      99.000000      20.000000   \n",
       "max     1.823866e+06   50809.000000   12040.000000    4174.000000   \n",
       "\n",
       "                zone1         zone2      mrg    regularity  \\\n",
       "count   118986.000000  95505.000000  1507834  1.507834e+06   \n",
       "unique            NaN           NaN        1           NaN   \n",
       "top               NaN           NaN       NO           NaN   \n",
       "freq              NaN           NaN  1507834           NaN   \n",
       "mean         8.092187      7.465515      NaN  2.804414e+01   \n",
       "std         40.739423     32.145740      NaN  2.228078e+01   \n",
       "min          0.000000      0.000000      NaN  1.000000e+00   \n",
       "25%          0.000000      0.000000      NaN  6.000000e+00   \n",
       "50%          1.000000      2.000000      NaN  2.400000e+01   \n",
       "75%          3.000000      5.000000      NaN  5.100000e+01   \n",
       "max       4792.000000   3143.000000      NaN  6.200000e+01   \n",
       "\n",
       "                     top_pack  freq_top_pack        Target  \n",
       "count                  876011  876011.000000  1.507834e+06  \n",
       "unique                    130            NaN           NaN  \n",
       "top     All-net 500F=2000F;5d            NaN           NaN  \n",
       "freq                   222461            NaN           NaN  \n",
       "mean                      NaN       9.263913  1.873648e-01  \n",
       "std                       NaN      12.268658  3.902042e-01  \n",
       "min                       NaN       1.000000  0.000000e+00  \n",
       "25%                       NaN       2.000000  0.000000e+00  \n",
       "50%                       NaN       5.000000  0.000000e+00  \n",
       "75%                       NaN      12.000000  0.000000e+00  \n",
       "max                       NaN     629.000000  1.000000e+00  "
      ]
     },
     "execution_count": 130,
     "metadata": {},
     "output_type": "execute_result"
    }
   ],
   "source": [
    "# generate descriptive statistics for numerical variables\n",
    "data_frame.describe()\n",
    "\n",
    "# generate descriptive statistics for numerical and categorical variables\n",
    "data_frame.describe(include = 'all')"
   ]
  },
  {
   "cell_type": "markdown",
   "id": "6b1b7833",
   "metadata": {
    "id": "20da9e28"
   },
   "source": [
    "# EDA & Data Preparation\n"
   ]
  },
  {
   "cell_type": "code",
   "execution_count": 131,
   "id": "d7e8d52e",
   "metadata": {
    "colab": {
     "base_uri": "https://localhost:8080/"
    },
    "executionInfo": {
     "elapsed": 690,
     "status": "ok",
     "timestamp": 1700917447749,
     "user": {
      "displayName": "Matsolo Sokolo",
      "userId": "11566973559157574788"
     },
     "user_tz": -120
    },
    "id": "7b1f1498",
    "outputId": "0da115b2-fb1e-4af5-a6a3-ba4133130580"
   },
   "outputs": [
    {
     "name": "stdout",
     "output_type": "stream",
     "text": [
      "<class 'pandas.core.frame.DataFrame'>\n",
      "RangeIndex: 1507834 entries, 0 to 1507833\n",
      "Data columns (total 19 columns):\n",
      " #   Column            Non-Null Count    Dtype  \n",
      "---  ------            --------------    -----  \n",
      " 0   ID                1507834 non-null  object \n",
      " 1   region            913743 non-null   object \n",
      " 2   tenure            1507834 non-null  object \n",
      " 3   Amount            978320 non-null   float64\n",
      " 4   refill_frequency  978320 non-null   float64\n",
      " 5   revenue           999713 non-null   float64\n",
      " 6   arpu_segment      999713 non-null   float64\n",
      " 7   frequency         999713 non-null   float64\n",
      " 8   data_volume       766028 non-null   float64\n",
      " 9   on_net            957192 non-null   float64\n",
      " 10  Procuct_1         881271 non-null   float64\n",
      " 11  Procuct_2         604784 non-null   float64\n",
      " 12  zone1             118986 non-null   float64\n",
      " 13  zone2             95505 non-null    float64\n",
      " 14  mrg               1507834 non-null  object \n",
      " 15  regularity        1507834 non-null  int64  \n",
      " 16  top_pack          876011 non-null   object \n",
      " 17  freq_top_pack     876011 non-null   float64\n",
      " 18  Target            1507834 non-null  int64  \n",
      "dtypes: float64(12), int64(2), object(5)\n",
      "memory usage: 218.6+ MB\n"
     ]
    }
   ],
   "source": [
    "data_frame.info()"
   ]
  },
  {
   "cell_type": "code",
   "execution_count": 132,
   "id": "b862f2a5",
   "metadata": {
    "colab": {
     "base_uri": "https://localhost:8080/"
    },
    "executionInfo": {
     "elapsed": 11,
     "status": "ok",
     "timestamp": 1700917447750,
     "user": {
      "displayName": "Matsolo Sokolo",
      "userId": "11566973559157574788"
     },
     "user_tz": -120
    },
    "id": "003efd5c",
    "outputId": "181dc521-2e39-4cb0-f3ca-a15a441e34bc"
   },
   "outputs": [
    {
     "data": {
      "text/plain": [
       "ID                   object\n",
       "tenure               object\n",
       "top_pack             object\n",
       "mrg                  object\n",
       "region               object\n",
       "Procuct_1           float64\n",
       "freq_top_pack       float64\n",
       "zone2               float64\n",
       "zone1               float64\n",
       "Procuct_2           float64\n",
       "on_net              float64\n",
       "data_volume         float64\n",
       "frequency           float64\n",
       "arpu_segment        float64\n",
       "revenue             float64\n",
       "refill_frequency    float64\n",
       "Amount              float64\n",
       "regularity            int64\n",
       "Target                int64\n",
       "dtype: object"
      ]
     },
     "execution_count": 132,
     "metadata": {},
     "output_type": "execute_result"
    }
   ],
   "source": [
    "data_frame.dtypes.sort_values(ascending=False)"
   ]
  },
  {
   "cell_type": "code",
   "execution_count": 133,
   "id": "ae26c744",
   "metadata": {
    "colab": {
     "base_uri": "https://localhost:8080/"
    },
    "executionInfo": {
     "elapsed": 8,
     "status": "ok",
     "timestamp": 1700917447750,
     "user": {
      "displayName": "Matsolo Sokolo",
      "userId": "11566973559157574788"
     },
     "user_tz": -120
    },
    "id": "e4485f31",
    "outputId": "582d2acc-f8be-4ef5-d22b-b17a49db3c85"
   },
   "outputs": [
    {
     "data": {
      "text/plain": [
       "count    1.507834e+06\n",
       "mean     1.873648e-01\n",
       "std      3.902042e-01\n",
       "min      0.000000e+00\n",
       "25%      0.000000e+00\n",
       "50%      0.000000e+00\n",
       "75%      0.000000e+00\n",
       "max      1.000000e+00\n",
       "Name: Target, dtype: float64"
      ]
     },
     "execution_count": 133,
     "metadata": {},
     "output_type": "execute_result"
    }
   ],
   "source": [
    "data_frame['Target'].describe()"
   ]
  },
  {
   "cell_type": "code",
   "execution_count": 134,
   "id": "a0daca67",
   "metadata": {
    "colab": {
     "base_uri": "https://localhost:8080/"
    },
    "executionInfo": {
     "elapsed": 6,
     "status": "ok",
     "timestamp": 1700917448274,
     "user": {
      "displayName": "Matsolo Sokolo",
      "userId": "11566973559157574788"
     },
     "user_tz": -120
    },
    "id": "70569cfa",
    "outputId": "fdfa6eef-d8f0-40da-e92e-3aaad1eec920"
   },
   "outputs": [
    {
     "data": {
      "text/plain": [
       "count                    876011\n",
       "unique                      130\n",
       "top       All-net 500F=2000F;5d\n",
       "freq                     222461\n",
       "Name: top_pack, dtype: object"
      ]
     },
     "execution_count": 134,
     "metadata": {},
     "output_type": "execute_result"
    }
   ],
   "source": [
    "data_frame['top_pack'].describe()"
   ]
  },
  {
   "cell_type": "code",
   "execution_count": 135,
   "id": "64113c69",
   "metadata": {
    "colab": {
     "base_uri": "https://localhost:8080/"
    },
    "executionInfo": {
     "elapsed": 1357,
     "status": "ok",
     "timestamp": 1700917449627,
     "user": {
      "displayName": "Matsolo Sokolo",
      "userId": "11566973559157574788"
     },
     "user_tz": -120
    },
    "id": "cb013feb",
    "outputId": "f012475c-ab12-4bc7-f10c-acde6476f890"
   },
   "outputs": [
    {
     "data": {
      "text/plain": [
       "(1507834, 19)"
      ]
     },
     "execution_count": 135,
     "metadata": {},
     "output_type": "execute_result"
    }
   ],
   "source": [
    "data_frame.drop_duplicates().shape"
   ]
  },
  {
   "cell_type": "markdown",
   "id": "f64d42f3",
   "metadata": {
    "id": "6a244fcd"
   },
   "source": [
    "Data Cleaning"
   ]
  },
  {
   "cell_type": "code",
   "execution_count": 136,
   "id": "56c1dbab",
   "metadata": {
    "executionInfo": {
     "elapsed": 6,
     "status": "ok",
     "timestamp": 1700917449627,
     "user": {
      "displayName": "Matsolo Sokolo",
      "userId": "11566973559157574788"
     },
     "user_tz": -120
    },
    "id": "ffd0dc72"
   },
   "outputs": [],
   "source": [
    "data_frame = data_frame.drop(['ID', 'mrg'], axis=1)"
   ]
  },
  {
   "cell_type": "code",
   "execution_count": 137,
   "id": "ac1159e3",
   "metadata": {
    "executionInfo": {
     "elapsed": 7868,
     "status": "ok",
     "timestamp": 1700917457490,
     "user": {
      "displayName": "Matsolo Sokolo",
      "userId": "11566973559157574788"
     },
     "user_tz": -120
    },
    "id": "3a128bc2"
   },
   "outputs": [],
   "source": [
    "# Assuming your DataFrame is named df\n",
    "data_frame['tenure_letter'] = data_frame['tenure'].str.extract('([A-Z])')\n",
    "data_frame['tenure_months'] = data_frame['tenure'].str.extract('(\\d+)').astype(float)\n",
    "\n",
    "# Drop the original 'tenure' column if needed\n",
    "data_frame = data_frame.drop('tenure', axis=1)"
   ]
  },
  {
   "cell_type": "code",
   "execution_count": 138,
   "id": "8a925307",
   "metadata": {
    "colab": {
     "base_uri": "https://localhost:8080/"
    },
    "executionInfo": {
     "elapsed": 42,
     "status": "ok",
     "timestamp": 1700917457491,
     "user": {
      "displayName": "Matsolo Sokolo",
      "userId": "11566973559157574788"
     },
     "user_tz": -120
    },
    "id": "3edb5606",
    "outputId": "a4037e28-a978-4155-88fd-508ae82c668f"
   },
   "outputs": [
    {
     "data": {
      "text/plain": [
       "(1507834, 18)"
      ]
     },
     "execution_count": 138,
     "metadata": {},
     "output_type": "execute_result"
    }
   ],
   "source": [
    "data_frame.shape"
   ]
  },
  {
   "cell_type": "code",
   "execution_count": 139,
   "id": "121ffce7",
   "metadata": {
    "colab": {
     "base_uri": "https://localhost:8080/"
    },
    "executionInfo": {
     "elapsed": 735,
     "status": "ok",
     "timestamp": 1700917458193,
     "user": {
      "displayName": "Matsolo Sokolo",
      "userId": "11566973559157574788"
     },
     "user_tz": -120
    },
    "id": "095befae",
    "outputId": "665653a9-76e8-4824-92bd-38fcb2249a53"
   },
   "outputs": [
    {
     "data": {
      "text/plain": [
       "(1507834, 18)"
      ]
     },
     "execution_count": 139,
     "metadata": {},
     "output_type": "execute_result"
    }
   ],
   "source": [
    "mode_value = data_frame['region'].mode().iloc[0]\n",
    "data_frame['region'].fillna(mode_value, inplace=True)\n",
    "data_frame.shape"
   ]
  },
  {
   "cell_type": "code",
   "execution_count": 140,
   "id": "26b789ce",
   "metadata": {
    "colab": {
     "base_uri": "https://localhost:8080/",
     "height": 261
    },
    "executionInfo": {
     "elapsed": 12,
     "status": "ok",
     "timestamp": 1700917458193,
     "user": {
      "displayName": "Matsolo Sokolo",
      "userId": "11566973559157574788"
     },
     "user_tz": -120
    },
    "id": "99a7a23b",
    "outputId": "3b25becd-8269-4298-d0cb-5babe4cd6490"
   },
   "outputs": [
    {
     "data": {
      "text/html": [
       "<div>\n",
       "<style scoped>\n",
       "    .dataframe tbody tr th:only-of-type {\n",
       "        vertical-align: middle;\n",
       "    }\n",
       "\n",
       "    .dataframe tbody tr th {\n",
       "        vertical-align: top;\n",
       "    }\n",
       "\n",
       "    .dataframe thead th {\n",
       "        text-align: right;\n",
       "    }\n",
       "</style>\n",
       "<table border=\"1\" class=\"dataframe\">\n",
       "  <thead>\n",
       "    <tr style=\"text-align: right;\">\n",
       "      <th></th>\n",
       "      <th>region</th>\n",
       "      <th>Amount</th>\n",
       "      <th>refill_frequency</th>\n",
       "      <th>revenue</th>\n",
       "      <th>arpu_segment</th>\n",
       "      <th>frequency</th>\n",
       "      <th>data_volume</th>\n",
       "      <th>on_net</th>\n",
       "      <th>Procuct_1</th>\n",
       "      <th>Procuct_2</th>\n",
       "      <th>zone1</th>\n",
       "      <th>zone2</th>\n",
       "      <th>regularity</th>\n",
       "      <th>top_pack</th>\n",
       "      <th>freq_top_pack</th>\n",
       "      <th>Target</th>\n",
       "      <th>tenure_letter</th>\n",
       "      <th>tenure_months</th>\n",
       "    </tr>\n",
       "  </thead>\n",
       "  <tbody>\n",
       "    <tr>\n",
       "      <th>0</th>\n",
       "      <td>Mandalore</td>\n",
       "      <td>NaN</td>\n",
       "      <td>NaN</td>\n",
       "      <td>NaN</td>\n",
       "      <td>NaN</td>\n",
       "      <td>NaN</td>\n",
       "      <td>NaN</td>\n",
       "      <td>NaN</td>\n",
       "      <td>NaN</td>\n",
       "      <td>NaN</td>\n",
       "      <td>NaN</td>\n",
       "      <td>NaN</td>\n",
       "      <td>3</td>\n",
       "      <td>NaN</td>\n",
       "      <td>NaN</td>\n",
       "      <td>0</td>\n",
       "      <td>K</td>\n",
       "      <td>24.0</td>\n",
       "    </tr>\n",
       "    <tr>\n",
       "      <th>1</th>\n",
       "      <td>Nebula</td>\n",
       "      <td>4764.96</td>\n",
       "      <td>41.0</td>\n",
       "      <td>4756.84</td>\n",
       "      <td>1585.47</td>\n",
       "      <td>41.0</td>\n",
       "      <td>2.0</td>\n",
       "      <td>626.0</td>\n",
       "      <td>24.0</td>\n",
       "      <td>NaN</td>\n",
       "      <td>NaN</td>\n",
       "      <td>NaN</td>\n",
       "      <td>62</td>\n",
       "      <td>On net 200F=Unlimited _call24H</td>\n",
       "      <td>31.0</td>\n",
       "      <td>0</td>\n",
       "      <td>K</td>\n",
       "      <td>24.0</td>\n",
       "    </tr>\n",
       "    <tr>\n",
       "      <th>2</th>\n",
       "      <td>Celestial</td>\n",
       "      <td>5769.23</td>\n",
       "      <td>22.0</td>\n",
       "      <td>5769.23</td>\n",
       "      <td>1923.08</td>\n",
       "      <td>22.0</td>\n",
       "      <td>28121.0</td>\n",
       "      <td>0.0</td>\n",
       "      <td>NaN</td>\n",
       "      <td>1.0</td>\n",
       "      <td>NaN</td>\n",
       "      <td>NaN</td>\n",
       "      <td>61</td>\n",
       "      <td>NaN</td>\n",
       "      <td>NaN</td>\n",
       "      <td>0</td>\n",
       "      <td>K</td>\n",
       "      <td>24.0</td>\n",
       "    </tr>\n",
       "    <tr>\n",
       "      <th>3</th>\n",
       "      <td>Mandalore</td>\n",
       "      <td>NaN</td>\n",
       "      <td>NaN</td>\n",
       "      <td>NaN</td>\n",
       "      <td>NaN</td>\n",
       "      <td>NaN</td>\n",
       "      <td>NaN</td>\n",
       "      <td>NaN</td>\n",
       "      <td>NaN</td>\n",
       "      <td>NaN</td>\n",
       "      <td>NaN</td>\n",
       "      <td>NaN</td>\n",
       "      <td>6</td>\n",
       "      <td>NaN</td>\n",
       "      <td>NaN</td>\n",
       "      <td>0</td>\n",
       "      <td>K</td>\n",
       "      <td>24.0</td>\n",
       "    </tr>\n",
       "    <tr>\n",
       "      <th>4</th>\n",
       "      <td>Eclipsara</td>\n",
       "      <td>5341.88</td>\n",
       "      <td>58.0</td>\n",
       "      <td>5636.75</td>\n",
       "      <td>1879.06</td>\n",
       "      <td>60.0</td>\n",
       "      <td>1131.0</td>\n",
       "      <td>546.0</td>\n",
       "      <td>376.0</td>\n",
       "      <td>0.0</td>\n",
       "      <td>NaN</td>\n",
       "      <td>NaN</td>\n",
       "      <td>62</td>\n",
       "      <td>Mixt 250F=Unlimited_call24H</td>\n",
       "      <td>31.0</td>\n",
       "      <td>0</td>\n",
       "      <td>K</td>\n",
       "      <td>24.0</td>\n",
       "    </tr>\n",
       "  </tbody>\n",
       "</table>\n",
       "</div>"
      ],
      "text/plain": [
       "      region   Amount  refill_frequency  revenue  arpu_segment  frequency  \\\n",
       "0  Mandalore      NaN               NaN      NaN           NaN        NaN   \n",
       "1     Nebula  4764.96              41.0  4756.84       1585.47       41.0   \n",
       "2  Celestial  5769.23              22.0  5769.23       1923.08       22.0   \n",
       "3  Mandalore      NaN               NaN      NaN           NaN        NaN   \n",
       "4  Eclipsara  5341.88              58.0  5636.75       1879.06       60.0   \n",
       "\n",
       "   data_volume  on_net  Procuct_1  Procuct_2  zone1  zone2  regularity  \\\n",
       "0          NaN     NaN        NaN        NaN    NaN    NaN           3   \n",
       "1          2.0   626.0       24.0        NaN    NaN    NaN          62   \n",
       "2      28121.0     0.0        NaN        1.0    NaN    NaN          61   \n",
       "3          NaN     NaN        NaN        NaN    NaN    NaN           6   \n",
       "4       1131.0   546.0      376.0        0.0    NaN    NaN          62   \n",
       "\n",
       "                         top_pack  freq_top_pack  Target tenure_letter  \\\n",
       "0                             NaN            NaN       0             K   \n",
       "1  On net 200F=Unlimited _call24H           31.0       0             K   \n",
       "2                             NaN            NaN       0             K   \n",
       "3                             NaN            NaN       0             K   \n",
       "4     Mixt 250F=Unlimited_call24H           31.0       0             K   \n",
       "\n",
       "   tenure_months  \n",
       "0           24.0  \n",
       "1           24.0  \n",
       "2           24.0  \n",
       "3           24.0  \n",
       "4           24.0  "
      ]
     },
     "execution_count": 140,
     "metadata": {},
     "output_type": "execute_result"
    }
   ],
   "source": [
    "data_frame.head()"
   ]
  },
  {
   "cell_type": "code",
   "execution_count": 141,
   "id": "3dda4174",
   "metadata": {
    "executionInfo": {
     "elapsed": 1577,
     "status": "ok",
     "timestamp": 1700917459761,
     "user": {
      "displayName": "Matsolo Sokolo",
      "userId": "11566973559157574788"
     },
     "user_tz": -120
    },
    "id": "c6f6c097"
   },
   "outputs": [],
   "source": [
    "data_frame = data_frame.fillna('')"
   ]
  },
  {
   "cell_type": "code",
   "execution_count": 142,
   "id": "5dac8f55",
   "metadata": {
    "executionInfo": {
     "elapsed": 1172,
     "status": "ok",
     "timestamp": 1700917460926,
     "user": {
      "displayName": "Matsolo Sokolo",
      "userId": "11566973559157574788"
     },
     "user_tz": -120
    },
    "id": "1a175cf2"
   },
   "outputs": [],
   "source": [
    "data_frame.drop(data_frame[data_frame[\"revenue\"] == ''].index, inplace=True)"
   ]
  },
  {
   "cell_type": "code",
   "execution_count": 143,
   "id": "260de807",
   "metadata": {
    "colab": {
     "base_uri": "https://localhost:8080/"
    },
    "executionInfo": {
     "elapsed": 605,
     "status": "ok",
     "timestamp": 1700917461525,
     "user": {
      "displayName": "Matsolo Sokolo",
      "userId": "11566973559157574788"
     },
     "user_tz": -120
    },
    "id": "5067c753",
    "outputId": "e10831cb-f946-4f84-8205-0d179bf98057"
   },
   "outputs": [
    {
     "data": {
      "text/plain": [
       "(999713, 18)"
      ]
     },
     "execution_count": 143,
     "metadata": {},
     "output_type": "execute_result"
    }
   ],
   "source": [
    "data_frame.drop(data_frame[data_frame[\"tenure_letter\"] == ''].index, inplace=True)\n",
    "data_frame.shape"
   ]
  },
  {
   "cell_type": "code",
   "execution_count": 144,
   "id": "499718d6",
   "metadata": {
    "colab": {
     "base_uri": "https://localhost:8080/",
     "height": 452
    },
    "executionInfo": {
     "elapsed": 24,
     "status": "ok",
     "timestamp": 1700917461525,
     "user": {
      "displayName": "Matsolo Sokolo",
      "userId": "11566973559157574788"
     },
     "user_tz": -120
    },
    "id": "78ec4d01",
    "outputId": "9cde9fef-69ed-41ae-c526-13aa49f6f1e0"
   },
   "outputs": [
    {
     "data": {
      "text/html": [
       "<div>\n",
       "<style scoped>\n",
       "    .dataframe tbody tr th:only-of-type {\n",
       "        vertical-align: middle;\n",
       "    }\n",
       "\n",
       "    .dataframe tbody tr th {\n",
       "        vertical-align: top;\n",
       "    }\n",
       "\n",
       "    .dataframe thead th {\n",
       "        text-align: right;\n",
       "    }\n",
       "</style>\n",
       "<table border=\"1\" class=\"dataframe\">\n",
       "  <thead>\n",
       "    <tr style=\"text-align: right;\">\n",
       "      <th></th>\n",
       "      <th>region</th>\n",
       "      <th>Amount</th>\n",
       "      <th>refill_frequency</th>\n",
       "      <th>revenue</th>\n",
       "      <th>arpu_segment</th>\n",
       "      <th>frequency</th>\n",
       "      <th>data_volume</th>\n",
       "      <th>on_net</th>\n",
       "      <th>Procuct_1</th>\n",
       "      <th>Procuct_2</th>\n",
       "      <th>zone1</th>\n",
       "      <th>zone2</th>\n",
       "      <th>regularity</th>\n",
       "      <th>top_pack</th>\n",
       "      <th>freq_top_pack</th>\n",
       "      <th>Target</th>\n",
       "      <th>tenure_letter</th>\n",
       "      <th>tenure_months</th>\n",
       "    </tr>\n",
       "  </thead>\n",
       "  <tbody>\n",
       "    <tr>\n",
       "      <th>1</th>\n",
       "      <td>Nebula</td>\n",
       "      <td>4764.96</td>\n",
       "      <td>41.0</td>\n",
       "      <td>4756.84</td>\n",
       "      <td>1585.47</td>\n",
       "      <td>41.0</td>\n",
       "      <td>2.0</td>\n",
       "      <td>626.0</td>\n",
       "      <td>24.0</td>\n",
       "      <td></td>\n",
       "      <td></td>\n",
       "      <td></td>\n",
       "      <td>62</td>\n",
       "      <td>On net 200F=Unlimited _call24H</td>\n",
       "      <td>31.0</td>\n",
       "      <td>0</td>\n",
       "      <td>K</td>\n",
       "      <td>24.0</td>\n",
       "    </tr>\n",
       "    <tr>\n",
       "      <th>2</th>\n",
       "      <td>Celestial</td>\n",
       "      <td>5769.23</td>\n",
       "      <td>22.0</td>\n",
       "      <td>5769.23</td>\n",
       "      <td>1923.08</td>\n",
       "      <td>22.0</td>\n",
       "      <td>28121.0</td>\n",
       "      <td>0.0</td>\n",
       "      <td></td>\n",
       "      <td>1.0</td>\n",
       "      <td></td>\n",
       "      <td></td>\n",
       "      <td>61</td>\n",
       "      <td></td>\n",
       "      <td></td>\n",
       "      <td>0</td>\n",
       "      <td>K</td>\n",
       "      <td>24.0</td>\n",
       "    </tr>\n",
       "    <tr>\n",
       "      <th>4</th>\n",
       "      <td>Eclipsara</td>\n",
       "      <td>5341.88</td>\n",
       "      <td>58.0</td>\n",
       "      <td>5636.75</td>\n",
       "      <td>1879.06</td>\n",
       "      <td>60.0</td>\n",
       "      <td>1131.0</td>\n",
       "      <td>546.0</td>\n",
       "      <td>376.0</td>\n",
       "      <td>0.0</td>\n",
       "      <td></td>\n",
       "      <td></td>\n",
       "      <td>62</td>\n",
       "      <td>Mixt 250F=Unlimited_call24H</td>\n",
       "      <td>31.0</td>\n",
       "      <td>0</td>\n",
       "      <td>K</td>\n",
       "      <td>24.0</td>\n",
       "    </tr>\n",
       "    <tr>\n",
       "      <th>5</th>\n",
       "      <td>Celestial</td>\n",
       "      <td>42.74</td>\n",
       "      <td>1.0</td>\n",
       "      <td>42.74</td>\n",
       "      <td>14.1</td>\n",
       "      <td>2.0</td>\n",
       "      <td>4.0</td>\n",
       "      <td>3.0</td>\n",
       "      <td></td>\n",
       "      <td></td>\n",
       "      <td></td>\n",
       "      <td></td>\n",
       "      <td>44</td>\n",
       "      <td></td>\n",
       "      <td></td>\n",
       "      <td>0</td>\n",
       "      <td>K</td>\n",
       "      <td>24.0</td>\n",
       "    </tr>\n",
       "    <tr>\n",
       "      <th>7</th>\n",
       "      <td>Eclipsara</td>\n",
       "      <td>2564.1</td>\n",
       "      <td>12.0</td>\n",
       "      <td>2777.78</td>\n",
       "      <td>926.07</td>\n",
       "      <td>13.0</td>\n",
       "      <td></td>\n",
       "      <td>96.0</td>\n",
       "      <td>96.0</td>\n",
       "      <td>1.0</td>\n",
       "      <td></td>\n",
       "      <td></td>\n",
       "      <td>59</td>\n",
       "      <td>All-net 500F =2000F_AllNet_Unlimited</td>\n",
       "      <td>13.0</td>\n",
       "      <td>0</td>\n",
       "      <td>K</td>\n",
       "      <td>24.0</td>\n",
       "    </tr>\n",
       "    <tr>\n",
       "      <th>9</th>\n",
       "      <td>Mandalore</td>\n",
       "      <td>1987.18</td>\n",
       "      <td>13.0</td>\n",
       "      <td>2242.74</td>\n",
       "      <td>747.44</td>\n",
       "      <td>13.0</td>\n",
       "      <td></td>\n",
       "      <td>9.0</td>\n",
       "      <td>39.0</td>\n",
       "      <td>73.0</td>\n",
       "      <td></td>\n",
       "      <td></td>\n",
       "      <td>34</td>\n",
       "      <td>All-net 500F=2000F;5d</td>\n",
       "      <td>8.0</td>\n",
       "      <td>0</td>\n",
       "      <td>K</td>\n",
       "      <td>24.0</td>\n",
       "    </tr>\n",
       "    <tr>\n",
       "      <th>11</th>\n",
       "      <td>Celestial</td>\n",
       "      <td>85.47</td>\n",
       "      <td>1.0</td>\n",
       "      <td>85.47</td>\n",
       "      <td>28.63</td>\n",
       "      <td>3.0</td>\n",
       "      <td>0.0</td>\n",
       "      <td>7.0</td>\n",
       "      <td>1.0</td>\n",
       "      <td></td>\n",
       "      <td></td>\n",
       "      <td></td>\n",
       "      <td>30</td>\n",
       "      <td>IVR Echat_Daily_50F</td>\n",
       "      <td>1.0</td>\n",
       "      <td>0</td>\n",
       "      <td>K</td>\n",
       "      <td>24.0</td>\n",
       "    </tr>\n",
       "    <tr>\n",
       "      <th>14</th>\n",
       "      <td>Droidika</td>\n",
       "      <td>1837.61</td>\n",
       "      <td>9.0</td>\n",
       "      <td>1837.18</td>\n",
       "      <td>612.39</td>\n",
       "      <td>10.0</td>\n",
       "      <td>0.0</td>\n",
       "      <td>61.0</td>\n",
       "      <td>3.0</td>\n",
       "      <td>19.0</td>\n",
       "      <td></td>\n",
       "      <td></td>\n",
       "      <td>48</td>\n",
       "      <td>All-net 500F=2000F;5d</td>\n",
       "      <td>8.0</td>\n",
       "      <td>0</td>\n",
       "      <td>I</td>\n",
       "      <td>18.0</td>\n",
       "    </tr>\n",
       "    <tr>\n",
       "      <th>15</th>\n",
       "      <td>Luminous</td>\n",
       "      <td>1495.73</td>\n",
       "      <td>1.0</td>\n",
       "      <td>1495.73</td>\n",
       "      <td>498.72</td>\n",
       "      <td>1.0</td>\n",
       "      <td>2056.0</td>\n",
       "      <td></td>\n",
       "      <td>18.0</td>\n",
       "      <td>2.0</td>\n",
       "      <td></td>\n",
       "      <td></td>\n",
       "      <td>9</td>\n",
       "      <td>All-net 500F=2000F;5d</td>\n",
       "      <td>1.0</td>\n",
       "      <td>0</td>\n",
       "      <td>K</td>\n",
       "      <td>24.0</td>\n",
       "    </tr>\n",
       "    <tr>\n",
       "      <th>16</th>\n",
       "      <td>Mandalore</td>\n",
       "      <td>2948.72</td>\n",
       "      <td>18.0</td>\n",
       "      <td>3076.92</td>\n",
       "      <td>1025.64</td>\n",
       "      <td>24.0</td>\n",
       "      <td>0.0</td>\n",
       "      <td>482.0</td>\n",
       "      <td>200.0</td>\n",
       "      <td></td>\n",
       "      <td></td>\n",
       "      <td></td>\n",
       "      <td>59</td>\n",
       "      <td>On net 200F=Unlimited _call24H</td>\n",
       "      <td>10.0</td>\n",
       "      <td>0</td>\n",
       "      <td>K</td>\n",
       "      <td>24.0</td>\n",
       "    </tr>\n",
       "  </tbody>\n",
       "</table>\n",
       "</div>"
      ],
      "text/plain": [
       "       region   Amount refill_frequency  revenue arpu_segment frequency  \\\n",
       "1      Nebula  4764.96             41.0  4756.84      1585.47      41.0   \n",
       "2   Celestial  5769.23             22.0  5769.23      1923.08      22.0   \n",
       "4   Eclipsara  5341.88             58.0  5636.75      1879.06      60.0   \n",
       "5   Celestial    42.74              1.0    42.74         14.1       2.0   \n",
       "7   Eclipsara   2564.1             12.0  2777.78       926.07      13.0   \n",
       "9   Mandalore  1987.18             13.0  2242.74       747.44      13.0   \n",
       "11  Celestial    85.47              1.0    85.47        28.63       3.0   \n",
       "14   Droidika  1837.61              9.0  1837.18       612.39      10.0   \n",
       "15   Luminous  1495.73              1.0  1495.73       498.72       1.0   \n",
       "16  Mandalore  2948.72             18.0  3076.92      1025.64      24.0   \n",
       "\n",
       "   data_volume on_net Procuct_1 Procuct_2 zone1 zone2  regularity  \\\n",
       "1          2.0  626.0      24.0                                62   \n",
       "2      28121.0    0.0                 1.0                      61   \n",
       "4       1131.0  546.0     376.0       0.0                      62   \n",
       "5          4.0    3.0                                          44   \n",
       "7                96.0      96.0       1.0                      59   \n",
       "9                 9.0      39.0      73.0                      34   \n",
       "11         0.0    7.0       1.0                                30   \n",
       "14         0.0   61.0       3.0      19.0                      48   \n",
       "15      2056.0             18.0       2.0                       9   \n",
       "16         0.0  482.0     200.0                                59   \n",
       "\n",
       "                                top_pack freq_top_pack  Target tenure_letter  \\\n",
       "1         On net 200F=Unlimited _call24H          31.0       0             K   \n",
       "2                                                            0             K   \n",
       "4            Mixt 250F=Unlimited_call24H          31.0       0             K   \n",
       "5                                                            0             K   \n",
       "7   All-net 500F =2000F_AllNet_Unlimited          13.0       0             K   \n",
       "9                  All-net 500F=2000F;5d           8.0       0             K   \n",
       "11                   IVR Echat_Daily_50F           1.0       0             K   \n",
       "14                 All-net 500F=2000F;5d           8.0       0             I   \n",
       "15                 All-net 500F=2000F;5d           1.0       0             K   \n",
       "16        On net 200F=Unlimited _call24H          10.0       0             K   \n",
       "\n",
       "    tenure_months  \n",
       "1            24.0  \n",
       "2            24.0  \n",
       "4            24.0  \n",
       "5            24.0  \n",
       "7            24.0  \n",
       "9            24.0  \n",
       "11           24.0  \n",
       "14           18.0  \n",
       "15           24.0  \n",
       "16           24.0  "
      ]
     },
     "execution_count": 144,
     "metadata": {},
     "output_type": "execute_result"
    }
   ],
   "source": [
    "data_frame.head(10)"
   ]
  },
  {
   "cell_type": "code",
   "execution_count": 145,
   "id": "5686e582",
   "metadata": {},
   "outputs": [
    {
     "name": "stdout",
     "output_type": "stream",
     "text": [
      "Target\n",
      "0    945773\n",
      "1     53940\n",
      "Name: count, dtype: int64\n",
      "Target\n",
      "0    94.604451\n",
      "1     5.395549\n",
      "Name: proportion, dtype: float64\n"
     ]
    }
   ],
   "source": [
    "# calculate the no. of churned vs. retained\n",
    "print(data_frame['Target'].value_counts())\n",
    "\n",
    "# calculate the proportion\n",
    "print(data_frame['Target'].value_counts(normalize=True)*100)"
   ]
  },
  {
   "cell_type": "markdown",
   "id": "d8de7039",
   "metadata": {
    "id": "de210aa7"
   },
   "source": [
    "# Data Preprocessing for model"
   ]
  },
  {
   "cell_type": "code",
   "execution_count": 146,
   "id": "4bd01edf",
   "metadata": {
    "executionInfo": {
     "elapsed": 23,
     "status": "ok",
     "timestamp": 1700917461526,
     "user": {
      "displayName": "Matsolo Sokolo",
      "userId": "11566973559157574788"
     },
     "user_tz": -120
    },
    "id": "68fddfb8"
   },
   "outputs": [],
   "source": [
    "cleaned_df = data_frame.copy()"
   ]
  },
  {
   "cell_type": "code",
   "execution_count": 147,
   "id": "6d7a5018",
   "metadata": {
    "colab": {
     "base_uri": "https://localhost:8080/"
    },
    "executionInfo": {
     "elapsed": 23,
     "status": "ok",
     "timestamp": 1700917461527,
     "user": {
      "displayName": "Matsolo Sokolo",
      "userId": "11566973559157574788"
     },
     "user_tz": -120
    },
    "id": "cd4731db",
    "outputId": "6b36ba85-1c70-46ba-a1d4-4de0d68744d9"
   },
   "outputs": [
    {
     "data": {
      "text/plain": [
       "(999713, 18)"
      ]
     },
     "execution_count": 147,
     "metadata": {},
     "output_type": "execute_result"
    }
   ],
   "source": [
    "cleaned_df.shape"
   ]
  },
  {
   "cell_type": "code",
   "execution_count": 148,
   "id": "63891764",
   "metadata": {
    "colab": {
     "base_uri": "https://localhost:8080/"
    },
    "executionInfo": {
     "elapsed": 20,
     "status": "ok",
     "timestamp": 1700917461527,
     "user": {
      "displayName": "Matsolo Sokolo",
      "userId": "11566973559157574788"
     },
     "user_tz": -120
    },
    "id": "7e518db0",
    "outputId": "433a7947-338c-4cb6-cc3c-aba1e05a68c9"
   },
   "outputs": [
    {
     "data": {
      "text/plain": [
       "region               object\n",
       "Amount               object\n",
       "refill_frequency     object\n",
       "revenue              object\n",
       "arpu_segment         object\n",
       "frequency            object\n",
       "data_volume          object\n",
       "on_net               object\n",
       "Procuct_1            object\n",
       "Procuct_2            object\n",
       "zone1                object\n",
       "zone2                object\n",
       "regularity            int64\n",
       "top_pack             object\n",
       "freq_top_pack        object\n",
       "Target                int64\n",
       "tenure_letter        object\n",
       "tenure_months       float64\n",
       "dtype: object"
      ]
     },
     "execution_count": 148,
     "metadata": {},
     "output_type": "execute_result"
    }
   ],
   "source": [
    "cleaned_df.dtypes"
   ]
  },
  {
   "cell_type": "code",
   "execution_count": 149,
   "id": "c4f28678",
   "metadata": {
    "colab": {
     "base_uri": "https://localhost:8080/",
     "height": 496
    },
    "executionInfo": {
     "elapsed": 16,
     "status": "ok",
     "timestamp": 1700917461527,
     "user": {
      "displayName": "Matsolo Sokolo",
      "userId": "11566973559157574788"
     },
     "user_tz": -120
    },
    "id": "86882ba0",
    "outputId": "cb4d2eb9-421a-47ae-e675-5df79849d814"
   },
   "outputs": [
    {
     "data": {
      "text/html": [
       "<div>\n",
       "<style scoped>\n",
       "    .dataframe tbody tr th:only-of-type {\n",
       "        vertical-align: middle;\n",
       "    }\n",
       "\n",
       "    .dataframe tbody tr th {\n",
       "        vertical-align: top;\n",
       "    }\n",
       "\n",
       "    .dataframe thead th {\n",
       "        text-align: right;\n",
       "    }\n",
       "</style>\n",
       "<table border=\"1\" class=\"dataframe\">\n",
       "  <thead>\n",
       "    <tr style=\"text-align: right;\">\n",
       "      <th></th>\n",
       "      <th>region</th>\n",
       "      <th>Amount</th>\n",
       "      <th>refill_frequency</th>\n",
       "      <th>revenue</th>\n",
       "      <th>arpu_segment</th>\n",
       "      <th>frequency</th>\n",
       "      <th>data_volume</th>\n",
       "      <th>on_net</th>\n",
       "      <th>Procuct_1</th>\n",
       "      <th>Procuct_2</th>\n",
       "      <th>zone1</th>\n",
       "      <th>zone2</th>\n",
       "      <th>regularity</th>\n",
       "      <th>top_pack</th>\n",
       "      <th>freq_top_pack</th>\n",
       "      <th>Target</th>\n",
       "      <th>tenure_letter</th>\n",
       "      <th>tenure_months</th>\n",
       "    </tr>\n",
       "  </thead>\n",
       "  <tbody>\n",
       "    <tr>\n",
       "      <th>1</th>\n",
       "      <td>Nebula</td>\n",
       "      <td>4764.96</td>\n",
       "      <td>41.0</td>\n",
       "      <td>4756.84</td>\n",
       "      <td>1585.47</td>\n",
       "      <td>41.0</td>\n",
       "      <td>2.0</td>\n",
       "      <td>626.0</td>\n",
       "      <td>24.0</td>\n",
       "      <td></td>\n",
       "      <td></td>\n",
       "      <td></td>\n",
       "      <td>62</td>\n",
       "      <td>On net 200F=Unlimited _call24H</td>\n",
       "      <td>31.0</td>\n",
       "      <td>0</td>\n",
       "      <td>K</td>\n",
       "      <td>24.0</td>\n",
       "    </tr>\n",
       "    <tr>\n",
       "      <th>2</th>\n",
       "      <td>Celestial</td>\n",
       "      <td>5769.23</td>\n",
       "      <td>22.0</td>\n",
       "      <td>5769.23</td>\n",
       "      <td>1923.08</td>\n",
       "      <td>22.0</td>\n",
       "      <td>28121.0</td>\n",
       "      <td>0.0</td>\n",
       "      <td></td>\n",
       "      <td>1.0</td>\n",
       "      <td></td>\n",
       "      <td></td>\n",
       "      <td>61</td>\n",
       "      <td></td>\n",
       "      <td></td>\n",
       "      <td>0</td>\n",
       "      <td>K</td>\n",
       "      <td>24.0</td>\n",
       "    </tr>\n",
       "    <tr>\n",
       "      <th>4</th>\n",
       "      <td>Eclipsara</td>\n",
       "      <td>5341.88</td>\n",
       "      <td>58.0</td>\n",
       "      <td>5636.75</td>\n",
       "      <td>1879.06</td>\n",
       "      <td>60.0</td>\n",
       "      <td>1131.0</td>\n",
       "      <td>546.0</td>\n",
       "      <td>376.0</td>\n",
       "      <td>0.0</td>\n",
       "      <td></td>\n",
       "      <td></td>\n",
       "      <td>62</td>\n",
       "      <td>Mixt 250F=Unlimited_call24H</td>\n",
       "      <td>31.0</td>\n",
       "      <td>0</td>\n",
       "      <td>K</td>\n",
       "      <td>24.0</td>\n",
       "    </tr>\n",
       "    <tr>\n",
       "      <th>5</th>\n",
       "      <td>Celestial</td>\n",
       "      <td>42.74</td>\n",
       "      <td>1.0</td>\n",
       "      <td>42.74</td>\n",
       "      <td>14.1</td>\n",
       "      <td>2.0</td>\n",
       "      <td>4.0</td>\n",
       "      <td>3.0</td>\n",
       "      <td></td>\n",
       "      <td></td>\n",
       "      <td></td>\n",
       "      <td></td>\n",
       "      <td>44</td>\n",
       "      <td></td>\n",
       "      <td></td>\n",
       "      <td>0</td>\n",
       "      <td>K</td>\n",
       "      <td>24.0</td>\n",
       "    </tr>\n",
       "    <tr>\n",
       "      <th>7</th>\n",
       "      <td>Eclipsara</td>\n",
       "      <td>2564.1</td>\n",
       "      <td>12.0</td>\n",
       "      <td>2777.78</td>\n",
       "      <td>926.07</td>\n",
       "      <td>13.0</td>\n",
       "      <td></td>\n",
       "      <td>96.0</td>\n",
       "      <td>96.0</td>\n",
       "      <td>1.0</td>\n",
       "      <td></td>\n",
       "      <td></td>\n",
       "      <td>59</td>\n",
       "      <td>All-net 500F =2000F_AllNet_Unlimited</td>\n",
       "      <td>13.0</td>\n",
       "      <td>0</td>\n",
       "      <td>K</td>\n",
       "      <td>24.0</td>\n",
       "    </tr>\n",
       "    <tr>\n",
       "      <th>...</th>\n",
       "      <td>...</td>\n",
       "      <td>...</td>\n",
       "      <td>...</td>\n",
       "      <td>...</td>\n",
       "      <td>...</td>\n",
       "      <td>...</td>\n",
       "      <td>...</td>\n",
       "      <td>...</td>\n",
       "      <td>...</td>\n",
       "      <td>...</td>\n",
       "      <td>...</td>\n",
       "      <td>...</td>\n",
       "      <td>...</td>\n",
       "      <td>...</td>\n",
       "      <td>...</td>\n",
       "      <td>...</td>\n",
       "      <td>...</td>\n",
       "      <td>...</td>\n",
       "    </tr>\n",
       "    <tr>\n",
       "      <th>1507825</th>\n",
       "      <td>Mandalore</td>\n",
       "      <td>85.47</td>\n",
       "      <td>2.0</td>\n",
       "      <td>81.62</td>\n",
       "      <td>27.35</td>\n",
       "      <td>3.0</td>\n",
       "      <td>121.0</td>\n",
       "      <td>8.0</td>\n",
       "      <td></td>\n",
       "      <td></td>\n",
       "      <td></td>\n",
       "      <td></td>\n",
       "      <td>20</td>\n",
       "      <td></td>\n",
       "      <td></td>\n",
       "      <td>0</td>\n",
       "      <td>K</td>\n",
       "      <td>24.0</td>\n",
       "    </tr>\n",
       "    <tr>\n",
       "      <th>1507827</th>\n",
       "      <td>Mandalore</td>\n",
       "      <td>3824.79</td>\n",
       "      <td>19.0</td>\n",
       "      <td>3825.64</td>\n",
       "      <td>1275.21</td>\n",
       "      <td>25.0</td>\n",
       "      <td>15088.0</td>\n",
       "      <td>14.0</td>\n",
       "      <td>28.0</td>\n",
       "      <td>5.0</td>\n",
       "      <td></td>\n",
       "      <td></td>\n",
       "      <td>42</td>\n",
       "      <td>Data:490F=1GB,7d</td>\n",
       "      <td>13.0</td>\n",
       "      <td>0</td>\n",
       "      <td>K</td>\n",
       "      <td>24.0</td>\n",
       "    </tr>\n",
       "    <tr>\n",
       "      <th>1507829</th>\n",
       "      <td>Mandalore</td>\n",
       "      <td>7179.49</td>\n",
       "      <td>17.0</td>\n",
       "      <td>6972.22</td>\n",
       "      <td>2323.93</td>\n",
       "      <td>18.0</td>\n",
       "      <td>4269.0</td>\n",
       "      <td>7.0</td>\n",
       "      <td></td>\n",
       "      <td>11.0</td>\n",
       "      <td>0.0</td>\n",
       "      <td>61.0</td>\n",
       "      <td>41</td>\n",
       "      <td>Data:490F=1GB,7d</td>\n",
       "      <td>4.0</td>\n",
       "      <td>0</td>\n",
       "      <td>K</td>\n",
       "      <td>24.0</td>\n",
       "    </tr>\n",
       "    <tr>\n",
       "      <th>1507830</th>\n",
       "      <td>Celestial</td>\n",
       "      <td>854.7</td>\n",
       "      <td>2.0</td>\n",
       "      <td>854.7</td>\n",
       "      <td>285.04</td>\n",
       "      <td>2.0</td>\n",
       "      <td>2276.0</td>\n",
       "      <td>0.0</td>\n",
       "      <td></td>\n",
       "      <td></td>\n",
       "      <td></td>\n",
       "      <td></td>\n",
       "      <td>36</td>\n",
       "      <td>Data:1000F=2GB,30d</td>\n",
       "      <td>2.0</td>\n",
       "      <td>0</td>\n",
       "      <td>K</td>\n",
       "      <td>24.0</td>\n",
       "    </tr>\n",
       "    <tr>\n",
       "      <th>1507831</th>\n",
       "      <td>Luminous</td>\n",
       "      <td>1923.08</td>\n",
       "      <td>9.0</td>\n",
       "      <td>2136.75</td>\n",
       "      <td>712.39</td>\n",
       "      <td>10.0</td>\n",
       "      <td></td>\n",
       "      <td>34.0</td>\n",
       "      <td>74.0</td>\n",
       "      <td>48.0</td>\n",
       "      <td></td>\n",
       "      <td></td>\n",
       "      <td>40</td>\n",
       "      <td>All-net 500F=2000F;5d</td>\n",
       "      <td>10.0</td>\n",
       "      <td>0</td>\n",
       "      <td>K</td>\n",
       "      <td>24.0</td>\n",
       "    </tr>\n",
       "  </tbody>\n",
       "</table>\n",
       "<p>999713 rows × 18 columns</p>\n",
       "</div>"
      ],
      "text/plain": [
       "            region   Amount refill_frequency  revenue arpu_segment frequency  \\\n",
       "1           Nebula  4764.96             41.0  4756.84      1585.47      41.0   \n",
       "2        Celestial  5769.23             22.0  5769.23      1923.08      22.0   \n",
       "4        Eclipsara  5341.88             58.0  5636.75      1879.06      60.0   \n",
       "5        Celestial    42.74              1.0    42.74         14.1       2.0   \n",
       "7        Eclipsara   2564.1             12.0  2777.78       926.07      13.0   \n",
       "...            ...      ...              ...      ...          ...       ...   \n",
       "1507825  Mandalore    85.47              2.0    81.62        27.35       3.0   \n",
       "1507827  Mandalore  3824.79             19.0  3825.64      1275.21      25.0   \n",
       "1507829  Mandalore  7179.49             17.0  6972.22      2323.93      18.0   \n",
       "1507830  Celestial    854.7              2.0    854.7       285.04       2.0   \n",
       "1507831   Luminous  1923.08              9.0  2136.75       712.39      10.0   \n",
       "\n",
       "        data_volume on_net Procuct_1 Procuct_2 zone1 zone2  regularity  \\\n",
       "1               2.0  626.0      24.0                                62   \n",
       "2           28121.0    0.0                 1.0                      61   \n",
       "4            1131.0  546.0     376.0       0.0                      62   \n",
       "5               4.0    3.0                                          44   \n",
       "7                     96.0      96.0       1.0                      59   \n",
       "...             ...    ...       ...       ...   ...   ...         ...   \n",
       "1507825       121.0    8.0                                          20   \n",
       "1507827     15088.0   14.0      28.0       5.0                      42   \n",
       "1507829      4269.0    7.0                11.0   0.0  61.0          41   \n",
       "1507830      2276.0    0.0                                          36   \n",
       "1507831               34.0      74.0      48.0                      40   \n",
       "\n",
       "                                     top_pack freq_top_pack  Target  \\\n",
       "1              On net 200F=Unlimited _call24H          31.0       0   \n",
       "2                                                                 0   \n",
       "4                 Mixt 250F=Unlimited_call24H          31.0       0   \n",
       "5                                                                 0   \n",
       "7        All-net 500F =2000F_AllNet_Unlimited          13.0       0   \n",
       "...                                       ...           ...     ...   \n",
       "1507825                                                           0   \n",
       "1507827                      Data:490F=1GB,7d          13.0       0   \n",
       "1507829                      Data:490F=1GB,7d           4.0       0   \n",
       "1507830                    Data:1000F=2GB,30d           2.0       0   \n",
       "1507831                 All-net 500F=2000F;5d          10.0       0   \n",
       "\n",
       "        tenure_letter  tenure_months  \n",
       "1                   K           24.0  \n",
       "2                   K           24.0  \n",
       "4                   K           24.0  \n",
       "5                   K           24.0  \n",
       "7                   K           24.0  \n",
       "...               ...            ...  \n",
       "1507825             K           24.0  \n",
       "1507827             K           24.0  \n",
       "1507829             K           24.0  \n",
       "1507830             K           24.0  \n",
       "1507831             K           24.0  \n",
       "\n",
       "[999713 rows x 18 columns]"
      ]
     },
     "execution_count": 149,
     "metadata": {},
     "output_type": "execute_result"
    }
   ],
   "source": [
    "cleaned_df"
   ]
  },
  {
   "cell_type": "code",
   "execution_count": 150,
   "id": "e237e702",
   "metadata": {
    "executionInfo": {
     "elapsed": 2469,
     "status": "ok",
     "timestamp": 1700917463982,
     "user": {
      "displayName": "Matsolo Sokolo",
      "userId": "11566973559157574788"
     },
     "user_tz": -120
    },
    "id": "386be46f"
   },
   "outputs": [],
   "source": [
    "columns_to_convert = ['Amount', 'refill_frequency', 'revenue', 'arpu_segment', 'frequency',\n",
    "                       'data_volume', 'on_net', 'Procuct_1', 'Procuct_2','zone1', 'zone2',\n",
    "                       'freq_top_pack']\n",
    "\n",
    "cleaned_df[columns_to_convert] = cleaned_df[columns_to_convert].apply(pd.to_numeric, errors='coerce')"
   ]
  },
  {
   "cell_type": "code",
   "execution_count": 151,
   "id": "a73685c3",
   "metadata": {
    "colab": {
     "base_uri": "https://localhost:8080/"
    },
    "executionInfo": {
     "elapsed": 542,
     "status": "ok",
     "timestamp": 1700917464521,
     "user": {
      "displayName": "Matsolo Sokolo",
      "userId": "11566973559157574788"
     },
     "user_tz": -120
    },
    "id": "c2681a3d",
    "outputId": "c0fd3b4b-5db7-4da0-be38-10f83e763f8f"
   },
   "outputs": [
    {
     "data": {
      "text/plain": [
       "region               object\n",
       "Amount              float64\n",
       "refill_frequency    float64\n",
       "revenue             float64\n",
       "arpu_segment        float64\n",
       "frequency           float64\n",
       "data_volume         float64\n",
       "on_net              float64\n",
       "Procuct_1           float64\n",
       "Procuct_2           float64\n",
       "zone1               float64\n",
       "zone2               float64\n",
       "regularity            int64\n",
       "top_pack             object\n",
       "freq_top_pack       float64\n",
       "Target                int64\n",
       "tenure_letter        object\n",
       "tenure_months       float64\n",
       "dtype: object"
      ]
     },
     "execution_count": 151,
     "metadata": {},
     "output_type": "execute_result"
    }
   ],
   "source": [
    "cleaned_df.dtypes"
   ]
  },
  {
   "cell_type": "code",
   "execution_count": 152,
   "id": "7661943b",
   "metadata": {
    "colab": {
     "base_uri": "https://localhost:8080/",
     "height": 209
    },
    "executionInfo": {
     "elapsed": 13,
     "status": "ok",
     "timestamp": 1700917464522,
     "user": {
      "displayName": "Matsolo Sokolo",
      "userId": "11566973559157574788"
     },
     "user_tz": -120
    },
    "id": "6fc740cc",
    "outputId": "b7a83ee2-7fa1-4199-bc76-3979e2f2aee6"
   },
   "outputs": [
    {
     "data": {
      "image/png": "[encoded data removed]",
      "text/plain": [
       "<Figure size 800x1200 with 15 Axes>"
      ]
     },
     "metadata": {},
     "output_type": "display_data"
    }
   ],
   "source": [
    "# List of numeric features for visualization\n",
    "numeric = ['Amount', 'refill_frequency', 'revenue', 'arpu_segment', 'frequency',\n",
    "           'data_volume', 'on_net', 'Procuct_1', 'Procuct_2','zone1', 'zone2', 'freq_top_pack', 'tenure_months']\n",
    "# Calculating the number of plots and the number of rows and columns for the subplots\n",
    "num_plots = len(numeric)\n",
    "num_rows = (num_plots + 2) // 3\n",
    "num_cols = min(num_plots, 3)\n",
    "\n",
    "# Creating subplots based on the calculated number of rows and columns\n",
    "# Setting the size of the figure as 8 inches by 12 inches\n",
    "fig, axes = plt.subplots(num_rows, num_cols, figsize=(8, 12))\n",
    "axes = axes.flatten()\n",
    "\n",
    "# Iterating over the numeric features for creating box plots\n",
    "for i, feat in enumerate(numeric):\n",
    "    # Creating a box plot for the current feature and assigning it to the corresponding subplot\n",
    "    cleaned_df[[feat]].boxplot(ax=axes[i])\n",
    "\n",
    "# Adjusting the layout of the figure for better visualization\n",
    "fig.tight_layout()\n",
    "\n",
    "# Displaying the visualizations\n",
    "plt.show()"
   ]
  },
  {
   "cell_type": "code",
   "execution_count": 153,
   "id": "dbb51603",
   "metadata": {
    "colab": {
     "base_uri": "https://localhost:8080/"
    },
    "executionInfo": {
     "elapsed": 12,
     "status": "ok",
     "timestamp": 1700917464522,
     "user": {
      "displayName": "Matsolo Sokolo",
      "userId": "11566973559157574788"
     },
     "user_tz": -120
    },
    "id": "debc64f5",
    "outputId": "4d6a8596-8a6a-41c6-8438-f78fa7e9ee2b"
   },
   "outputs": [
    {
     "data": {
      "text/plain": [
       "Target\n",
       "0    945773\n",
       "1     53940\n",
       "Name: count, dtype: int64"
      ]
     },
     "execution_count": 153,
     "metadata": {},
     "output_type": "execute_result"
    }
   ],
   "source": [
    "cleaned_df['Target'].value_counts()"
   ]
  },
  {
   "cell_type": "code",
   "execution_count": 154,
   "id": "575f21f2",
   "metadata": {
    "colab": {
     "base_uri": "https://localhost:8080/"
    },
    "executionInfo": {
     "elapsed": 498,
     "status": "ok",
     "timestamp": 1700917465012,
     "user": {
      "displayName": "Matsolo Sokolo",
      "userId": "11566973559157574788"
     },
     "user_tz": -120
    },
    "id": "0e59f1ac",
    "outputId": "cc15d166-37bd-4629-a726-72c5782a3f37"
   },
   "outputs": [
    {
     "data": {
      "text/plain": [
       "region                   0\n",
       "Amount               36976\n",
       "refill_frequency     36976\n",
       "revenue                  0\n",
       "arpu_segment             0\n",
       "frequency                0\n",
       "data_volume         336734\n",
       "on_net              121620\n",
       "Procuct_1           128616\n",
       "Procuct_2           399510\n",
       "zone1               885064\n",
       "zone2               904481\n",
       "regularity               0\n",
       "top_pack                 0\n",
       "freq_top_pack       123752\n",
       "Target                   0\n",
       "tenure_letter            0\n",
       "tenure_months            0\n",
       "dtype: int64"
      ]
     },
     "execution_count": 154,
     "metadata": {},
     "output_type": "execute_result"
    }
   ],
   "source": [
    "cleaned_df.isnull().sum()"
   ]
  },
  {
   "cell_type": "code",
   "execution_count": 155,
   "id": "51453803",
   "metadata": {
    "executionInfo": {
     "elapsed": 20,
     "status": "ok",
     "timestamp": 1700917465012,
     "user": {
      "displayName": "Matsolo Sokolo",
      "userId": "11566973559157574788"
     },
     "user_tz": -120
    },
    "id": "756a49a2"
   },
   "outputs": [],
   "source": [
    "# Replace missing values with the mean of each column\n",
    "cleaned_df['Amount'].fillna(cleaned_df['Amount'].mean(), inplace=True)\n",
    "cleaned_df['refill_frequency'].fillna(cleaned_df['refill_frequency'].mean(), inplace=True)\n",
    "cleaned_df['data_volume'].fillna(cleaned_df['data_volume'].mean(), inplace=True)\n",
    "cleaned_df['on_net'].fillna(cleaned_df['on_net'].mean(), inplace=True)\n",
    "cleaned_df['Procuct_1'].fillna(cleaned_df['Procuct_1'].mean(), inplace=True)\n",
    "cleaned_df['Procuct_2'].fillna(cleaned_df['Procuct_2'].mean(), inplace=True)\n",
    "cleaned_df['zone1'].fillna(cleaned_df['zone1'].mean(), inplace=True)\n",
    "cleaned_df['zone2'].fillna(cleaned_df['zone2'].mean(), inplace=True)\n",
    "cleaned_df['freq_top_pack'].fillna(cleaned_df['freq_top_pack'].mean(), inplace=True)\n",
    "\n",
    "cleaned_df['revenue'].fillna(cleaned_df['revenue'].mean(), inplace=True)\n",
    "cleaned_df['arpu_segment'].fillna(cleaned_df['arpu_segment'].mean(), inplace=True)\n",
    "cleaned_df['frequency'].fillna(cleaned_df['frequency'].mean(), inplace=True)"
   ]
  },
  {
   "cell_type": "code",
   "execution_count": 156,
   "id": "51862a16",
   "metadata": {
    "executionInfo": {
     "elapsed": 14,
     "status": "ok",
     "timestamp": 1700917465013,
     "user": {
      "displayName": "Matsolo Sokolo",
      "userId": "11566973559157574788"
     },
     "user_tz": -120
    },
    "id": "7cafc132"
   },
   "outputs": [],
   "source": [
    "\n",
    "# Calculate the mode excluding NaN values\n",
    "mode_value = cleaned_df['top_pack'].mode().iloc[0]\n",
    "\n",
    "# Replace NaN values with mode_value\n",
    "cleaned_df['top_pack'].fillna(mode_value, inplace=True)\n",
    "\n",
    "# Replace empty strings with mode_value\n",
    "cleaned_df['top_pack'].replace('', mode_value, inplace=True)\n"
   ]
  },
  {
   "cell_type": "code",
   "execution_count": 157,
   "id": "93c1057f",
   "metadata": {
    "executionInfo": {
     "elapsed": 13,
     "status": "ok",
     "timestamp": 1700917465013,
     "user": {
      "displayName": "Matsolo Sokolo",
      "userId": "11566973559157574788"
     },
     "user_tz": -120
    },
    "id": "4c8d39e1"
   },
   "outputs": [],
   "source": [
    "mode_value = cleaned_df['region'].mode().iloc[0]\n",
    "cleaned_df['region'].fillna(mode_value, inplace=True)"
   ]
  },
  {
   "cell_type": "code",
   "execution_count": 158,
   "id": "e8426ce1",
   "metadata": {
    "colab": {
     "base_uri": "https://localhost:8080/"
    },
    "executionInfo": {
     "elapsed": 662,
     "status": "ok",
     "timestamp": 1700917465664,
     "user": {
      "displayName": "Matsolo Sokolo",
      "userId": "11566973559157574788"
     },
     "user_tz": -120
    },
    "id": "a92a55d4",
    "outputId": "274f278e-ebea-485f-d847-0b10139d40a2"
   },
   "outputs": [
    {
     "data": {
      "text/plain": [
       "region              0\n",
       "Amount              0\n",
       "refill_frequency    0\n",
       "revenue             0\n",
       "arpu_segment        0\n",
       "frequency           0\n",
       "data_volume         0\n",
       "on_net              0\n",
       "Procuct_1           0\n",
       "Procuct_2           0\n",
       "zone1               0\n",
       "zone2               0\n",
       "regularity          0\n",
       "top_pack            0\n",
       "freq_top_pack       0\n",
       "Target              0\n",
       "tenure_letter       0\n",
       "tenure_months       0\n",
       "dtype: int64"
      ]
     },
     "execution_count": 158,
     "metadata": {},
     "output_type": "execute_result"
    }
   ],
   "source": [
    "cleaned_df.isnull().sum()"
   ]
  },
  {
   "cell_type": "code",
   "execution_count": 159,
   "id": "56ae32b2",
   "metadata": {
    "colab": {
     "base_uri": "https://localhost:8080/",
     "height": 496
    },
    "executionInfo": {
     "elapsed": 20,
     "status": "ok",
     "timestamp": 1700917465665,
     "user": {
      "displayName": "Matsolo Sokolo",
      "userId": "11566973559157574788"
     },
     "user_tz": -120
    },
    "id": "f93fefac",
    "outputId": "d1d9ebf5-21b7-4102-e689-8b31c6272036"
   },
   "outputs": [
    {
     "data": {
      "text/html": [
       "<div>\n",
       "<style scoped>\n",
       "    .dataframe tbody tr th:only-of-type {\n",
       "        vertical-align: middle;\n",
       "    }\n",
       "\n",
       "    .dataframe tbody tr th {\n",
       "        vertical-align: top;\n",
       "    }\n",
       "\n",
       "    .dataframe thead th {\n",
       "        text-align: right;\n",
       "    }\n",
       "</style>\n",
       "<table border=\"1\" class=\"dataframe\">\n",
       "  <thead>\n",
       "    <tr style=\"text-align: right;\">\n",
       "      <th></th>\n",
       "      <th>region</th>\n",
       "      <th>Amount</th>\n",
       "      <th>refill_frequency</th>\n",
       "      <th>revenue</th>\n",
       "      <th>arpu_segment</th>\n",
       "      <th>frequency</th>\n",
       "      <th>data_volume</th>\n",
       "      <th>on_net</th>\n",
       "      <th>Procuct_1</th>\n",
       "      <th>Procuct_2</th>\n",
       "      <th>zone1</th>\n",
       "      <th>zone2</th>\n",
       "      <th>regularity</th>\n",
       "      <th>top_pack</th>\n",
       "      <th>freq_top_pack</th>\n",
       "      <th>Target</th>\n",
       "      <th>tenure_letter</th>\n",
       "      <th>tenure_months</th>\n",
       "    </tr>\n",
       "  </thead>\n",
       "  <tbody>\n",
       "    <tr>\n",
       "      <th>1</th>\n",
       "      <td>Nebula</td>\n",
       "      <td>4764.960000</td>\n",
       "      <td>41.000000</td>\n",
       "      <td>4756.84</td>\n",
       "      <td>1585.47</td>\n",
       "      <td>41.0</td>\n",
       "      <td>2.000000</td>\n",
       "      <td>626.000000</td>\n",
       "      <td>24.000000</td>\n",
       "      <td>23.221054</td>\n",
       "      <td>8.280709</td>\n",
       "      <td>7.410408</td>\n",
       "      <td>62</td>\n",
       "      <td>On net 200F=Unlimited _call24H</td>\n",
       "      <td>31.000000</td>\n",
       "      <td>0</td>\n",
       "      <td>K</td>\n",
       "      <td>24.0</td>\n",
       "    </tr>\n",
       "    <tr>\n",
       "      <th>2</th>\n",
       "      <td>Celestial</td>\n",
       "      <td>5769.230000</td>\n",
       "      <td>22.000000</td>\n",
       "      <td>5769.23</td>\n",
       "      <td>1923.08</td>\n",
       "      <td>22.0</td>\n",
       "      <td>28121.000000</td>\n",
       "      <td>0.000000</td>\n",
       "      <td>95.902849</td>\n",
       "      <td>1.000000</td>\n",
       "      <td>8.280709</td>\n",
       "      <td>7.410408</td>\n",
       "      <td>61</td>\n",
       "      <td>All-net 500F=2000F;5d</td>\n",
       "      <td>9.264383</td>\n",
       "      <td>0</td>\n",
       "      <td>K</td>\n",
       "      <td>24.0</td>\n",
       "    </tr>\n",
       "    <tr>\n",
       "      <th>4</th>\n",
       "      <td>Eclipsara</td>\n",
       "      <td>5341.880000</td>\n",
       "      <td>58.000000</td>\n",
       "      <td>5636.75</td>\n",
       "      <td>1879.06</td>\n",
       "      <td>60.0</td>\n",
       "      <td>1131.000000</td>\n",
       "      <td>546.000000</td>\n",
       "      <td>376.000000</td>\n",
       "      <td>0.000000</td>\n",
       "      <td>8.280709</td>\n",
       "      <td>7.410408</td>\n",
       "      <td>62</td>\n",
       "      <td>Mixt 250F=Unlimited_call24H</td>\n",
       "      <td>31.000000</td>\n",
       "      <td>0</td>\n",
       "      <td>K</td>\n",
       "      <td>24.0</td>\n",
       "    </tr>\n",
       "    <tr>\n",
       "      <th>5</th>\n",
       "      <td>Celestial</td>\n",
       "      <td>42.740000</td>\n",
       "      <td>1.000000</td>\n",
       "      <td>42.74</td>\n",
       "      <td>14.10</td>\n",
       "      <td>2.0</td>\n",
       "      <td>4.000000</td>\n",
       "      <td>3.000000</td>\n",
       "      <td>95.902849</td>\n",
       "      <td>23.221054</td>\n",
       "      <td>8.280709</td>\n",
       "      <td>7.410408</td>\n",
       "      <td>44</td>\n",
       "      <td>All-net 500F=2000F;5d</td>\n",
       "      <td>9.264383</td>\n",
       "      <td>0</td>\n",
       "      <td>K</td>\n",
       "      <td>24.0</td>\n",
       "    </tr>\n",
       "    <tr>\n",
       "      <th>7</th>\n",
       "      <td>Eclipsara</td>\n",
       "      <td>2564.100000</td>\n",
       "      <td>12.000000</td>\n",
       "      <td>2777.78</td>\n",
       "      <td>926.07</td>\n",
       "      <td>13.0</td>\n",
       "      <td>3796.157635</td>\n",
       "      <td>96.000000</td>\n",
       "      <td>96.000000</td>\n",
       "      <td>1.000000</td>\n",
       "      <td>8.280709</td>\n",
       "      <td>7.410408</td>\n",
       "      <td>59</td>\n",
       "      <td>All-net 500F =2000F_AllNet_Unlimited</td>\n",
       "      <td>13.000000</td>\n",
       "      <td>0</td>\n",
       "      <td>K</td>\n",
       "      <td>24.0</td>\n",
       "    </tr>\n",
       "    <tr>\n",
       "      <th>...</th>\n",
       "      <td>...</td>\n",
       "      <td>...</td>\n",
       "      <td>...</td>\n",
       "      <td>...</td>\n",
       "      <td>...</td>\n",
       "      <td>...</td>\n",
       "      <td>...</td>\n",
       "      <td>...</td>\n",
       "      <td>...</td>\n",
       "      <td>...</td>\n",
       "      <td>...</td>\n",
       "      <td>...</td>\n",
       "      <td>...</td>\n",
       "      <td>...</td>\n",
       "      <td>...</td>\n",
       "      <td>...</td>\n",
       "      <td>...</td>\n",
       "      <td>...</td>\n",
       "    </tr>\n",
       "    <tr>\n",
       "      <th>99</th>\n",
       "      <td>Mandalore</td>\n",
       "      <td>2395.987826</td>\n",
       "      <td>11.690497</td>\n",
       "      <td>0.43</td>\n",
       "      <td>0.00</td>\n",
       "      <td>1.0</td>\n",
       "      <td>1.000000</td>\n",
       "      <td>57.000000</td>\n",
       "      <td>0.000000</td>\n",
       "      <td>23.221054</td>\n",
       "      <td>8.280709</td>\n",
       "      <td>7.410408</td>\n",
       "      <td>23</td>\n",
       "      <td>All-net 500F=2000F;5d</td>\n",
       "      <td>9.264383</td>\n",
       "      <td>0</td>\n",
       "      <td>K</td>\n",
       "      <td>24.0</td>\n",
       "    </tr>\n",
       "    <tr>\n",
       "      <th>101</th>\n",
       "      <td>Mandalore</td>\n",
       "      <td>213.680000</td>\n",
       "      <td>1.000000</td>\n",
       "      <td>213.25</td>\n",
       "      <td>70.94</td>\n",
       "      <td>2.0</td>\n",
       "      <td>3796.157635</td>\n",
       "      <td>8.000000</td>\n",
       "      <td>7.000000</td>\n",
       "      <td>1.000000</td>\n",
       "      <td>8.280709</td>\n",
       "      <td>7.410408</td>\n",
       "      <td>49</td>\n",
       "      <td>All-net 500F=2000F;5d</td>\n",
       "      <td>9.264383</td>\n",
       "      <td>0</td>\n",
       "      <td>K</td>\n",
       "      <td>24.0</td>\n",
       "    </tr>\n",
       "    <tr>\n",
       "      <th>102</th>\n",
       "      <td>Droidika</td>\n",
       "      <td>213.680000</td>\n",
       "      <td>1.000000</td>\n",
       "      <td>213.68</td>\n",
       "      <td>71.37</td>\n",
       "      <td>1.0</td>\n",
       "      <td>3796.157635</td>\n",
       "      <td>19.000000</td>\n",
       "      <td>16.000000</td>\n",
       "      <td>3.000000</td>\n",
       "      <td>8.280709</td>\n",
       "      <td>7.410408</td>\n",
       "      <td>10</td>\n",
       "      <td>All-net 500F=2000F;5d</td>\n",
       "      <td>1.000000</td>\n",
       "      <td>0</td>\n",
       "      <td>K</td>\n",
       "      <td>24.0</td>\n",
       "    </tr>\n",
       "    <tr>\n",
       "      <th>103</th>\n",
       "      <td>Mandalore</td>\n",
       "      <td>2395.987826</td>\n",
       "      <td>11.690497</td>\n",
       "      <td>6.41</td>\n",
       "      <td>2.14</td>\n",
       "      <td>1.0</td>\n",
       "      <td>3796.157635</td>\n",
       "      <td>301.475766</td>\n",
       "      <td>95.902849</td>\n",
       "      <td>23.221054</td>\n",
       "      <td>8.280709</td>\n",
       "      <td>7.410408</td>\n",
       "      <td>1</td>\n",
       "      <td>All-net 500F=2000F;5d</td>\n",
       "      <td>9.264383</td>\n",
       "      <td>1</td>\n",
       "      <td>K</td>\n",
       "      <td>24.0</td>\n",
       "    </tr>\n",
       "    <tr>\n",
       "      <th>104</th>\n",
       "      <td>Quasar</td>\n",
       "      <td>3482.910000</td>\n",
       "      <td>45.000000</td>\n",
       "      <td>3611.97</td>\n",
       "      <td>1203.85</td>\n",
       "      <td>55.0</td>\n",
       "      <td>2682.000000</td>\n",
       "      <td>343.000000</td>\n",
       "      <td>62.000000</td>\n",
       "      <td>23.221054</td>\n",
       "      <td>8.280709</td>\n",
       "      <td>7.410408</td>\n",
       "      <td>60</td>\n",
       "      <td>Data: 100 F=40MB,24H</td>\n",
       "      <td>38.000000</td>\n",
       "      <td>0</td>\n",
       "      <td>K</td>\n",
       "      <td>24.0</td>\n",
       "    </tr>\n",
       "  </tbody>\n",
       "</table>\n",
       "<p>70 rows × 18 columns</p>\n",
       "</div>"
      ],
      "text/plain": [
       "        region       Amount  refill_frequency  revenue  arpu_segment  \\\n",
       "1       Nebula  4764.960000         41.000000  4756.84       1585.47   \n",
       "2    Celestial  5769.230000         22.000000  5769.23       1923.08   \n",
       "4    Eclipsara  5341.880000         58.000000  5636.75       1879.06   \n",
       "5    Celestial    42.740000          1.000000    42.74         14.10   \n",
       "7    Eclipsara  2564.100000         12.000000  2777.78        926.07   \n",
       "..         ...          ...               ...      ...           ...   \n",
       "99   Mandalore  2395.987826         11.690497     0.43          0.00   \n",
       "101  Mandalore   213.680000          1.000000   213.25         70.94   \n",
       "102   Droidika   213.680000          1.000000   213.68         71.37   \n",
       "103  Mandalore  2395.987826         11.690497     6.41          2.14   \n",
       "104     Quasar  3482.910000         45.000000  3611.97       1203.85   \n",
       "\n",
       "     frequency   data_volume      on_net   Procuct_1  Procuct_2     zone1  \\\n",
       "1         41.0      2.000000  626.000000   24.000000  23.221054  8.280709   \n",
       "2         22.0  28121.000000    0.000000   95.902849   1.000000  8.280709   \n",
       "4         60.0   1131.000000  546.000000  376.000000   0.000000  8.280709   \n",
       "5          2.0      4.000000    3.000000   95.902849  23.221054  8.280709   \n",
       "7         13.0   3796.157635   96.000000   96.000000   1.000000  8.280709   \n",
       "..         ...           ...         ...         ...        ...       ...   \n",
       "99         1.0      1.000000   57.000000    0.000000  23.221054  8.280709   \n",
       "101        2.0   3796.157635    8.000000    7.000000   1.000000  8.280709   \n",
       "102        1.0   3796.157635   19.000000   16.000000   3.000000  8.280709   \n",
       "103        1.0   3796.157635  301.475766   95.902849  23.221054  8.280709   \n",
       "104       55.0   2682.000000  343.000000   62.000000  23.221054  8.280709   \n",
       "\n",
       "        zone2  regularity                              top_pack  \\\n",
       "1    7.410408          62        On net 200F=Unlimited _call24H   \n",
       "2    7.410408          61                 All-net 500F=2000F;5d   \n",
       "4    7.410408          62           Mixt 250F=Unlimited_call24H   \n",
       "5    7.410408          44                 All-net 500F=2000F;5d   \n",
       "7    7.410408          59  All-net 500F =2000F_AllNet_Unlimited   \n",
       "..        ...         ...                                   ...   \n",
       "99   7.410408          23                 All-net 500F=2000F;5d   \n",
       "101  7.410408          49                 All-net 500F=2000F;5d   \n",
       "102  7.410408          10                 All-net 500F=2000F;5d   \n",
       "103  7.410408           1                 All-net 500F=2000F;5d   \n",
       "104  7.410408          60                  Data: 100 F=40MB,24H   \n",
       "\n",
       "     freq_top_pack  Target tenure_letter  tenure_months  \n",
       "1        31.000000       0             K           24.0  \n",
       "2         9.264383       0             K           24.0  \n",
       "4        31.000000       0             K           24.0  \n",
       "5         9.264383       0             K           24.0  \n",
       "7        13.000000       0             K           24.0  \n",
       "..             ...     ...           ...            ...  \n",
       "99        9.264383       0             K           24.0  \n",
       "101       9.264383       0             K           24.0  \n",
       "102       1.000000       0             K           24.0  \n",
       "103       9.264383       1             K           24.0  \n",
       "104      38.000000       0             K           24.0  \n",
       "\n",
       "[70 rows x 18 columns]"
      ]
     },
     "execution_count": 159,
     "metadata": {},
     "output_type": "execute_result"
    }
   ],
   "source": [
    "cleaned_df.head(70)"
   ]
  },
  {
   "cell_type": "markdown",
   "id": "9437ac03",
   "metadata": {
    "id": "43fcc1e6"
   },
   "source": [
    "Task: Visualize data using matplotlib"
   ]
  },
  {
   "cell_type": "code",
   "execution_count": 160,
   "id": "9adab72d",
   "metadata": {
    "colab": {
     "base_uri": "https://localhost:8080/"
    },
    "executionInfo": {
     "elapsed": 17,
     "status": "ok",
     "timestamp": 1700917465665,
     "user": {
      "displayName": "Matsolo Sokolo",
      "userId": "11566973559157574788"
     },
     "user_tz": -120
    },
    "id": "e647a6dd",
    "outputId": "543e6b1b-22d5-4f97-897e-6bbbc04dce67"
   },
   "outputs": [
    {
     "name": "stdout",
     "output_type": "stream",
     "text": [
      "Target\n",
      "0    945773\n",
      "1     53940\n",
      "Name: count, dtype: int64\n"
     ]
    }
   ],
   "source": [
    "# calculate the no. of Android vs. iPhone users\n",
    "df_bar_plot = cleaned_df['Target'].value_counts()\n",
    "print(df_bar_plot)"
   ]
  },
  {
   "cell_type": "code",
   "execution_count": 161,
   "id": "c11f605d",
   "metadata": {
    "colab": {
     "base_uri": "https://localhost:8080/",
     "height": 472
    },
    "executionInfo": {
     "elapsed": 809,
     "status": "ok",
     "timestamp": 1700917466462,
     "user": {
      "displayName": "Matsolo Sokolo",
      "userId": "11566973559157574788"
     },
     "user_tz": -120
    },
    "id": "b2286b2b",
    "outputId": "1ae386bc-9ca9-4789-926b-095e5e925341"
   },
   "outputs": [
    {
     "data": {
      "image/png": "[encoded data removed]",
      "text/plain": [
       "<Figure size 640x480 with 1 Axes>"
      ]
     },
     "metadata": {},
     "output_type": "display_data"
    }
   ],
   "source": [
    "\n",
    "# Assuming df_bar_plot is a pandas DataFrame with the index and values you want to plot\n",
    "plt.bar(df_bar_plot.index, df_bar_plot, label='Label for Legend')  # Replace 'column_name' and 'Label for Legend' with actual values\n",
    "plt.title(\"Bar plot of churned vs. retained users\")\n",
    "plt.xlabel(\"Label\")\n",
    "\n",
    "plt.legend()\n",
    "plt.show()"
   ]
  },
  {
   "cell_type": "code",
   "execution_count": 162,
   "id": "bf4d9acb",
   "metadata": {
    "colab": {
     "base_uri": "https://localhost:8080/"
    },
    "executionInfo": {
     "elapsed": 15,
     "status": "ok",
     "timestamp": 1700917466463,
     "user": {
      "displayName": "Matsolo Sokolo",
      "userId": "11566973559157574788"
     },
     "user_tz": -120
    },
    "id": "d4b832b4",
    "outputId": "91df5f19-289d-4a60-98f5-4abdac48f7a5"
   },
   "outputs": [
    {
     "name": "stdout",
     "output_type": "stream",
     "text": [
      "Target\n",
      "0    945773\n",
      "1     53940\n",
      "Name: count, dtype: int64\n",
      "Target\n",
      "0    94.604451\n",
      "1     5.395549\n",
      "Name: proportion, dtype: float64\n"
     ]
    }
   ],
   "source": [
    "# calculate the no. of churned vs. retained\n",
    "print(cleaned_df['Target'].value_counts())\n",
    "\n",
    "# calculate the proportion\n",
    "print(cleaned_df['Target'].value_counts(normalize=True)*100)"
   ]
  },
  {
   "cell_type": "code",
   "execution_count": 163,
   "id": "66921049",
   "metadata": {
    "executionInfo": {
     "elapsed": 1305,
     "status": "ok",
     "timestamp": 1700917467758,
     "user": {
      "displayName": "Matsolo Sokolo",
      "userId": "11566973559157574788"
     },
     "user_tz": -120
    },
    "id": "86fb60d1"
   },
   "outputs": [],
   "source": [
    "import pandas as pd\n",
    "from sklearn.utils import resample\n",
    "\n",
    "target_class = 1  # Change this to the class you want to balance\n",
    "oversample_percentage = 90  # Change this to the desired oversampling percentage\n",
    "\n",
    "# Separate the majority and minority classes\n",
    "majority_class = cleaned_df[cleaned_df['Target'] != target_class]\n",
    "minority_class = cleaned_df[cleaned_df['Target'] == target_class]\n",
    "\n",
    "# Calculate the desired number of samples for the minority class based on the oversample percentage\n",
    "oversample_factor = oversample_percentage / 100\n",
    "desired_samples = int(len(majority_class) * oversample_factor)\n",
    "\n",
    "# Oversample the minority class\n",
    "oversampled_minority = resample(minority_class, replace=True, n_samples=desired_samples, random_state=42)\n",
    "\n",
    "# Undersample the majority class\n",
    "undersampled_majority = resample(majority_class, replace=False, n_samples=desired_samples, random_state=42)\n",
    "\n",
    "# Combine the oversampled minority class with the undersampled majority class\n",
    "balanced_df = pd.concat([undersampled_majority, oversampled_minority])\n",
    "\n",
    "# Shuffle the DataFrame to randomize the order of samples\n",
    "cleaned_df = balanced_df.sample(frac=1, random_state=42).reset_index(drop=True)\n"
   ]
  },
  {
   "cell_type": "code",
   "execution_count": 164,
   "id": "62dbd6de",
   "metadata": {
    "colab": {
     "base_uri": "https://localhost:8080/"
    },
    "executionInfo": {
     "elapsed": 11,
     "status": "ok",
     "timestamp": 1700917467758,
     "user": {
      "displayName": "Matsolo Sokolo",
      "userId": "11566973559157574788"
     },
     "user_tz": -120
    },
    "id": "68132b0f",
    "outputId": "2f53a379-8edb-4306-de9c-bf0d39df478b"
   },
   "outputs": [
    {
     "name": "stdout",
     "output_type": "stream",
     "text": [
      "Target\n",
      "1    851195\n",
      "0    851195\n",
      "Name: count, dtype: int64\n"
     ]
    }
   ],
   "source": [
    "# calculate the no. of Android vs. iPhone users\n",
    "df_bar_plot = cleaned_df['Target'].value_counts()\n",
    "print(df_bar_plot)"
   ]
  },
  {
   "cell_type": "code",
   "execution_count": 165,
   "id": "3a5fb3ee",
   "metadata": {
    "colab": {
     "base_uri": "https://localhost:8080/",
     "height": 472
    },
    "executionInfo": {
     "elapsed": 1014,
     "status": "ok",
     "timestamp": 1700917468766,
     "user": {
      "displayName": "Matsolo Sokolo",
      "userId": "11566973559157574788"
     },
     "user_tz": -120
    },
    "id": "8be49650",
    "outputId": "6a4cd65e-9e49-4b22-8ccd-6c248cb5e81e"
   },
   "outputs": [
    {
     "data": {
      "image/png": "[encoded data removed]",
      "text/plain": [
       "<Figure size 640x480 with 1 Axes>"
      ]
     },
     "metadata": {},
     "output_type": "display_data"
    }
   ],
   "source": [
    "\n",
    "# Assuming df_bar_plot is a pandas DataFrame with the index and values you want to plot\n",
    "plt.bar(df_bar_plot.index, df_bar_plot, label='Label for Legend')  # Replace 'column_name' and 'Label for Legend' with actual values\n",
    "plt.title(\"Bar plot of churned vs. retained users\")\n",
    "plt.xlabel(\"Label\")\n",
    "\n",
    "plt.legend()\n",
    "plt.show()"
   ]
  },
  {
   "cell_type": "markdown",
   "id": "26732320",
   "metadata": {
    "id": "2a07cc4b"
   },
   "source": [
    "Task 2: Perform feature engineering"
   ]
  },
  {
   "cell_type": "code",
   "execution_count": 166,
   "id": "406737c2",
   "metadata": {
    "executionInfo": {
     "elapsed": 8,
     "status": "ok",
     "timestamp": 1700917468766,
     "user": {
      "displayName": "Matsolo Sokolo",
      "userId": "11566973559157574788"
     },
     "user_tz": -120
    },
    "id": "50212b25"
   },
   "outputs": [],
   "source": [
    "final_df = cleaned_df.copy()"
   ]
  },
  {
   "cell_type": "code",
   "execution_count": 167,
   "id": "ba3a1222",
   "metadata": {
    "colab": {
     "base_uri": "https://localhost:8080/"
    },
    "executionInfo": {
     "elapsed": 746,
     "status": "ok",
     "timestamp": 1700917469505,
     "user": {
      "displayName": "Matsolo Sokolo",
      "userId": "11566973559157574788"
     },
     "user_tz": -120
    },
    "id": "078a871f",
    "outputId": "46314d44-eecd-4521-e437-6ea691ced81a"
   },
   "outputs": [
    {
     "data": {
      "text/plain": [
       "region              0\n",
       "Amount              0\n",
       "refill_frequency    0\n",
       "revenue             0\n",
       "arpu_segment        0\n",
       "frequency           0\n",
       "data_volume         0\n",
       "on_net              0\n",
       "Procuct_1           0\n",
       "Procuct_2           0\n",
       "zone1               0\n",
       "zone2               0\n",
       "regularity          0\n",
       "top_pack            0\n",
       "freq_top_pack       0\n",
       "Target              0\n",
       "tenure_letter       0\n",
       "tenure_months       0\n",
       "dtype: int64"
      ]
     },
     "execution_count": 167,
     "metadata": {},
     "output_type": "execute_result"
    }
   ],
   "source": [
    "final_df.isnull().sum()"
   ]
  },
  {
   "cell_type": "code",
   "execution_count": 168,
   "id": "72e78f32",
   "metadata": {
    "colab": {
     "base_uri": "https://localhost:8080/",
     "height": 496
    },
    "executionInfo": {
     "elapsed": 9,
     "status": "ok",
     "timestamp": 1700917469506,
     "user": {
      "displayName": "Matsolo Sokolo",
      "userId": "11566973559157574788"
     },
     "user_tz": -120
    },
    "id": "50015ffd",
    "outputId": "71dbcbc8-ab81-497d-df11-b7c3e9e6da21"
   },
   "outputs": [
    {
     "data": {
      "text/html": [
       "<div>\n",
       "<style scoped>\n",
       "    .dataframe tbody tr th:only-of-type {\n",
       "        vertical-align: middle;\n",
       "    }\n",
       "\n",
       "    .dataframe tbody tr th {\n",
       "        vertical-align: top;\n",
       "    }\n",
       "\n",
       "    .dataframe thead th {\n",
       "        text-align: right;\n",
       "    }\n",
       "</style>\n",
       "<table border=\"1\" class=\"dataframe\">\n",
       "  <thead>\n",
       "    <tr style=\"text-align: right;\">\n",
       "      <th></th>\n",
       "      <th>region</th>\n",
       "      <th>Amount</th>\n",
       "      <th>refill_frequency</th>\n",
       "      <th>revenue</th>\n",
       "      <th>arpu_segment</th>\n",
       "      <th>frequency</th>\n",
       "      <th>data_volume</th>\n",
       "      <th>on_net</th>\n",
       "      <th>Procuct_1</th>\n",
       "      <th>Procuct_2</th>\n",
       "      <th>zone1</th>\n",
       "      <th>zone2</th>\n",
       "      <th>regularity</th>\n",
       "      <th>top_pack</th>\n",
       "      <th>freq_top_pack</th>\n",
       "      <th>Target</th>\n",
       "      <th>tenure_letter</th>\n",
       "      <th>tenure_months</th>\n",
       "    </tr>\n",
       "  </thead>\n",
       "  <tbody>\n",
       "    <tr>\n",
       "      <th>0</th>\n",
       "      <td>Mandalore</td>\n",
       "      <td>128.210000</td>\n",
       "      <td>2.000000</td>\n",
       "      <td>125.21</td>\n",
       "      <td>41.88</td>\n",
       "      <td>3.0</td>\n",
       "      <td>823.000000</td>\n",
       "      <td>1.000000</td>\n",
       "      <td>1.000000</td>\n",
       "      <td>23.221054</td>\n",
       "      <td>8.280709</td>\n",
       "      <td>7.410408</td>\n",
       "      <td>3</td>\n",
       "      <td>VAS(IVR_Radio_Daily)</td>\n",
       "      <td>3.000000</td>\n",
       "      <td>1</td>\n",
       "      <td>K</td>\n",
       "      <td>24.0</td>\n",
       "    </tr>\n",
       "    <tr>\n",
       "      <th>1</th>\n",
       "      <td>Mandalore</td>\n",
       "      <td>2564.100000</td>\n",
       "      <td>2.000000</td>\n",
       "      <td>4701.28</td>\n",
       "      <td>1567.09</td>\n",
       "      <td>6.0</td>\n",
       "      <td>224.000000</td>\n",
       "      <td>1147.000000</td>\n",
       "      <td>382.000000</td>\n",
       "      <td>45.000000</td>\n",
       "      <td>7.000000</td>\n",
       "      <td>7.410408</td>\n",
       "      <td>61</td>\n",
       "      <td>All-net 500F=2000F;5d</td>\n",
       "      <td>4.000000</td>\n",
       "      <td>0</td>\n",
       "      <td>K</td>\n",
       "      <td>24.0</td>\n",
       "    </tr>\n",
       "    <tr>\n",
       "      <th>2</th>\n",
       "      <td>Droidika</td>\n",
       "      <td>213.680000</td>\n",
       "      <td>1.000000</td>\n",
       "      <td>213.68</td>\n",
       "      <td>71.37</td>\n",
       "      <td>1.0</td>\n",
       "      <td>3796.157635</td>\n",
       "      <td>301.475766</td>\n",
       "      <td>34.000000</td>\n",
       "      <td>23.221054</td>\n",
       "      <td>8.280709</td>\n",
       "      <td>7.410408</td>\n",
       "      <td>2</td>\n",
       "      <td>All-net 500F=2000F;5d</td>\n",
       "      <td>1.000000</td>\n",
       "      <td>0</td>\n",
       "      <td>K</td>\n",
       "      <td>24.0</td>\n",
       "    </tr>\n",
       "    <tr>\n",
       "      <th>3</th>\n",
       "      <td>Mandalore</td>\n",
       "      <td>769.230000</td>\n",
       "      <td>4.000000</td>\n",
       "      <td>743.16</td>\n",
       "      <td>247.86</td>\n",
       "      <td>6.0</td>\n",
       "      <td>1583.000000</td>\n",
       "      <td>21.000000</td>\n",
       "      <td>5.000000</td>\n",
       "      <td>12.000000</td>\n",
       "      <td>8.280709</td>\n",
       "      <td>7.410408</td>\n",
       "      <td>24</td>\n",
       "      <td>Data:490F=1GB,7d</td>\n",
       "      <td>1.000000</td>\n",
       "      <td>1</td>\n",
       "      <td>K</td>\n",
       "      <td>24.0</td>\n",
       "    </tr>\n",
       "    <tr>\n",
       "      <th>4</th>\n",
       "      <td>Mandalore</td>\n",
       "      <td>5769.230000</td>\n",
       "      <td>41.000000</td>\n",
       "      <td>6030.77</td>\n",
       "      <td>2010.26</td>\n",
       "      <td>49.0</td>\n",
       "      <td>8828.000000</td>\n",
       "      <td>4.000000</td>\n",
       "      <td>36.000000</td>\n",
       "      <td>23.221054</td>\n",
       "      <td>8.280709</td>\n",
       "      <td>9.000000</td>\n",
       "      <td>60</td>\n",
       "      <td>Data:200F=Unlimited,24H</td>\n",
       "      <td>24.000000</td>\n",
       "      <td>0</td>\n",
       "      <td>K</td>\n",
       "      <td>24.0</td>\n",
       "    </tr>\n",
       "    <tr>\n",
       "      <th>...</th>\n",
       "      <td>...</td>\n",
       "      <td>...</td>\n",
       "      <td>...</td>\n",
       "      <td>...</td>\n",
       "      <td>...</td>\n",
       "      <td>...</td>\n",
       "      <td>...</td>\n",
       "      <td>...</td>\n",
       "      <td>...</td>\n",
       "      <td>...</td>\n",
       "      <td>...</td>\n",
       "      <td>...</td>\n",
       "      <td>...</td>\n",
       "      <td>...</td>\n",
       "      <td>...</td>\n",
       "      <td>...</td>\n",
       "      <td>...</td>\n",
       "      <td>...</td>\n",
       "    </tr>\n",
       "    <tr>\n",
       "      <th>1702385</th>\n",
       "      <td>Mandalore</td>\n",
       "      <td>85.470000</td>\n",
       "      <td>1.000000</td>\n",
       "      <td>42.74</td>\n",
       "      <td>14.10</td>\n",
       "      <td>1.0</td>\n",
       "      <td>908.000000</td>\n",
       "      <td>4.000000</td>\n",
       "      <td>95.902849</td>\n",
       "      <td>23.221054</td>\n",
       "      <td>8.280709</td>\n",
       "      <td>7.410408</td>\n",
       "      <td>11</td>\n",
       "      <td>Data: 100 F=40MB,24H</td>\n",
       "      <td>1.000000</td>\n",
       "      <td>0</td>\n",
       "      <td>K</td>\n",
       "      <td>24.0</td>\n",
       "    </tr>\n",
       "    <tr>\n",
       "      <th>1702386</th>\n",
       "      <td>Mandalore</td>\n",
       "      <td>2395.987826</td>\n",
       "      <td>11.690497</td>\n",
       "      <td>8.55</td>\n",
       "      <td>2.99</td>\n",
       "      <td>1.0</td>\n",
       "      <td>3796.157635</td>\n",
       "      <td>301.475766</td>\n",
       "      <td>95.902849</td>\n",
       "      <td>23.221054</td>\n",
       "      <td>8.280709</td>\n",
       "      <td>7.410408</td>\n",
       "      <td>9</td>\n",
       "      <td>All-net 500F=2000F;5d</td>\n",
       "      <td>9.264383</td>\n",
       "      <td>1</td>\n",
       "      <td>K</td>\n",
       "      <td>24.0</td>\n",
       "    </tr>\n",
       "    <tr>\n",
       "      <th>1702387</th>\n",
       "      <td>Mandalore</td>\n",
       "      <td>1367.520000</td>\n",
       "      <td>9.000000</td>\n",
       "      <td>1367.52</td>\n",
       "      <td>455.98</td>\n",
       "      <td>9.0</td>\n",
       "      <td>599.000000</td>\n",
       "      <td>13.000000</td>\n",
       "      <td>93.000000</td>\n",
       "      <td>23.221054</td>\n",
       "      <td>8.280709</td>\n",
       "      <td>7.410408</td>\n",
       "      <td>29</td>\n",
       "      <td>Data: 100 F=40MB,24H</td>\n",
       "      <td>6.000000</td>\n",
       "      <td>0</td>\n",
       "      <td>K</td>\n",
       "      <td>24.0</td>\n",
       "    </tr>\n",
       "    <tr>\n",
       "      <th>1702388</th>\n",
       "      <td>Droidika</td>\n",
       "      <td>85.470000</td>\n",
       "      <td>1.000000</td>\n",
       "      <td>85.47</td>\n",
       "      <td>28.63</td>\n",
       "      <td>1.0</td>\n",
       "      <td>3796.157635</td>\n",
       "      <td>10.000000</td>\n",
       "      <td>8.000000</td>\n",
       "      <td>23.221054</td>\n",
       "      <td>8.280709</td>\n",
       "      <td>7.410408</td>\n",
       "      <td>22</td>\n",
       "      <td>On net 200F=Unlimited _call24H</td>\n",
       "      <td>1.000000</td>\n",
       "      <td>0</td>\n",
       "      <td>K</td>\n",
       "      <td>24.0</td>\n",
       "    </tr>\n",
       "    <tr>\n",
       "      <th>1702389</th>\n",
       "      <td>Mandalore</td>\n",
       "      <td>470.090000</td>\n",
       "      <td>3.000000</td>\n",
       "      <td>470.09</td>\n",
       "      <td>156.84</td>\n",
       "      <td>5.0</td>\n",
       "      <td>0.000000</td>\n",
       "      <td>38.000000</td>\n",
       "      <td>32.000000</td>\n",
       "      <td>23.221054</td>\n",
       "      <td>8.280709</td>\n",
       "      <td>7.410408</td>\n",
       "      <td>21</td>\n",
       "      <td>Jokko_Daily</td>\n",
       "      <td>1.000000</td>\n",
       "      <td>0</td>\n",
       "      <td>K</td>\n",
       "      <td>24.0</td>\n",
       "    </tr>\n",
       "  </tbody>\n",
       "</table>\n",
       "<p>1702390 rows × 18 columns</p>\n",
       "</div>"
      ],
      "text/plain": [
       "            region       Amount  refill_frequency  revenue  arpu_segment  \\\n",
       "0        Mandalore   128.210000          2.000000   125.21         41.88   \n",
       "1        Mandalore  2564.100000          2.000000  4701.28       1567.09   \n",
       "2         Droidika   213.680000          1.000000   213.68         71.37   \n",
       "3        Mandalore   769.230000          4.000000   743.16        247.86   \n",
       "4        Mandalore  5769.230000         41.000000  6030.77       2010.26   \n",
       "...            ...          ...               ...      ...           ...   \n",
       "1702385  Mandalore    85.470000          1.000000    42.74         14.10   \n",
       "1702386  Mandalore  2395.987826         11.690497     8.55          2.99   \n",
       "1702387  Mandalore  1367.520000          9.000000  1367.52        455.98   \n",
       "1702388   Droidika    85.470000          1.000000    85.47         28.63   \n",
       "1702389  Mandalore   470.090000          3.000000   470.09        156.84   \n",
       "\n",
       "         frequency  data_volume       on_net   Procuct_1  Procuct_2     zone1  \\\n",
       "0              3.0   823.000000     1.000000    1.000000  23.221054  8.280709   \n",
       "1              6.0   224.000000  1147.000000  382.000000  45.000000  7.000000   \n",
       "2              1.0  3796.157635   301.475766   34.000000  23.221054  8.280709   \n",
       "3              6.0  1583.000000    21.000000    5.000000  12.000000  8.280709   \n",
       "4             49.0  8828.000000     4.000000   36.000000  23.221054  8.280709   \n",
       "...            ...          ...          ...         ...        ...       ...   \n",
       "1702385        1.0   908.000000     4.000000   95.902849  23.221054  8.280709   \n",
       "1702386        1.0  3796.157635   301.475766   95.902849  23.221054  8.280709   \n",
       "1702387        9.0   599.000000    13.000000   93.000000  23.221054  8.280709   \n",
       "1702388        1.0  3796.157635    10.000000    8.000000  23.221054  8.280709   \n",
       "1702389        5.0     0.000000    38.000000   32.000000  23.221054  8.280709   \n",
       "\n",
       "            zone2  regularity                        top_pack  freq_top_pack  \\\n",
       "0        7.410408           3            VAS(IVR_Radio_Daily)       3.000000   \n",
       "1        7.410408          61           All-net 500F=2000F;5d       4.000000   \n",
       "2        7.410408           2           All-net 500F=2000F;5d       1.000000   \n",
       "3        7.410408          24                Data:490F=1GB,7d       1.000000   \n",
       "4        9.000000          60         Data:200F=Unlimited,24H      24.000000   \n",
       "...           ...         ...                             ...            ...   \n",
       "1702385  7.410408          11            Data: 100 F=40MB,24H       1.000000   \n",
       "1702386  7.410408           9           All-net 500F=2000F;5d       9.264383   \n",
       "1702387  7.410408          29            Data: 100 F=40MB,24H       6.000000   \n",
       "1702388  7.410408          22  On net 200F=Unlimited _call24H       1.000000   \n",
       "1702389  7.410408          21                     Jokko_Daily       1.000000   \n",
       "\n",
       "         Target tenure_letter  tenure_months  \n",
       "0             1             K           24.0  \n",
       "1             0             K           24.0  \n",
       "2             0             K           24.0  \n",
       "3             1             K           24.0  \n",
       "4             0             K           24.0  \n",
       "...         ...           ...            ...  \n",
       "1702385       0             K           24.0  \n",
       "1702386       1             K           24.0  \n",
       "1702387       0             K           24.0  \n",
       "1702388       0             K           24.0  \n",
       "1702389       0             K           24.0  \n",
       "\n",
       "[1702390 rows x 18 columns]"
      ]
     },
     "execution_count": 168,
     "metadata": {},
     "output_type": "execute_result"
    }
   ],
   "source": [
    "final_df"
   ]
  },
  {
   "cell_type": "code",
   "execution_count": 169,
   "id": "3edfb996",
   "metadata": {
    "id": "1JQnF-Lhnf7w"
   },
   "outputs": [],
   "source": [
    "from sklearn.preprocessing import LabelEncoder\n",
    "from tensorflow.keras.utils import to_categorical\n",
    "# Assuming your DataFrame is named df\n",
    "le = LabelEncoder()\n",
    "\n",
    "# Enumerate 'tenure_letter' column\n",
    "final_df['tenure_letter'] = le.fit_transform(final_df['tenure_letter'])\n",
    "\n",
    "# Enumerate 'region' column\n",
    "final_df['region'] = le.fit_transform(final_df['region'])\n",
    "\n",
    "# Enumerate 'region' column\n",
    "final_df['top_pack'] = le.fit_transform(final_df['top_pack'])\n"
   ]
  },
  {
   "cell_type": "code",
   "execution_count": 170,
   "id": "f3061a8e",
   "metadata": {
    "executionInfo": {
     "elapsed": 13,
     "status": "ok",
     "timestamp": 1700917474149,
     "user": {
      "displayName": "Matsolo Sokolo",
      "userId": "11566973559157574788"
     },
     "user_tz": -120
    },
    "id": "209d1bf4"
   },
   "outputs": [],
   "source": [
    "\n",
    "final_df['revenue_tenure_interaction'] = final_df['revenue'] * final_df['tenure_months']\n",
    "\n",
    "final_df.loc[final_df['revenue_tenure_interaction']==np.inf, 'revenue_tenure_interaction'] = 0\n"
   ]
  },
  {
   "cell_type": "code",
   "execution_count": 171,
   "id": "2bc202d2",
   "metadata": {
    "executionInfo": {
     "elapsed": 12,
     "status": "ok",
     "timestamp": 1700917474149,
     "user": {
      "displayName": "Matsolo Sokolo",
      "userId": "11566973559157574788"
     },
     "user_tz": -120
    },
    "id": "673bb005"
   },
   "outputs": [],
   "source": [
    "final_df['refill_regular_interaction'] = final_df['refill_frequency'] * final_df['regularity']\n",
    "\n",
    "final_df.loc[final_df['refill_regular_interaction']==np.inf, 'refill_regular_interaction'] = 0"
   ]
  },
  {
   "cell_type": "code",
   "execution_count": 172,
   "id": "77f50dee",
   "metadata": {
    "executionInfo": {
     "elapsed": 12,
     "status": "ok",
     "timestamp": 1700917474150,
     "user": {
      "displayName": "Matsolo Sokolo",
      "userId": "11566973559157574788"
     },
     "user_tz": -120
    },
    "id": "3bc9761a"
   },
   "outputs": [],
   "source": [
    "# Create a new feature indicating the ratio of on-net calls to total calls\n",
    "final_df['on_net_ratio'] = final_df['on_net'] / (final_df['Procuct_1'] + final_df['Procuct_2'] + final_df['zone1'] + final_df['zone2'])\n",
    "\n",
    "final_df.loc[final_df['on_net_ratio']==np.inf, 'on_net_ratio'] = 0"
   ]
  },
  {
   "cell_type": "code",
   "execution_count": 173,
   "id": "77cfaf04",
   "metadata": {
    "executionInfo": {
     "elapsed": 11,
     "status": "ok",
     "timestamp": 1700917474150,
     "user": {
      "displayName": "Matsolo Sokolo",
      "userId": "11566973559157574788"
     },
     "user_tz": -120
    },
    "id": "f969bfde"
   },
   "outputs": [],
   "source": [
    "final_df['data_volume_ratio'] = final_df['data_volume'] / (final_df['Procuct_1'] + final_df['Procuct_2'] + final_df['zone1'] + final_df['zone2'])\n",
    "\n",
    "final_df.loc[final_df['data_volume_ratio']==np.inf, 'data_volume_ratio'] = 0"
   ]
  },
  {
   "cell_type": "code",
   "execution_count": 174,
   "id": "d1e5fdbc",
   "metadata": {
    "executionInfo": {
     "elapsed": 10,
     "status": "ok",
     "timestamp": 1700917474150,
     "user": {
      "displayName": "Matsolo Sokolo",
      "userId": "11566973559157574788"
     },
     "user_tz": -120
    },
    "id": "da28d9f3"
   },
   "outputs": [],
   "source": [
    "threshold = 0.5\n",
    "\n",
    "# Create binary indicators based on on_net_ratio and data_volume_ratio\n",
    "final_df['high_ratio'] = (final_df['on_net_ratio'] > threshold) | (final_df['data_volume_ratio'] > threshold)\n"
   ]
  },
  {
   "cell_type": "code",
   "execution_count": 175,
   "id": "88b90ef3",
   "metadata": {
    "executionInfo": {
     "elapsed": 9,
     "status": "ok",
     "timestamp": 1700917474150,
     "user": {
      "displayName": "Matsolo Sokolo",
      "userId": "11566973559157574788"
     },
     "user_tz": -120
    },
    "id": "679d6b5b"
   },
   "outputs": [],
   "source": [
    "final_df = final_df.replace({True: 1, False: 0})"
   ]
  },
  {
   "cell_type": "code",
   "execution_count": 176,
   "id": "d879db18",
   "metadata": {
    "colab": {
     "base_uri": "https://localhost:8080/",
     "height": 444
    },
    "executionInfo": {
     "elapsed": 13,
     "status": "ok",
     "timestamp": 1700917475293,
     "user": {
      "displayName": "Matsolo Sokolo",
      "userId": "11566973559157574788"
     },
     "user_tz": -120
    },
    "id": "1124e02c",
    "outputId": "01a5caa5-a444-4cd2-f482-3c93e6dc1749"
   },
   "outputs": [
    {
     "data": {
      "text/html": [
       "<div>\n",
       "<style scoped>\n",
       "    .dataframe tbody tr th:only-of-type {\n",
       "        vertical-align: middle;\n",
       "    }\n",
       "\n",
       "    .dataframe tbody tr th {\n",
       "        vertical-align: top;\n",
       "    }\n",
       "\n",
       "    .dataframe thead th {\n",
       "        text-align: right;\n",
       "    }\n",
       "</style>\n",
       "<table border=\"1\" class=\"dataframe\">\n",
       "  <thead>\n",
       "    <tr style=\"text-align: right;\">\n",
       "      <th></th>\n",
       "      <th>region</th>\n",
       "      <th>Amount</th>\n",
       "      <th>refill_frequency</th>\n",
       "      <th>revenue</th>\n",
       "      <th>arpu_segment</th>\n",
       "      <th>frequency</th>\n",
       "      <th>data_volume</th>\n",
       "      <th>on_net</th>\n",
       "      <th>Procuct_1</th>\n",
       "      <th>Procuct_2</th>\n",
       "      <th>...</th>\n",
       "      <th>top_pack</th>\n",
       "      <th>freq_top_pack</th>\n",
       "      <th>Target</th>\n",
       "      <th>tenure_letter</th>\n",
       "      <th>tenure_months</th>\n",
       "      <th>revenue_tenure_interaction</th>\n",
       "      <th>refill_regular_interaction</th>\n",
       "      <th>on_net_ratio</th>\n",
       "      <th>data_volume_ratio</th>\n",
       "      <th>high_ratio</th>\n",
       "    </tr>\n",
       "  </thead>\n",
       "  <tbody>\n",
       "    <tr>\n",
       "      <th>0</th>\n",
       "      <td>7</td>\n",
       "      <td>128.210000</td>\n",
       "      <td>2.000000</td>\n",
       "      <td>125.21</td>\n",
       "      <td>41.88</td>\n",
       "      <td>3.0</td>\n",
       "      <td>823.000000</td>\n",
       "      <td>1.000000</td>\n",
       "      <td>1.000000</td>\n",
       "      <td>23.221054</td>\n",
       "      <td>...</td>\n",
       "      <td>115</td>\n",
       "      <td>3.000000</td>\n",
       "      <td>1</td>\n",
       "      <td>7</td>\n",
       "      <td>24.0</td>\n",
       "      <td>3005.04</td>\n",
       "      <td>6.000000</td>\n",
       "      <td>0.025055</td>\n",
       "      <td>20.620277</td>\n",
       "      <td>1</td>\n",
       "    </tr>\n",
       "    <tr>\n",
       "      <th>1</th>\n",
       "      <td>7</td>\n",
       "      <td>2564.100000</td>\n",
       "      <td>2.000000</td>\n",
       "      <td>4701.28</td>\n",
       "      <td>1567.09</td>\n",
       "      <td>6.0</td>\n",
       "      <td>224.000000</td>\n",
       "      <td>1147.000000</td>\n",
       "      <td>382.000000</td>\n",
       "      <td>45.000000</td>\n",
       "      <td>...</td>\n",
       "      <td>16</td>\n",
       "      <td>4.000000</td>\n",
       "      <td>0</td>\n",
       "      <td>7</td>\n",
       "      <td>24.0</td>\n",
       "      <td>112830.72</td>\n",
       "      <td>122.000000</td>\n",
       "      <td>2.598489</td>\n",
       "      <td>0.507464</td>\n",
       "      <td>1</td>\n",
       "    </tr>\n",
       "    <tr>\n",
       "      <th>2</th>\n",
       "      <td>2</td>\n",
       "      <td>213.680000</td>\n",
       "      <td>1.000000</td>\n",
       "      <td>213.68</td>\n",
       "      <td>71.37</td>\n",
       "      <td>1.0</td>\n",
       "      <td>3796.157635</td>\n",
       "      <td>301.475766</td>\n",
       "      <td>34.000000</td>\n",
       "      <td>23.221054</td>\n",
       "      <td>...</td>\n",
       "      <td>16</td>\n",
       "      <td>1.000000</td>\n",
       "      <td>0</td>\n",
       "      <td>7</td>\n",
       "      <td>24.0</td>\n",
       "      <td>5128.32</td>\n",
       "      <td>2.000000</td>\n",
       "      <td>4.134780</td>\n",
       "      <td>52.064801</td>\n",
       "      <td>1</td>\n",
       "    </tr>\n",
       "    <tr>\n",
       "      <th>3</th>\n",
       "      <td>7</td>\n",
       "      <td>769.230000</td>\n",
       "      <td>4.000000</td>\n",
       "      <td>743.16</td>\n",
       "      <td>247.86</td>\n",
       "      <td>6.0</td>\n",
       "      <td>1583.000000</td>\n",
       "      <td>21.000000</td>\n",
       "      <td>5.000000</td>\n",
       "      <td>12.000000</td>\n",
       "      <td>...</td>\n",
       "      <td>40</td>\n",
       "      <td>1.000000</td>\n",
       "      <td>1</td>\n",
       "      <td>7</td>\n",
       "      <td>24.0</td>\n",
       "      <td>17835.84</td>\n",
       "      <td>96.000000</td>\n",
       "      <td>0.642376</td>\n",
       "      <td>48.422940</td>\n",
       "      <td>1</td>\n",
       "    </tr>\n",
       "    <tr>\n",
       "      <th>4</th>\n",
       "      <td>7</td>\n",
       "      <td>5769.230000</td>\n",
       "      <td>41.000000</td>\n",
       "      <td>6030.77</td>\n",
       "      <td>2010.26</td>\n",
       "      <td>49.0</td>\n",
       "      <td>8828.000000</td>\n",
       "      <td>4.000000</td>\n",
       "      <td>36.000000</td>\n",
       "      <td>23.221054</td>\n",
       "      <td>...</td>\n",
       "      <td>36</td>\n",
       "      <td>24.000000</td>\n",
       "      <td>0</td>\n",
       "      <td>7</td>\n",
       "      <td>24.0</td>\n",
       "      <td>144738.48</td>\n",
       "      <td>2460.000000</td>\n",
       "      <td>0.052286</td>\n",
       "      <td>115.396034</td>\n",
       "      <td>1</td>\n",
       "    </tr>\n",
       "    <tr>\n",
       "      <th>...</th>\n",
       "      <td>...</td>\n",
       "      <td>...</td>\n",
       "      <td>...</td>\n",
       "      <td>...</td>\n",
       "      <td>...</td>\n",
       "      <td>...</td>\n",
       "      <td>...</td>\n",
       "      <td>...</td>\n",
       "      <td>...</td>\n",
       "      <td>...</td>\n",
       "      <td>...</td>\n",
       "      <td>...</td>\n",
       "      <td>...</td>\n",
       "      <td>...</td>\n",
       "      <td>...</td>\n",
       "      <td>...</td>\n",
       "      <td>...</td>\n",
       "      <td>...</td>\n",
       "      <td>...</td>\n",
       "      <td>...</td>\n",
       "      <td>...</td>\n",
       "    </tr>\n",
       "    <tr>\n",
       "      <th>1702385</th>\n",
       "      <td>7</td>\n",
       "      <td>85.470000</td>\n",
       "      <td>1.000000</td>\n",
       "      <td>42.74</td>\n",
       "      <td>14.10</td>\n",
       "      <td>1.0</td>\n",
       "      <td>908.000000</td>\n",
       "      <td>4.000000</td>\n",
       "      <td>95.902849</td>\n",
       "      <td>23.221054</td>\n",
       "      <td>...</td>\n",
       "      <td>26</td>\n",
       "      <td>1.000000</td>\n",
       "      <td>0</td>\n",
       "      <td>7</td>\n",
       "      <td>24.0</td>\n",
       "      <td>1025.76</td>\n",
       "      <td>11.000000</td>\n",
       "      <td>0.029670</td>\n",
       "      <td>6.735155</td>\n",
       "      <td>1</td>\n",
       "    </tr>\n",
       "    <tr>\n",
       "      <th>1702386</th>\n",
       "      <td>7</td>\n",
       "      <td>2395.987826</td>\n",
       "      <td>11.690497</td>\n",
       "      <td>8.55</td>\n",
       "      <td>2.99</td>\n",
       "      <td>1.0</td>\n",
       "      <td>3796.157635</td>\n",
       "      <td>301.475766</td>\n",
       "      <td>95.902849</td>\n",
       "      <td>23.221054</td>\n",
       "      <td>...</td>\n",
       "      <td>16</td>\n",
       "      <td>9.264383</td>\n",
       "      <td>1</td>\n",
       "      <td>7</td>\n",
       "      <td>24.0</td>\n",
       "      <td>205.20</td>\n",
       "      <td>105.214473</td>\n",
       "      <td>2.236218</td>\n",
       "      <td>28.158269</td>\n",
       "      <td>1</td>\n",
       "    </tr>\n",
       "    <tr>\n",
       "      <th>1702387</th>\n",
       "      <td>7</td>\n",
       "      <td>1367.520000</td>\n",
       "      <td>9.000000</td>\n",
       "      <td>1367.52</td>\n",
       "      <td>455.98</td>\n",
       "      <td>9.0</td>\n",
       "      <td>599.000000</td>\n",
       "      <td>13.000000</td>\n",
       "      <td>93.000000</td>\n",
       "      <td>23.221054</td>\n",
       "      <td>...</td>\n",
       "      <td>26</td>\n",
       "      <td>6.000000</td>\n",
       "      <td>0</td>\n",
       "      <td>7</td>\n",
       "      <td>24.0</td>\n",
       "      <td>32820.48</td>\n",
       "      <td>261.000000</td>\n",
       "      <td>0.098550</td>\n",
       "      <td>4.540900</td>\n",
       "      <td>1</td>\n",
       "    </tr>\n",
       "    <tr>\n",
       "      <th>1702388</th>\n",
       "      <td>2</td>\n",
       "      <td>85.470000</td>\n",
       "      <td>1.000000</td>\n",
       "      <td>85.47</td>\n",
       "      <td>28.63</td>\n",
       "      <td>1.0</td>\n",
       "      <td>3796.157635</td>\n",
       "      <td>10.000000</td>\n",
       "      <td>8.000000</td>\n",
       "      <td>23.221054</td>\n",
       "      <td>...</td>\n",
       "      <td>97</td>\n",
       "      <td>1.000000</td>\n",
       "      <td>0</td>\n",
       "      <td>7</td>\n",
       "      <td>24.0</td>\n",
       "      <td>2051.28</td>\n",
       "      <td>22.000000</td>\n",
       "      <td>0.213164</td>\n",
       "      <td>80.920528</td>\n",
       "      <td>1</td>\n",
       "    </tr>\n",
       "    <tr>\n",
       "      <th>1702389</th>\n",
       "      <td>7</td>\n",
       "      <td>470.090000</td>\n",
       "      <td>3.000000</td>\n",
       "      <td>470.09</td>\n",
       "      <td>156.84</td>\n",
       "      <td>5.0</td>\n",
       "      <td>0.000000</td>\n",
       "      <td>38.000000</td>\n",
       "      <td>32.000000</td>\n",
       "      <td>23.221054</td>\n",
       "      <td>...</td>\n",
       "      <td>76</td>\n",
       "      <td>1.000000</td>\n",
       "      <td>0</td>\n",
       "      <td>7</td>\n",
       "      <td>24.0</td>\n",
       "      <td>11282.16</td>\n",
       "      <td>63.000000</td>\n",
       "      <td>0.535874</td>\n",
       "      <td>0.000000</td>\n",
       "      <td>1</td>\n",
       "    </tr>\n",
       "  </tbody>\n",
       "</table>\n",
       "<p>1702390 rows × 23 columns</p>\n",
       "</div>"
      ],
      "text/plain": [
       "         region       Amount  refill_frequency  revenue  arpu_segment  \\\n",
       "0             7   128.210000          2.000000   125.21         41.88   \n",
       "1             7  2564.100000          2.000000  4701.28       1567.09   \n",
       "2             2   213.680000          1.000000   213.68         71.37   \n",
       "3             7   769.230000          4.000000   743.16        247.86   \n",
       "4             7  5769.230000         41.000000  6030.77       2010.26   \n",
       "...         ...          ...               ...      ...           ...   \n",
       "1702385       7    85.470000          1.000000    42.74         14.10   \n",
       "1702386       7  2395.987826         11.690497     8.55          2.99   \n",
       "1702387       7  1367.520000          9.000000  1367.52        455.98   \n",
       "1702388       2    85.470000          1.000000    85.47         28.63   \n",
       "1702389       7   470.090000          3.000000   470.09        156.84   \n",
       "\n",
       "         frequency  data_volume       on_net   Procuct_1  Procuct_2  ...  \\\n",
       "0              3.0   823.000000     1.000000    1.000000  23.221054  ...   \n",
       "1              6.0   224.000000  1147.000000  382.000000  45.000000  ...   \n",
       "2              1.0  3796.157635   301.475766   34.000000  23.221054  ...   \n",
       "3              6.0  1583.000000    21.000000    5.000000  12.000000  ...   \n",
       "4             49.0  8828.000000     4.000000   36.000000  23.221054  ...   \n",
       "...            ...          ...          ...         ...        ...  ...   \n",
       "1702385        1.0   908.000000     4.000000   95.902849  23.221054  ...   \n",
       "1702386        1.0  3796.157635   301.475766   95.902849  23.221054  ...   \n",
       "1702387        9.0   599.000000    13.000000   93.000000  23.221054  ...   \n",
       "1702388        1.0  3796.157635    10.000000    8.000000  23.221054  ...   \n",
       "1702389        5.0     0.000000    38.000000   32.000000  23.221054  ...   \n",
       "\n",
       "         top_pack  freq_top_pack  Target  tenure_letter  tenure_months  \\\n",
       "0             115       3.000000       1              7           24.0   \n",
       "1              16       4.000000       0              7           24.0   \n",
       "2              16       1.000000       0              7           24.0   \n",
       "3              40       1.000000       1              7           24.0   \n",
       "4              36      24.000000       0              7           24.0   \n",
       "...           ...            ...     ...            ...            ...   \n",
       "1702385        26       1.000000       0              7           24.0   \n",
       "1702386        16       9.264383       1              7           24.0   \n",
       "1702387        26       6.000000       0              7           24.0   \n",
       "1702388        97       1.000000       0              7           24.0   \n",
       "1702389        76       1.000000       0              7           24.0   \n",
       "\n",
       "         revenue_tenure_interaction  refill_regular_interaction  on_net_ratio  \\\n",
       "0                           3005.04                    6.000000      0.025055   \n",
       "1                         112830.72                  122.000000      2.598489   \n",
       "2                           5128.32                    2.000000      4.134780   \n",
       "3                          17835.84                   96.000000      0.642376   \n",
       "4                         144738.48                 2460.000000      0.052286   \n",
       "...                             ...                         ...           ...   \n",
       "1702385                     1025.76                   11.000000      0.029670   \n",
       "1702386                      205.20                  105.214473      2.236218   \n",
       "1702387                    32820.48                  261.000000      0.098550   \n",
       "1702388                     2051.28                   22.000000      0.213164   \n",
       "1702389                    11282.16                   63.000000      0.535874   \n",
       "\n",
       "         data_volume_ratio  high_ratio  \n",
       "0                20.620277           1  \n",
       "1                 0.507464           1  \n",
       "2                52.064801           1  \n",
       "3                48.422940           1  \n",
       "4               115.396034           1  \n",
       "...                    ...         ...  \n",
       "1702385           6.735155           1  \n",
       "1702386          28.158269           1  \n",
       "1702387           4.540900           1  \n",
       "1702388          80.920528           1  \n",
       "1702389           0.000000           1  \n",
       "\n",
       "[1702390 rows x 23 columns]"
      ]
     },
     "execution_count": 176,
     "metadata": {},
     "output_type": "execute_result"
    }
   ],
   "source": [
    "final_df"
   ]
  },
  {
   "cell_type": "code",
   "execution_count": 177,
   "id": "949d35e6",
   "metadata": {},
   "outputs": [
    {
     "data": {
      "text/plain": [
       "region                        0\n",
       "Amount                        0\n",
       "refill_frequency              0\n",
       "revenue                       0\n",
       "arpu_segment                  0\n",
       "frequency                     0\n",
       "data_volume                   0\n",
       "on_net                        0\n",
       "Procuct_1                     0\n",
       "Procuct_2                     0\n",
       "zone1                         0\n",
       "zone2                         0\n",
       "regularity                    0\n",
       "top_pack                      0\n",
       "freq_top_pack                 0\n",
       "Target                        0\n",
       "tenure_letter                 0\n",
       "tenure_months                 0\n",
       "revenue_tenure_interaction    0\n",
       "refill_regular_interaction    0\n",
       "on_net_ratio                  2\n",
       "data_volume_ratio             0\n",
       "high_ratio                    0\n",
       "dtype: int64"
      ]
     },
     "execution_count": 177,
     "metadata": {},
     "output_type": "execute_result"
    }
   ],
   "source": [
    "final_df.isnull().sum()"
   ]
  },
  {
   "cell_type": "code",
   "execution_count": 178,
   "id": "c72aed61",
   "metadata": {},
   "outputs": [],
   "source": [
    "final_df['on_net_ratio'].fillna(final_df['on_net_ratio'].mean(), inplace=True)"
   ]
  },
  {
   "cell_type": "code",
   "execution_count": 179,
   "id": "f5ac5db0",
   "metadata": {},
   "outputs": [
    {
     "data": {
      "text/plain": [
       "region                        0\n",
       "Amount                        0\n",
       "refill_frequency              0\n",
       "revenue                       0\n",
       "arpu_segment                  0\n",
       "frequency                     0\n",
       "data_volume                   0\n",
       "on_net                        0\n",
       "Procuct_1                     0\n",
       "Procuct_2                     0\n",
       "zone1                         0\n",
       "zone2                         0\n",
       "regularity                    0\n",
       "top_pack                      0\n",
       "freq_top_pack                 0\n",
       "Target                        0\n",
       "tenure_letter                 0\n",
       "tenure_months                 0\n",
       "revenue_tenure_interaction    0\n",
       "refill_regular_interaction    0\n",
       "on_net_ratio                  0\n",
       "data_volume_ratio             0\n",
       "high_ratio                    0\n",
       "dtype: int64"
      ]
     },
     "execution_count": 179,
     "metadata": {},
     "output_type": "execute_result"
    }
   ],
   "source": [
    "final_df.isnull().sum()"
   ]
  },
  {
   "cell_type": "markdown",
   "id": "c51135f7",
   "metadata": {
    "id": "2e69c83b"
   },
   "source": [
    "# Build Models\n"
   ]
  },
  {
   "cell_type": "code",
   "execution_count": 180,
   "id": "22114451",
   "metadata": {
    "executionInfo": {
     "elapsed": 1879,
     "status": "ok",
     "timestamp": 1700917477162,
     "user": {
      "displayName": "Matsolo Sokolo",
      "userId": "11566973559157574788"
     },
     "user_tz": -120
    },
    "id": "82264586"
   },
   "outputs": [],
   "source": [
    "import tensorflow as tf\n",
    "from tensorflow.keras.layers import Conv2D, Input, ZeroPadding2D, BatchNormalization, Activation, MaxPooling2D, Flatten, Dense\n",
    "from tensorflow.keras.models import Model, load_model\n",
    "from tensorflow.keras.callbacks import TensorBoard, ModelCheckpoint\n",
    "from sklearn.model_selection import train_test_split\n",
    "from sklearn.metrics import f1_score\n",
    "from sklearn.utils import shuffle\n",
    "import cv2\n",
    "import imutils\n",
    "import numpy as np\n",
    "import matplotlib.pyplot as plt\n",
    "import time\n",
    "from os import listdir\n",
    "from tensorflow.keras.models import Sequential\n",
    "\n",
    "%matplotlib inline"
   ]
  },
  {
   "cell_type": "code",
   "execution_count": 181,
   "id": "299daef5",
   "metadata": {
    "executionInfo": {
     "elapsed": 698,
     "status": "ok",
     "timestamp": 1700917477852,
     "user": {
      "displayName": "Matsolo Sokolo",
      "userId": "11566973559157574788"
     },
     "user_tz": -120
    },
    "id": "94ae1f3d"
   },
   "outputs": [],
   "source": [
    "X = final_df.drop(\"Target\", axis=1)\n",
    "\n",
    "y = final_df[\"Target\"]"
   ]
  },
  {
   "cell_type": "code",
   "execution_count": 182,
   "id": "b6dcd9ce",
   "metadata": {
    "colab": {
     "base_uri": "https://localhost:8080/"
    },
    "executionInfo": {
     "elapsed": 11,
     "status": "ok",
     "timestamp": 1700917477853,
     "user": {
      "displayName": "Matsolo Sokolo",
      "userId": "11566973559157574788"
     },
     "user_tz": -120
    },
    "id": "58e4fa28",
    "outputId": "895ebf39-bbaf-402b-c56b-839a10645866"
   },
   "outputs": [
    {
     "name": "stdout",
     "output_type": "stream",
     "text": [
      "<class 'pandas.core.frame.DataFrame'>\n",
      "RangeIndex: 1702390 entries, 0 to 1702389\n",
      "Data columns (total 22 columns):\n",
      " #   Column                      Dtype  \n",
      "---  ------                      -----  \n",
      " 0   region                      int32  \n",
      " 1   Amount                      float64\n",
      " 2   refill_frequency            float64\n",
      " 3   revenue                     float64\n",
      " 4   arpu_segment                float64\n",
      " 5   frequency                   float64\n",
      " 6   data_volume                 float64\n",
      " 7   on_net                      float64\n",
      " 8   Procuct_1                   float64\n",
      " 9   Procuct_2                   float64\n",
      " 10  zone1                       float64\n",
      " 11  zone2                       float64\n",
      " 12  regularity                  int64  \n",
      " 13  top_pack                    int32  \n",
      " 14  freq_top_pack               float64\n",
      " 15  tenure_letter               int32  \n",
      " 16  tenure_months               float64\n",
      " 17  revenue_tenure_interaction  float64\n",
      " 18  refill_regular_interaction  float64\n",
      " 19  on_net_ratio                float64\n",
      " 20  data_volume_ratio           float64\n",
      " 21  high_ratio                  int64  \n",
      "dtypes: float64(17), int32(3), int64(2)\n",
      "memory usage: 266.3 MB\n"
     ]
    }
   ],
   "source": [
    "X.info()"
   ]
  },
  {
   "cell_type": "code",
   "execution_count": 183,
   "id": "affcb6ff",
   "metadata": {
    "executionInfo": {
     "elapsed": 621,
     "status": "ok",
     "timestamp": 1700917478468,
     "user": {
      "displayName": "Matsolo Sokolo",
      "userId": "11566973559157574788"
     },
     "user_tz": -120
    },
    "id": "63b4311b"
   },
   "outputs": [],
   "source": [
    "cols_to_scale = ['Amount', 'refill_frequency', 'revenue', 'arpu_segment', 'frequency',\n",
    "                       'data_volume', 'on_net', 'Procuct_1', 'Procuct_2', 'zone1', 'zone2',\n",
    "                       'freq_top_pack', 'revenue_tenure_interaction', 'refill_regular_interaction', 'on_net_ratio', 'data_volume_ratio' ]\n",
    "\n",
    "from sklearn.preprocessing import MinMaxScaler\n",
    "scaler = MinMaxScaler()\n",
    "X[cols_to_scale] = scaler.fit_transform(X[cols_to_scale])"
   ]
  },
  {
   "cell_type": "code",
   "execution_count": 184,
   "id": "d4e61bf3",
   "metadata": {
    "colab": {
     "base_uri": "https://localhost:8080/",
     "height": 444
    },
    "executionInfo": {
     "elapsed": 940,
     "status": "ok",
     "timestamp": 1700917479403,
     "user": {
      "displayName": "Matsolo Sokolo",
      "userId": "11566973559157574788"
     },
     "user_tz": -120
    },
    "id": "07a161f8",
    "outputId": "6d8beccd-0f7d-4a0d-f7ee-b65016a9e969"
   },
   "outputs": [
    {
     "data": {
      "text/html": [
       "<div>\n",
       "<style scoped>\n",
       "    .dataframe tbody tr th:only-of-type {\n",
       "        vertical-align: middle;\n",
       "    }\n",
       "\n",
       "    .dataframe tbody tr th {\n",
       "        vertical-align: top;\n",
       "    }\n",
       "\n",
       "    .dataframe thead th {\n",
       "        text-align: right;\n",
       "    }\n",
       "</style>\n",
       "<table border=\"1\" class=\"dataframe\">\n",
       "  <thead>\n",
       "    <tr style=\"text-align: right;\">\n",
       "      <th></th>\n",
       "      <th>region</th>\n",
       "      <th>Amount</th>\n",
       "      <th>refill_frequency</th>\n",
       "      <th>revenue</th>\n",
       "      <th>arpu_segment</th>\n",
       "      <th>frequency</th>\n",
       "      <th>data_volume</th>\n",
       "      <th>on_net</th>\n",
       "      <th>Procuct_1</th>\n",
       "      <th>Procuct_2</th>\n",
       "      <th>...</th>\n",
       "      <th>regularity</th>\n",
       "      <th>top_pack</th>\n",
       "      <th>freq_top_pack</th>\n",
       "      <th>tenure_letter</th>\n",
       "      <th>tenure_months</th>\n",
       "      <th>revenue_tenure_interaction</th>\n",
       "      <th>refill_regular_interaction</th>\n",
       "      <th>on_net_ratio</th>\n",
       "      <th>data_volume_ratio</th>\n",
       "      <th>high_ratio</th>\n",
       "    </tr>\n",
       "  </thead>\n",
       "  <tbody>\n",
       "    <tr>\n",
       "      <th>0</th>\n",
       "      <td>7</td>\n",
       "      <td>0.000998</td>\n",
       "      <td>0.007576</td>\n",
       "      <td>0.001097</td>\n",
       "      <td>0.001105</td>\n",
       "      <td>0.022222</td>\n",
       "      <td>0.000529</td>\n",
       "      <td>0.000020</td>\n",
       "      <td>0.000131</td>\n",
       "      <td>0.005563</td>\n",
       "      <td>...</td>\n",
       "      <td>3</td>\n",
       "      <td>115</td>\n",
       "      <td>0.003185</td>\n",
       "      <td>7</td>\n",
       "      <td>24.0</td>\n",
       "      <td>0.001099</td>\n",
       "      <td>0.000606</td>\n",
       "      <td>0.000020</td>\n",
       "      <td>0.001149</td>\n",
       "      <td>1</td>\n",
       "    </tr>\n",
       "    <tr>\n",
       "      <th>1</th>\n",
       "      <td>7</td>\n",
       "      <td>0.020620</td>\n",
       "      <td>0.007576</td>\n",
       "      <td>0.041346</td>\n",
       "      <td>0.041349</td>\n",
       "      <td>0.055556</td>\n",
       "      <td>0.000144</td>\n",
       "      <td>0.022575</td>\n",
       "      <td>0.049869</td>\n",
       "      <td>0.010781</td>\n",
       "      <td>...</td>\n",
       "      <td>61</td>\n",
       "      <td>16</td>\n",
       "      <td>0.004777</td>\n",
       "      <td>7</td>\n",
       "      <td>24.0</td>\n",
       "      <td>0.041348</td>\n",
       "      <td>0.014676</td>\n",
       "      <td>0.002039</td>\n",
       "      <td>0.000028</td>\n",
       "      <td>1</td>\n",
       "    </tr>\n",
       "    <tr>\n",
       "      <th>2</th>\n",
       "      <td>2</td>\n",
       "      <td>0.001687</td>\n",
       "      <td>0.000000</td>\n",
       "      <td>0.001876</td>\n",
       "      <td>0.001883</td>\n",
       "      <td>0.000000</td>\n",
       "      <td>0.002438</td>\n",
       "      <td>0.005934</td>\n",
       "      <td>0.004439</td>\n",
       "      <td>0.005563</td>\n",
       "      <td>...</td>\n",
       "      <td>2</td>\n",
       "      <td>16</td>\n",
       "      <td>0.000000</td>\n",
       "      <td>7</td>\n",
       "      <td>24.0</td>\n",
       "      <td>0.001878</td>\n",
       "      <td>0.000121</td>\n",
       "      <td>0.003244</td>\n",
       "      <td>0.002901</td>\n",
       "      <td>1</td>\n",
       "    </tr>\n",
       "    <tr>\n",
       "      <th>3</th>\n",
       "      <td>7</td>\n",
       "      <td>0.006162</td>\n",
       "      <td>0.022727</td>\n",
       "      <td>0.006533</td>\n",
       "      <td>0.006540</td>\n",
       "      <td>0.055556</td>\n",
       "      <td>0.001017</td>\n",
       "      <td>0.000413</td>\n",
       "      <td>0.000653</td>\n",
       "      <td>0.002875</td>\n",
       "      <td>...</td>\n",
       "      <td>24</td>\n",
       "      <td>40</td>\n",
       "      <td>0.000000</td>\n",
       "      <td>7</td>\n",
       "      <td>24.0</td>\n",
       "      <td>0.006534</td>\n",
       "      <td>0.011522</td>\n",
       "      <td>0.000504</td>\n",
       "      <td>0.002698</td>\n",
       "      <td>1</td>\n",
       "    </tr>\n",
       "    <tr>\n",
       "      <th>4</th>\n",
       "      <td>7</td>\n",
       "      <td>0.046439</td>\n",
       "      <td>0.303030</td>\n",
       "      <td>0.053039</td>\n",
       "      <td>0.053043</td>\n",
       "      <td>0.533333</td>\n",
       "      <td>0.005671</td>\n",
       "      <td>0.000079</td>\n",
       "      <td>0.004700</td>\n",
       "      <td>0.005563</td>\n",
       "      <td>...</td>\n",
       "      <td>60</td>\n",
       "      <td>36</td>\n",
       "      <td>0.036624</td>\n",
       "      <td>7</td>\n",
       "      <td>24.0</td>\n",
       "      <td>0.053041</td>\n",
       "      <td>0.298241</td>\n",
       "      <td>0.000041</td>\n",
       "      <td>0.006430</td>\n",
       "      <td>1</td>\n",
       "    </tr>\n",
       "    <tr>\n",
       "      <th>...</th>\n",
       "      <td>...</td>\n",
       "      <td>...</td>\n",
       "      <td>...</td>\n",
       "      <td>...</td>\n",
       "      <td>...</td>\n",
       "      <td>...</td>\n",
       "      <td>...</td>\n",
       "      <td>...</td>\n",
       "      <td>...</td>\n",
       "      <td>...</td>\n",
       "      <td>...</td>\n",
       "      <td>...</td>\n",
       "      <td>...</td>\n",
       "      <td>...</td>\n",
       "      <td>...</td>\n",
       "      <td>...</td>\n",
       "      <td>...</td>\n",
       "      <td>...</td>\n",
       "      <td>...</td>\n",
       "      <td>...</td>\n",
       "      <td>...</td>\n",
       "    </tr>\n",
       "    <tr>\n",
       "      <th>1702385</th>\n",
       "      <td>7</td>\n",
       "      <td>0.000654</td>\n",
       "      <td>0.000000</td>\n",
       "      <td>0.000372</td>\n",
       "      <td>0.000372</td>\n",
       "      <td>0.000000</td>\n",
       "      <td>0.000583</td>\n",
       "      <td>0.000079</td>\n",
       "      <td>0.012520</td>\n",
       "      <td>0.005563</td>\n",
       "      <td>...</td>\n",
       "      <td>11</td>\n",
       "      <td>26</td>\n",
       "      <td>0.000000</td>\n",
       "      <td>7</td>\n",
       "      <td>24.0</td>\n",
       "      <td>0.000374</td>\n",
       "      <td>0.001213</td>\n",
       "      <td>0.000023</td>\n",
       "      <td>0.000375</td>\n",
       "      <td>1</td>\n",
       "    </tr>\n",
       "    <tr>\n",
       "      <th>1702386</th>\n",
       "      <td>7</td>\n",
       "      <td>0.019266</td>\n",
       "      <td>0.080989</td>\n",
       "      <td>0.000071</td>\n",
       "      <td>0.000079</td>\n",
       "      <td>0.000000</td>\n",
       "      <td>0.002438</td>\n",
       "      <td>0.005934</td>\n",
       "      <td>0.012520</td>\n",
       "      <td>0.005563</td>\n",
       "      <td>...</td>\n",
       "      <td>9</td>\n",
       "      <td>16</td>\n",
       "      <td>0.013160</td>\n",
       "      <td>7</td>\n",
       "      <td>24.0</td>\n",
       "      <td>0.000073</td>\n",
       "      <td>0.012640</td>\n",
       "      <td>0.001755</td>\n",
       "      <td>0.001569</td>\n",
       "      <td>1</td>\n",
       "    </tr>\n",
       "    <tr>\n",
       "      <th>1702387</th>\n",
       "      <td>7</td>\n",
       "      <td>0.010981</td>\n",
       "      <td>0.060606</td>\n",
       "      <td>0.012024</td>\n",
       "      <td>0.012032</td>\n",
       "      <td>0.088889</td>\n",
       "      <td>0.000385</td>\n",
       "      <td>0.000256</td>\n",
       "      <td>0.012141</td>\n",
       "      <td>0.005563</td>\n",
       "      <td>...</td>\n",
       "      <td>29</td>\n",
       "      <td>26</td>\n",
       "      <td>0.007962</td>\n",
       "      <td>7</td>\n",
       "      <td>24.0</td>\n",
       "      <td>0.012026</td>\n",
       "      <td>0.031534</td>\n",
       "      <td>0.000077</td>\n",
       "      <td>0.000253</td>\n",
       "      <td>1</td>\n",
       "    </tr>\n",
       "    <tr>\n",
       "      <th>1702388</th>\n",
       "      <td>2</td>\n",
       "      <td>0.000654</td>\n",
       "      <td>0.000000</td>\n",
       "      <td>0.000748</td>\n",
       "      <td>0.000755</td>\n",
       "      <td>0.000000</td>\n",
       "      <td>0.002438</td>\n",
       "      <td>0.000197</td>\n",
       "      <td>0.001044</td>\n",
       "      <td>0.005563</td>\n",
       "      <td>...</td>\n",
       "      <td>22</td>\n",
       "      <td>97</td>\n",
       "      <td>0.000000</td>\n",
       "      <td>7</td>\n",
       "      <td>24.0</td>\n",
       "      <td>0.000750</td>\n",
       "      <td>0.002547</td>\n",
       "      <td>0.000167</td>\n",
       "      <td>0.004509</td>\n",
       "      <td>1</td>\n",
       "    </tr>\n",
       "    <tr>\n",
       "      <th>1702389</th>\n",
       "      <td>7</td>\n",
       "      <td>0.003752</td>\n",
       "      <td>0.015152</td>\n",
       "      <td>0.004131</td>\n",
       "      <td>0.004138</td>\n",
       "      <td>0.044444</td>\n",
       "      <td>0.000000</td>\n",
       "      <td>0.000748</td>\n",
       "      <td>0.004178</td>\n",
       "      <td>0.005563</td>\n",
       "      <td>...</td>\n",
       "      <td>21</td>\n",
       "      <td>76</td>\n",
       "      <td>0.000000</td>\n",
       "      <td>7</td>\n",
       "      <td>24.0</td>\n",
       "      <td>0.004133</td>\n",
       "      <td>0.007520</td>\n",
       "      <td>0.000420</td>\n",
       "      <td>0.000000</td>\n",
       "      <td>1</td>\n",
       "    </tr>\n",
       "  </tbody>\n",
       "</table>\n",
       "<p>1702390 rows × 22 columns</p>\n",
       "</div>"
      ],
      "text/plain": [
       "         region    Amount  refill_frequency   revenue  arpu_segment  \\\n",
       "0             7  0.000998          0.007576  0.001097      0.001105   \n",
       "1             7  0.020620          0.007576  0.041346      0.041349   \n",
       "2             2  0.001687          0.000000  0.001876      0.001883   \n",
       "3             7  0.006162          0.022727  0.006533      0.006540   \n",
       "4             7  0.046439          0.303030  0.053039      0.053043   \n",
       "...         ...       ...               ...       ...           ...   \n",
       "1702385       7  0.000654          0.000000  0.000372      0.000372   \n",
       "1702386       7  0.019266          0.080989  0.000071      0.000079   \n",
       "1702387       7  0.010981          0.060606  0.012024      0.012032   \n",
       "1702388       2  0.000654          0.000000  0.000748      0.000755   \n",
       "1702389       7  0.003752          0.015152  0.004131      0.004138   \n",
       "\n",
       "         frequency  data_volume    on_net  Procuct_1  Procuct_2  ...  \\\n",
       "0         0.022222     0.000529  0.000020   0.000131   0.005563  ...   \n",
       "1         0.055556     0.000144  0.022575   0.049869   0.010781  ...   \n",
       "2         0.000000     0.002438  0.005934   0.004439   0.005563  ...   \n",
       "3         0.055556     0.001017  0.000413   0.000653   0.002875  ...   \n",
       "4         0.533333     0.005671  0.000079   0.004700   0.005563  ...   \n",
       "...            ...          ...       ...        ...        ...  ...   \n",
       "1702385   0.000000     0.000583  0.000079   0.012520   0.005563  ...   \n",
       "1702386   0.000000     0.002438  0.005934   0.012520   0.005563  ...   \n",
       "1702387   0.088889     0.000385  0.000256   0.012141   0.005563  ...   \n",
       "1702388   0.000000     0.002438  0.000197   0.001044   0.005563  ...   \n",
       "1702389   0.044444     0.000000  0.000748   0.004178   0.005563  ...   \n",
       "\n",
       "         regularity  top_pack  freq_top_pack  tenure_letter  tenure_months  \\\n",
       "0                 3       115       0.003185              7           24.0   \n",
       "1                61        16       0.004777              7           24.0   \n",
       "2                 2        16       0.000000              7           24.0   \n",
       "3                24        40       0.000000              7           24.0   \n",
       "4                60        36       0.036624              7           24.0   \n",
       "...             ...       ...            ...            ...            ...   \n",
       "1702385          11        26       0.000000              7           24.0   \n",
       "1702386           9        16       0.013160              7           24.0   \n",
       "1702387          29        26       0.007962              7           24.0   \n",
       "1702388          22        97       0.000000              7           24.0   \n",
       "1702389          21        76       0.000000              7           24.0   \n",
       "\n",
       "         revenue_tenure_interaction  refill_regular_interaction  on_net_ratio  \\\n",
       "0                          0.001099                    0.000606      0.000020   \n",
       "1                          0.041348                    0.014676      0.002039   \n",
       "2                          0.001878                    0.000121      0.003244   \n",
       "3                          0.006534                    0.011522      0.000504   \n",
       "4                          0.053041                    0.298241      0.000041   \n",
       "...                             ...                         ...           ...   \n",
       "1702385                    0.000374                    0.001213      0.000023   \n",
       "1702386                    0.000073                    0.012640      0.001755   \n",
       "1702387                    0.012026                    0.031534      0.000077   \n",
       "1702388                    0.000750                    0.002547      0.000167   \n",
       "1702389                    0.004133                    0.007520      0.000420   \n",
       "\n",
       "         data_volume_ratio  high_ratio  \n",
       "0                 0.001149           1  \n",
       "1                 0.000028           1  \n",
       "2                 0.002901           1  \n",
       "3                 0.002698           1  \n",
       "4                 0.006430           1  \n",
       "...                    ...         ...  \n",
       "1702385           0.000375           1  \n",
       "1702386           0.001569           1  \n",
       "1702387           0.000253           1  \n",
       "1702388           0.004509           1  \n",
       "1702389           0.000000           1  \n",
       "\n",
       "[1702390 rows x 22 columns]"
      ]
     },
     "execution_count": 184,
     "metadata": {},
     "output_type": "execute_result"
    }
   ],
   "source": [
    "X"
   ]
  },
  {
   "cell_type": "code",
   "execution_count": 185,
   "id": "d7a1034a",
   "metadata": {
    "colab": {
     "base_uri": "https://localhost:8080/"
    },
    "executionInfo": {
     "elapsed": 19,
     "status": "ok",
     "timestamp": 1700917479404,
     "user": {
      "displayName": "Matsolo Sokolo",
      "userId": "11566973559157574788"
     },
     "user_tz": -120
    },
    "id": "b3e372d5",
    "outputId": "fec4dbe2-38bd-4d06-d5dc-bea1a005c2c5"
   },
   "outputs": [
    {
     "data": {
      "text/plain": [
       "(1702390,)"
      ]
     },
     "execution_count": 185,
     "metadata": {},
     "output_type": "execute_result"
    }
   ],
   "source": [
    "y.shape"
   ]
  },
  {
   "cell_type": "code",
   "execution_count": null,
   "id": "22a94d11",
   "metadata": {},
   "outputs": [],
   "source": []
  },
  {
   "cell_type": "code",
   "execution_count": 207,
   "id": "59dad466",
   "metadata": {},
   "outputs": [
    {
     "data": {
      "text/plain": [
       "(1702390, 15)"
      ]
     },
     "execution_count": 207,
     "metadata": {},
     "output_type": "execute_result"
    }
   ],
   "source": [
    "from sklearn import decomposition\n",
    "pca = decomposition.PCA()\n",
    "pca.n_components = 15\n",
    "pca_data = pca.fit_transform(X)\n",
    "pca_data.shape"
   ]
  },
  {
   "cell_type": "code",
   "execution_count": 208,
   "id": "0ad6c0f4",
   "metadata": {},
   "outputs": [
    {
     "data": {
      "image/png": "[encoded data removed]",
      "text/plain": [
       "<Figure size 1000x800 with 2 Axes>"
      ]
     },
     "metadata": {},
     "output_type": "display_data"
    }
   ],
   "source": [
    "import matplotlib.pyplot as plt\n",
    "\n",
    "# Assuming pca_data is a NumPy array with the principal components and y is the labels\n",
    "plt.figure(figsize=(10, 8))\n",
    "scatter = plt.scatter(x=pca_data[:, 0], y=pca_data[:, 1], c=y, cmap='viridis')\n",
    "plt.title('PCA Visualization')\n",
    "plt.xlabel('Principal Component 1 (PC1)')\n",
    "plt.ylabel('Principal Component 2 (PC2)')\n",
    "plt.colorbar(scatter, label='Label')\n",
    "plt.show()\n"
   ]
  },
  {
   "cell_type": "code",
   "execution_count": null,
   "id": "e94907d3",
   "metadata": {},
   "outputs": [],
   "source": []
  },
  {
   "cell_type": "code",
   "execution_count": 188,
   "id": "15f6e3f9",
   "metadata": {
    "executionInfo": {
     "elapsed": 14,
     "status": "ok",
     "timestamp": 1700917479405,
     "user": {
      "displayName": "Matsolo Sokolo",
      "userId": "11566973559157574788"
     },
     "user_tz": -120
    },
    "id": "8f1fc85b"
   },
   "outputs": [],
   "source": [
    "def split_data(X, y, test_size=0.2):\n",
    "\n",
    "    \"\"\"\n",
    "    Splits data into training, development and test sets.\n",
    "    Arguments:\n",
    "        X: A numpy array with shape = (#_examples, image_width, image_height, #_channels)\n",
    "        y: A numpy array with shape = (#_examples, 1)\n",
    "    Returns:\n",
    "        X_train: A numpy array with shape = (#_train_examples, image_width, image_height, #_channels)\n",
    "        y_train: A numpy array with shape = (#_train_examples, 1)\n",
    "        X_val: A numpy array with shape = (#_val_examples, image_width, image_height, #_channels)\n",
    "        y_val: A numpy array with shape = (#_val_examples, 1)\n",
    "        X_test: A numpy array with shape = (#_test_examples, image_width, image_height, #_channels)\n",
    "        y_test: A numpy array with shape = (#_test_examples, 1)\n",
    "    \"\"\"\n",
    "\n",
    "    X_train, X_test_val, y_train, y_test_val = train_test_split(X, y, test_size=test_size)\n",
    "    X_test, X_val, y_test, y_val = train_test_split(X_test_val, y_test_val, test_size=0.5)\n",
    "\n",
    "    return X_train, y_train, X_val, y_val, X_test, y_test"
   ]
  },
  {
   "cell_type": "code",
   "execution_count": 189,
   "id": "4439fcb6",
   "metadata": {
    "executionInfo": {
     "elapsed": 3076,
     "status": "ok",
     "timestamp": 1700917482468,
     "user": {
      "displayName": "Matsolo Sokolo",
      "userId": "11566973559157574788"
     },
     "user_tz": -120
    },
    "id": "aaf0a8cb"
   },
   "outputs": [],
   "source": [
    "X_train, y_train, X_val, y_val, X_test, y_test = split_data(pca_data, y, test_size=0.3)\n"
   ]
  },
  {
   "cell_type": "code",
   "execution_count": 190,
   "id": "0b79fad0",
   "metadata": {
    "colab": {
     "base_uri": "https://localhost:8080/"
    },
    "executionInfo": {
     "elapsed": 20,
     "status": "ok",
     "timestamp": 1700917482469,
     "user": {
      "displayName": "Matsolo Sokolo",
      "userId": "11566973559157574788"
     },
     "user_tz": -120
    },
    "id": "aac573f2",
    "outputId": "461487d5-bd7c-4a19-8cc1-056dffe93be8"
   },
   "outputs": [
    {
     "data": {
      "text/plain": [
       "(1191673, 22)"
      ]
     },
     "execution_count": 190,
     "metadata": {},
     "output_type": "execute_result"
    }
   ],
   "source": [
    "X_train.shape"
   ]
  },
  {
   "cell_type": "code",
   "execution_count": 191,
   "id": "860922e3",
   "metadata": {
    "colab": {
     "base_uri": "https://localhost:8080/"
    },
    "executionInfo": {
     "elapsed": 15,
     "status": "ok",
     "timestamp": 1700917482469,
     "user": {
      "displayName": "Matsolo Sokolo",
      "userId": "11566973559157574788"
     },
     "user_tz": -120
    },
    "id": "c09c05fc",
    "outputId": "79ab7cde-1839-42b3-bf3b-a27ab7108c41"
   },
   "outputs": [
    {
     "data": {
      "text/plain": [
       "(1191673,)"
      ]
     },
     "execution_count": 191,
     "metadata": {},
     "output_type": "execute_result"
    }
   ],
   "source": [
    "y_train.shape"
   ]
  },
  {
   "cell_type": "code",
   "execution_count": 192,
   "id": "88ca96d1",
   "metadata": {
    "colab": {
     "base_uri": "https://localhost:8080/"
    },
    "executionInfo": {
     "elapsed": 799,
     "status": "ok",
     "timestamp": 1700917483257,
     "user": {
      "displayName": "Matsolo Sokolo",
      "userId": "11566973559157574788"
     },
     "user_tz": -120
    },
    "id": "8afa6b0a",
    "outputId": "db422fd7-95f0-40e0-a934-cdad6d72ed7f"
   },
   "outputs": [
    {
     "data": {
      "text/plain": [
       "(255359, 22)"
      ]
     },
     "execution_count": 192,
     "metadata": {},
     "output_type": "execute_result"
    }
   ],
   "source": [
    "X_val.shape"
   ]
  },
  {
   "cell_type": "code",
   "execution_count": 193,
   "id": "9b8936ad",
   "metadata": {
    "colab": {
     "base_uri": "https://localhost:8080/"
    },
    "executionInfo": {
     "elapsed": 15,
     "status": "ok",
     "timestamp": 1700917483258,
     "user": {
      "displayName": "Matsolo Sokolo",
      "userId": "11566973559157574788"
     },
     "user_tz": -120
    },
    "id": "43f47de7",
    "outputId": "9c9d217e-c2b0-4470-d3d5-481938badfe7"
   },
   "outputs": [
    {
     "data": {
      "text/plain": [
       "(255359, 22)"
      ]
     },
     "execution_count": 193,
     "metadata": {},
     "output_type": "execute_result"
    }
   ],
   "source": [
    "X_val.shape"
   ]
  },
  {
   "cell_type": "code",
   "execution_count": 209,
   "id": "5348a281",
   "metadata": {
    "colab": {
     "base_uri": "https://localhost:8080/"
    },
    "executionInfo": {
     "elapsed": 3250,
     "status": "ok",
     "timestamp": 1700917486497,
     "user": {
      "displayName": "Matsolo Sokolo",
      "userId": "11566973559157574788"
     },
     "user_tz": -120
    },
    "id": "4276f1cd",
    "outputId": "e83b795c-087c-4932-bfba-96812e554f8c"
   },
   "outputs": [],
   "source": [
    "from tensorflow.keras.optimizers import Adam\n",
    "from tensorflow import keras\n",
    "from tensorflow.keras import layers\n",
    "\n",
    "\n",
    "model = keras.Sequential([\n",
    "    layers.Dense(26, input_shape=(22,), activation='relu',\n",
    "                 kernel_regularizer=keras.regularizers.l2(1e-4)),\n",
    "    layers.BatchNormalization(),\n",
    "    layers.Dense(15, activation='relu',\n",
    "                 kernel_regularizer=keras.regularizers.l2(1e-4),),\n",
    "     \n",
    "\n",
    "\n",
    "    layers.Dense(1, activation='sigmoid')\n",
    "])\n"
   ]
  },
  {
   "cell_type": "code",
   "execution_count": 210,
   "id": "f4b6cf60",
   "metadata": {},
   "outputs": [
    {
     "name": "stdout",
     "output_type": "stream",
     "text": [
      "Model: \"sequential_5\"\n",
      "_________________________________________________________________\n",
      " Layer (type)                Output Shape              Param #   \n",
      "=================================================================\n",
      " dense_15 (Dense)            (None, 26)                598       \n",
      "                                                                 \n",
      " batch_normalization_5 (Bat  (None, 26)                104       \n",
      " chNormalization)                                                \n",
      "                                                                 \n",
      " dense_16 (Dense)            (None, 15)                405       \n",
      "                                                                 \n",
      " dense_17 (Dense)            (None, 1)                 16        \n",
      "                                                                 \n",
      "=================================================================\n",
      "Total params: 1123 (4.39 KB)\n",
      "Trainable params: 1071 (4.18 KB)\n",
      "Non-trainable params: 52 (208.00 Byte)\n",
      "_________________________________________________________________\n"
     ]
    }
   ],
   "source": [
    "\n",
    "from tensorflow.keras.models import Sequential\n",
    "from tensorflow.keras.layers import *\n",
    "from tensorflow.keras.callbacks import ModelCheckpoint\n",
    "from tensorflow.keras.losses import MeanSquaredError\n",
    "from tensorflow.keras.metrics import RootMeanSquaredError\n",
    "from tensorflow.keras.optimizers import Adam\n",
    "model.summary()\n",
    "\n",
    "cp1 = ModelCheckpoint('model1/', save_best_only=True)\n",
    "model.compile(loss=MeanSquaredError(), optimizer=Adam(learning_rate=0.0001), metrics=[RootMeanSquaredError()])"
   ]
  },
  {
   "cell_type": "code",
   "execution_count": null,
   "id": "c9e33cb3",
   "metadata": {
    "colab": {
     "base_uri": "https://localhost:8080/"
    },
    "id": "32c07be7",
    "outputId": "1b20e96b-55e4-4bf8-fac7-2ddb857aeab2"
   },
   "outputs": [
    {
     "name": "stdout",
     "output_type": "stream",
     "text": [
      "Epoch 1/100\n",
      "37239/37240 [============================>.] - ETA: 0s - loss: 0.1320 - root_mean_squared_error: 0.3614\n",
      "Epoch 1: val_loss improved from inf to 0.13016, saving model to saved_models\\audio_classification.hdf5\n",
      "37240/37240 [==============================] - 142s 4ms/step - loss: 0.1320 - root_mean_squared_error: 0.3614 - val_loss: 0.1302 - val_root_mean_squared_error: 0.3589 - lr: 1.0000e-04\n",
      "Epoch 2/100\n",
      "   70/37240 [..............................] - ETA: 1:23 - loss: 0.1395 - root_mean_squared_error: 0.3717"
     ]
    },
    {
     "name": "stderr",
     "output_type": "stream",
     "text": [
      "C:\\ProgramData\\anaconda3\\Lib\\site-packages\\keras\\src\\engine\\training.py:3079: UserWarning:\n",
      "\n",
      "You are saving your model as an HDF5 file via `model.save()`. This file format is considered legacy. We recommend using instead the native Keras format, e.g. `model.save('my_model.keras')`.\n",
      "\n"
     ]
    },
    {
     "name": "stdout",
     "output_type": "stream",
     "text": [
      "37240/37240 [==============================] - ETA: 0s - loss: 0.1313 - root_mean_squared_error: 0.3606\n",
      "Epoch 2: val_loss improved from 0.13016 to 0.12949, saving model to saved_models\\audio_classification.hdf5\n",
      "37240/37240 [==============================] - 149s 4ms/step - loss: 0.1313 - root_mean_squared_error: 0.3606 - val_loss: 0.1295 - val_root_mean_squared_error: 0.3581 - lr: 1.0000e-04\n",
      "Epoch 3/100\n",
      "37240/37240 [==============================] - ETA: 0s - loss: 0.1309 - root_mean_squared_error: 0.3602\n",
      "Epoch 3: val_loss improved from 0.12949 to 0.12943, saving model to saved_models\\audio_classification.hdf5\n",
      "37240/37240 [==============================] - 156s 4ms/step - loss: 0.1309 - root_mean_squared_error: 0.3602 - val_loss: 0.1294 - val_root_mean_squared_error: 0.3581 - lr: 1.0000e-04\n",
      "Epoch 4/100\n",
      "37235/37240 [============================>.] - ETA: 0s - loss: 0.1306 - root_mean_squared_error: 0.3598\n",
      "Epoch 4: val_loss improved from 0.12943 to 0.12895, saving model to saved_models\\audio_classification.hdf5\n",
      "37240/37240 [==============================] - 139s 4ms/step - loss: 0.1306 - root_mean_squared_error: 0.3598 - val_loss: 0.1290 - val_root_mean_squared_error: 0.3575 - lr: 1.0000e-04\n",
      "Epoch 5/100\n",
      "37232/37240 [============================>.] - ETA: 0s - loss: 0.1304 - root_mean_squared_error: 0.3595\n",
      "Epoch 5: val_loss improved from 0.12895 to 0.12875, saving model to saved_models\\audio_classification.hdf5\n",
      "37240/37240 [==============================] - 130s 3ms/step - loss: 0.1304 - root_mean_squared_error: 0.3595 - val_loss: 0.1287 - val_root_mean_squared_error: 0.3573 - lr: 1.0000e-04\n",
      "Epoch 6/100\n",
      "37239/37240 [============================>.] - ETA: 0s - loss: 0.1301 - root_mean_squared_error: 0.3592\n",
      "Epoch 6: val_loss did not improve from 0.12875\n",
      "37240/37240 [==============================] - 125s 3ms/step - loss: 0.1301 - root_mean_squared_error: 0.3592 - val_loss: 0.1288 - val_root_mean_squared_error: 0.3574 - lr: 1.0000e-04\n",
      "Epoch 7/100\n",
      "37232/37240 [============================>.] - ETA: 0s - loss: 0.1300 - root_mean_squared_error: 0.3591\n",
      "Epoch 7: val_loss improved from 0.12875 to 0.12843, saving model to saved_models\\audio_classification.hdf5\n",
      "37240/37240 [==============================] - 152s 4ms/step - loss: 0.1300 - root_mean_squared_error: 0.3591 - val_loss: 0.1284 - val_root_mean_squared_error: 0.3569 - lr: 1.0000e-04\n",
      "Epoch 8/100\n",
      "37227/37240 [============================>.] - ETA: 0s - loss: 0.1299 - root_mean_squared_error: 0.3590\n",
      "Epoch 8: val_loss did not improve from 0.12843\n",
      "37240/37240 [==============================] - 144s 4ms/step - loss: 0.1299 - root_mean_squared_error: 0.3590 - val_loss: 0.1288 - val_root_mean_squared_error: 0.3575 - lr: 1.0000e-04\n",
      "Epoch 9/100\n",
      "37231/37240 [============================>.] - ETA: 0s - loss: 0.1296 - root_mean_squared_error: 0.3587\n",
      "Epoch 9: val_loss improved from 0.12843 to 0.12839, saving model to saved_models\\audio_classification.hdf5\n",
      "37240/37240 [==============================] - 122s 3ms/step - loss: 0.1296 - root_mean_squared_error: 0.3587 - val_loss: 0.1284 - val_root_mean_squared_error: 0.3570 - lr: 1.0000e-04\n",
      "Epoch 10/100\n",
      "37229/37240 [============================>.] - ETA: 0s - loss: 0.1295 - root_mean_squared_error: 0.3586\n",
      "Epoch 10: val_loss did not improve from 0.12839\n",
      "37240/37240 [==============================] - 122s 3ms/step - loss: 0.1295 - root_mean_squared_error: 0.3586 - val_loss: 0.1290 - val_root_mean_squared_error: 0.3578 - lr: 1.0000e-04\n",
      "Epoch 11/100\n",
      "37238/37240 [============================>.] - ETA: 0s - loss: 0.1290 - root_mean_squared_error: 0.3579\n",
      "Epoch 11: val_loss improved from 0.12839 to 0.12784, saving model to saved_models\\audio_classification.hdf5\n",
      "37240/37240 [==============================] - 148s 4ms/step - loss: 0.1290 - root_mean_squared_error: 0.3579 - val_loss: 0.1278 - val_root_mean_squared_error: 0.3563 - lr: 5.0000e-06\n",
      "Epoch 12/100\n",
      "37234/37240 [============================>.] - ETA: 0s - loss: 0.1290 - root_mean_squared_error: 0.3579\n",
      "Epoch 12: val_loss improved from 0.12784 to 0.12780, saving model to saved_models\\audio_classification.hdf5\n",
      "37240/37240 [==============================] - 98s 3ms/step - loss: 0.1290 - root_mean_squared_error: 0.3579 - val_loss: 0.1278 - val_root_mean_squared_error: 0.3562 - lr: 5.0000e-06\n",
      "Epoch 13/100\n",
      "37225/37240 [============================>.] - ETA: 0s - loss: 0.1289 - root_mean_squared_error: 0.3578\n",
      "Epoch 13: val_loss did not improve from 0.12780\n",
      "37240/37240 [==============================] - 97s 3ms/step - loss: 0.1289 - root_mean_squared_error: 0.3578 - val_loss: 0.1279 - val_root_mean_squared_error: 0.3563 - lr: 5.0000e-06\n",
      "Epoch 14/100\n",
      "37232/37240 [============================>.] - ETA: 0s - loss: 0.1289 - root_mean_squared_error: 0.3578\n",
      "Epoch 14: val_loss did not improve from 0.12780\n",
      "37240/37240 [==============================] - 99s 3ms/step - loss: 0.1289 - root_mean_squared_error: 0.3578 - val_loss: 0.1278 - val_root_mean_squared_error: 0.3562 - lr: 5.0000e-06\n",
      "Epoch 15/100\n",
      "37221/37240 [============================>.] - ETA: 0s - loss: 0.1289 - root_mean_squared_error: 0.3578\n",
      "Epoch 15: val_loss improved from 0.12780 to 0.12775, saving model to saved_models\\audio_classification.hdf5\n",
      "37240/37240 [==============================] - 124s 3ms/step - loss: 0.1289 - root_mean_squared_error: 0.3578 - val_loss: 0.1278 - val_root_mean_squared_error: 0.3562 - lr: 2.5000e-07\n",
      "Epoch 16/100\n",
      "37227/37240 [============================>.] - ETA: 0s - loss: 0.1289 - root_mean_squared_error: 0.3577\n",
      "Epoch 16: val_loss did not improve from 0.12775\n",
      "37240/37240 [==============================] - 99s 3ms/step - loss: 0.1289 - root_mean_squared_error: 0.3578 - val_loss: 0.1278 - val_root_mean_squared_error: 0.3562 - lr: 2.5000e-07\n",
      "Epoch 17/100\n",
      "37240/37240 [==============================] - ETA: 0s - loss: 0.1288 - root_mean_squared_error: 0.3577\n",
      "Epoch 17: val_loss did not improve from 0.12775\n",
      "37240/37240 [==============================] - 99s 3ms/step - loss: 0.1288 - root_mean_squared_error: 0.3577 - val_loss: 0.1278 - val_root_mean_squared_error: 0.3562 - lr: 2.5000e-07\n",
      "Epoch 18/100\n",
      "37231/37240 [============================>.] - ETA: 0s - loss: 0.1289 - root_mean_squared_error: 0.3577\n",
      "Epoch 18: val_loss did not improve from 0.12775\n",
      "37240/37240 [==============================] - 85s 2ms/step - loss: 0.1289 - root_mean_squared_error: 0.3577 - val_loss: 0.1278 - val_root_mean_squared_error: 0.3562 - lr: 2.0000e-08\n",
      "Epoch 19/100\n",
      "37231/37240 [============================>.] - ETA: 0s - loss: 0.1289 - root_mean_squared_error: 0.3577\n",
      "Epoch 19: val_loss improved from 0.12775 to 0.12774, saving model to saved_models\\audio_classification.hdf5\n",
      "37240/37240 [==============================] - 91s 2ms/step - loss: 0.1289 - root_mean_squared_error: 0.3577 - val_loss: 0.1277 - val_root_mean_squared_error: 0.3561 - lr: 2.0000e-08\n",
      "Epoch 20/100\n",
      "37238/37240 [============================>.] - ETA: 0s - loss: 0.1289 - root_mean_squared_error: 0.3577\n",
      "Epoch 20: val_loss did not improve from 0.12774\n",
      "37240/37240 [==============================] - 90s 2ms/step - loss: 0.1289 - root_mean_squared_error: 0.3577 - val_loss: 0.1278 - val_root_mean_squared_error: 0.3562 - lr: 2.0000e-08\n",
      "Epoch 21/100\n",
      "37230/37240 [============================>.] - ETA: 0s - loss: 0.1288 - root_mean_squared_error: 0.3577\n",
      "Epoch 21: val_loss did not improve from 0.12774\n",
      "37240/37240 [==============================] - 91s 2ms/step - loss: 0.1288 - root_mean_squared_error: 0.3577 - val_loss: 0.1278 - val_root_mean_squared_error: 0.3562 - lr: 2.0000e-08\n",
      "Epoch 22/100\n",
      "37240/37240 [==============================] - ETA: 0s - loss: 0.1289 - root_mean_squared_error: 0.3577\n",
      "Epoch 22: val_loss improved from 0.12774 to 0.12771, saving model to saved_models\\audio_classification.hdf5\n",
      "37240/37240 [==============================] - 92s 2ms/step - loss: 0.1289 - root_mean_squared_error: 0.3577 - val_loss: 0.1277 - val_root_mean_squared_error: 0.3561 - lr: 2.0000e-08\n",
      "Epoch 23/100\n",
      "14431/37240 [==========>...................] - ETA: 49s - loss: 0.1288 - root_mean_squared_error: 0.3576"
     ]
    }
   ],
   "source": [
    "from tensorflow.keras.callbacks import ModelCheckpoint, EarlyStopping\n",
    "from datetime import datetime\n",
    "\n",
    "\n",
    "num_epochs = 100\n",
    "num_batch_size = 32\n",
    "\n",
    "# Define the EarlyStopping  \n",
    "early_stopping = EarlyStopping(monitor='val_loss', patience=12, restore_best_weights=True)\n",
    "\n",
    "# Reduce learning rate on plateau\n",
    "reduce_lr = tf.keras.callbacks.ReduceLROnPlateau(monitor='val_loss', factor=0.05, patience=3, min_lr=2e-8)\n",
    "\n",
    "checkpointer = ModelCheckpoint(filepath='saved_models/audio_classification.hdf5',\n",
    "                               verbose=1, save_best_only=True)\n",
    "\n",
    "start = datetime.now()\n",
    "\n",
    "model.fit(X_train, y_train,\n",
    "          epochs=num_epochs,\n",
    "          batch_size=num_batch_size, \n",
    "          validation_data=(X_val, y_val),\n",
    "          callbacks=[checkpointer, reduce_lr, early_stopping],\n",
    "          verbose=1)\n",
    "\n",
    "duration = datetime.now() - start\n",
    "print(\"Training completed in time: \", duration)"
   ]
  },
  {
   "cell_type": "code",
   "execution_count": 197,
   "id": "d9bad509",
   "metadata": {
    "id": "63a26b12"
   },
   "outputs": [],
   "source": [
    "history = model.history()\n"
   ]
  },
  {
   "cell_type": "code",
   "execution_count": 198,
   "id": "0b91902e",
   "metadata": {
    "colab": {
     "background_save": true
    },
    "id": "69c2c3bc"
   },
   "outputs": [
    {
     "name": "stdout",
     "output_type": "stream",
     "text": [
      "loss\n",
      "accuracy\n"
     ]
    }
   ],
   "source": [
    "for key in history.keys():\n",
    "    print(key)"
   ]
  },
  {
   "cell_type": "code",
   "execution_count": 96,
   "id": "fda5096f",
   "metadata": {
    "id": "805a5932"
   },
   "outputs": [],
   "source": [
    "def plot_metrics(history):\n",
    "\n",
    "    train_loss = history['loss']\n",
    "    val_loss = history['val_loss']\n",
    "    train_acc = history['accuracy']\n",
    "    val_acc = history['val_accuracy']\n",
    "\n",
    "    # Loss\n",
    "    plt.figure()\n",
    "    plt.plot(train_loss, label='Training Loss')\n",
    "    plt.plot(val_loss, label='Validation Loss')\n",
    "    plt.title('Loss')\n",
    "    plt.legend()\n",
    "    plt.show()\n",
    "\n",
    "\n",
    "    # Accuracy\n",
    "    plt.figure()\n",
    "    plt.plot(train_acc, label='Training Accuracy')\n",
    "    plt.plot(val_acc, label='Validation Accuracy')\n",
    "    plt.title('Accuracy')\n",
    "    plt.legend()\n",
    "    plt.show()\n"
   ]
  },
  {
   "cell_type": "code",
   "execution_count": 97,
   "id": "2e2e10ad",
   "metadata": {
    "collapsed": true,
    "id": "61ef868e"
   },
   "outputs": [
    {
     "ename": "KeyError",
     "evalue": "'loss'",
     "output_type": "error",
     "traceback": [
      "\u001b[1;31m---------------------------------------------------------------------------\u001b[0m",
      "\u001b[1;31mKeyError\u001b[0m                                  Traceback (most recent call last)",
      "Cell \u001b[1;32mIn[97], line 1\u001b[0m\n\u001b[1;32m----> 1\u001b[0m plot_metrics(history)\n",
      "Cell \u001b[1;32mIn[96], line 3\u001b[0m, in \u001b[0;36mplot_metrics\u001b[1;34m(history)\u001b[0m\n\u001b[0;32m      1\u001b[0m \u001b[38;5;28;01mdef\u001b[39;00m \u001b[38;5;21mplot_metrics\u001b[39m(history):\n\u001b[1;32m----> 3\u001b[0m     train_loss \u001b[38;5;241m=\u001b[39m history[\u001b[38;5;124m'\u001b[39m\u001b[38;5;124mloss\u001b[39m\u001b[38;5;124m'\u001b[39m]\n\u001b[0;32m      4\u001b[0m     val_loss \u001b[38;5;241m=\u001b[39m history[\u001b[38;5;124m'\u001b[39m\u001b[38;5;124mval_loss\u001b[39m\u001b[38;5;124m'\u001b[39m]\n\u001b[0;32m      5\u001b[0m     train_acc \u001b[38;5;241m=\u001b[39m history[\u001b[38;5;124m'\u001b[39m\u001b[38;5;124maccuracy\u001b[39m\u001b[38;5;124m'\u001b[39m]\n",
      "\u001b[1;31mKeyError\u001b[0m: 'loss'"
     ]
    }
   ],
   "source": [
    "plot_metrics(history)"
   ]
  },
  {
   "cell_type": "markdown",
   "id": "0e560f50",
   "metadata": {
    "id": "b7af98e9"
   },
   "source": [
    "# testing"
   ]
  },
  {
   "cell_type": "code",
   "execution_count": 199,
   "id": "f072dff7",
   "metadata": {
    "id": "ec830176"
   },
   "outputs": [
    {
     "name": "stdout",
     "output_type": "stream",
     "text": [
      "Test Loss = 0.40168607234954834\n",
      "Test Accuracy = 0.818952202796936\n"
     ]
    }
   ],
   "source": [
    "loss, acc =model.evaluate(X_test,y_test,verbose=0)\n",
    "print (f\"Test Loss = {loss}\")\n",
    "print (f\"Test Accuracy = {acc}\")"
   ]
  },
  {
   "cell_type": "code",
   "execution_count": 213,
   "id": "3eebb623",
   "metadata": {
    "id": "38fbf8da"
   },
   "outputs": [
    {
     "name": "stdout",
     "output_type": "stream",
     "text": [
      "7980/7980 [==============================] - 18s 2ms/step\n"
     ]
    },
    {
     "data": {
      "text/plain": [
       "array([[0.58824223],\n",
       "       [0.82651526],\n",
       "       [0.92355853],\n",
       "       [0.00381807],\n",
       "       [0.32663643]], dtype=float32)"
      ]
     },
     "execution_count": 213,
     "metadata": {},
     "output_type": "execute_result"
    }
   ],
   "source": [
    "predictions =model.predict(X_test)\n",
    "predictions[:5]"
   ]
  },
  {
   "cell_type": "code",
   "execution_count": 214,
   "id": "7f21578e",
   "metadata": {
    "id": "bb743991"
   },
   "outputs": [],
   "source": [
    "y_pred = []\n",
    "for element in predictions:\n",
    "    if element > 0.5:\n",
    "        y_pred.append(1)\n",
    "    else:\n",
    "        y_pred.append(0)"
   ]
  },
  {
   "cell_type": "code",
   "execution_count": 215,
   "id": "0a41ccd8",
   "metadata": {
    "id": "733797ab"
   },
   "outputs": [
    {
     "data": {
      "text/plain": [
       "[1, 1, 1, 0, 0, 1, 1, 0, 0, 0, 0, 1, 1, 1, 0, 1, 1, 1, 1, 1]"
      ]
     },
     "execution_count": 215,
     "metadata": {},
     "output_type": "execute_result"
    }
   ],
   "source": [
    "y_pred[:20]\n"
   ]
  },
  {
   "cell_type": "code",
   "execution_count": 216,
   "id": "ca0f2e7a",
   "metadata": {
    "id": "a0d6111b"
   },
   "outputs": [
    {
     "data": {
      "text/plain": [
       "1543765    1\n",
       "230171     1\n",
       "719541     1\n",
       "1661615    0\n",
       "1611695    0\n",
       "1091063    1\n",
       "62942      1\n",
       "1376539    0\n",
       "151906     0\n",
       "1131859    0\n",
       "1132116    0\n",
       "1134915    1\n",
       "414897     1\n",
       "866189     1\n",
       "926225     0\n",
       "18615      0\n",
       "250658     1\n",
       "385603     1\n",
       "1673660    0\n",
       "415090     1\n",
       "Name: Target, dtype: int64"
      ]
     },
     "execution_count": 216,
     "metadata": {},
     "output_type": "execute_result"
    }
   ],
   "source": [
    "y_test[:20]\n"
   ]
  },
  {
   "cell_type": "code",
   "execution_count": 217,
   "id": "4c4f3327",
   "metadata": {
    "id": "bd516241"
   },
   "outputs": [
    {
     "name": "stdout",
     "output_type": "stream",
     "text": [
      "              precision    recall  f1-score   support\n",
      "\n",
      "           0       0.84      0.78      0.81    127697\n",
      "           1       0.80      0.85      0.82    127661\n",
      "\n",
      "    accuracy                           0.82    255358\n",
      "   macro avg       0.82      0.82      0.82    255358\n",
      "weighted avg       0.82      0.82      0.82    255358\n",
      "\n"
     ]
    }
   ],
   "source": [
    "from sklearn.metrics import confusion_matrix , classification_report\n",
    "\n",
    "print(classification_report(y_test,y_pred))"
   ]
  },
  {
   "cell_type": "code",
   "execution_count": 218,
   "id": "b7367508",
   "metadata": {
    "id": "f45f7e95"
   },
   "outputs": [
    {
     "data": {
      "text/plain": [
       "Text(95.72222222222221, 0.5, 'Truth')"
      ]
     },
     "execution_count": 218,
     "metadata": {},
     "output_type": "execute_result"
    },
    {
     "data": {
      "image/png": "[encoded data removed]",
      "text/plain": [
       "<Figure size 1000x700 with 2 Axes>"
      ]
     },
     "metadata": {},
     "output_type": "display_data"
    }
   ],
   "source": [
    "import seaborn as sn\n",
    "cm = tf.math.confusion_matrix(labels=y_test,predictions=y_pred)\n",
    "\n",
    "plt.figure(figsize = (10,7))\n",
    "sn.heatmap(cm, annot=True, fmt='d')\n",
    "plt.xlabel('Predicted')\n",
    "plt.ylabel('Truth')"
   ]
  },
  {
   "cell_type": "markdown",
   "id": "175d2bb9",
   "metadata": {
    "id": "ac47d2e4"
   },
   "source": [
    "# saving"
   ]
  },
  {
   "cell_type": "code",
   "execution_count": 206,
   "id": "bcbd4618",
   "metadata": {
    "id": "c6305833"
   },
   "outputs": [
    {
     "name": "stderr",
     "output_type": "stream",
     "text": [
      "C:\\ProgramData\\anaconda3\\Lib\\site-packages\\keras\\src\\engine\\training.py:3079: UserWarning:\n",
      "\n",
      "You are saving your model as an HDF5 file via `model.save()`. This file format is considered legacy. We recommend using instead the native Keras format, e.g. `model.save('my_model.keras')`.\n",
      "\n"
     ]
    }
   ],
   "source": [
    "import datetime\n",
    "\n",
    "# Get the current date and time as a string\n",
    "current_time = datetime.datetime.now().strftime(\"%Y%m%d%H%M%S\")\n",
    "\n",
    "# Construct the filename with the current time\n",
    "model_name = f\"D:/big data/practice/sasol_user_retention/model_{current_time}.h5\"\n",
    "\n",
    "# Save the model with the filename\n",
    "model.save(model_name)\n"
   ]
  },
  {
   "cell_type": "code",
   "execution_count": null,
   "id": "0b8fc7c3",
   "metadata": {
    "id": "aba23a6a"
   },
   "outputs": [],
   "source": []
  }
 ],
 "metadata": {
  "accelerator": "GPU",
  "colab": {
   "name": "",
   "version": ""
  },
  "kernelspec": {
   "display_name": "Python 3 (ipykernel)",
   "language": "python",
   "name": "python3"
  },
  "language_info": {
   "codemirror_mode": {
    "name": "ipython",
    "version": 3
   },
   "file_extension": ".py",
   "mimetype": "text/x-python",
   "name": "python",
   "nbconvert_exporter": "python",
   "pygments_lexer": "ipython3",
   "version": "3.11.5"
  }
 },
 "nbformat": 4,
 "nbformat_minor": 5
}
